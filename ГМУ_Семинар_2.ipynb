{
  "nbformat": 4,
  "nbformat_minor": 0,
  "metadata": {
    "colab": {
      "provenance": []
    },
    "kernelspec": {
      "name": "python3",
      "display_name": "Python 3"
    },
    "language_info": {
      "name": "python"
    }
  },
  "cells": [
    {
      "cell_type": "markdown",
      "source": [
        "# Повторение предыдущего семинара"
      ],
      "metadata": {
        "id": "WEs-GxJQHNg3"
      }
    },
    {
      "cell_type": "markdown",
      "source": [
        "## Задача 1\n",
        "\n",
        "Реализуйте следующую программу:\n",
        "\n",
        "На первой строке вводится имя человека (строка).\n",
        "Затем вводится текущий возраст человека (целое число).\n",
        "Программа должна вывести фразу вида<br>'Человеку по имени <ИМЯ> через год исполнится <ВОЗРАСТ ЧЕРЕЗ ГОД> лет!'.<br>\n",
        "Важно! В коде обязательно нужно использовать f-строку!"
      ],
      "metadata": {
        "id": "NzxyJg2NHRo-"
      }
    },
    {
      "cell_type": "code",
      "source": [
        "name = input()\n",
        "age = int(input()) + 1\n",
        "print(f'Человеку по имени {name} через год исполнится {age} лет!')"
      ],
      "metadata": {
        "id": "kASmmfp9HNE3",
        "colab": {
          "base_uri": "https://localhost:8080/"
        },
        "outputId": "699db61e-7548-46fd-e67c-d463365b9584"
      },
      "execution_count": null,
      "outputs": [
        {
          "output_type": "stream",
          "name": "stdout",
          "text": [
            "Коля\n",
            "10\n",
            "Человеку по имени Коля через год исполнится 10 лет!\n"
          ]
        }
      ]
    },
    {
      "cell_type": "code",
      "source": [
        "\"4\" + \"2\""
      ],
      "metadata": {
        "colab": {
          "base_uri": "https://localhost:8080/",
          "height": 35
        },
        "id": "_EaDEybnqX9-",
        "outputId": "feb9b914-5bc2-406b-f682-07aafcdcf43b"
      },
      "execution_count": null,
      "outputs": [
        {
          "output_type": "execute_result",
          "data": {
            "text/plain": [
              "'42'"
            ],
            "application/vnd.google.colaboratory.intrinsic+json": {
              "type": "string"
            }
          },
          "metadata": {},
          "execution_count": 3
        }
      ]
    },
    {
      "cell_type": "markdown",
      "source": [
        "## Задача 2"
      ],
      "metadata": {
        "id": "BxQ6ODS_Hr8X"
      }
    },
    {
      "cell_type": "markdown",
      "source": [
        "Реализуйте следующую программу:\n",
        "\n",
        "На первой строке вводится слово.\n",
        "Затем вводится последовательность букв.\n",
        "Программа должна проверять, что слово начинается с введенной последовательности букв (подстроки) и при этом состоит более чем из 5 символов, и если да, то печатать фразу \"Подходит\". Эта строка сохранена для вас в переменную ok.\n",
        "В остальных случаях программа печатает фразу \"Что-то не так\". Эта строка сохранена для вас в переменную not_ok."
      ],
      "metadata": {
        "id": "T2rZaYXIHurs"
      }
    },
    {
      "cell_type": "code",
      "source": [
        "ok = 'Подходит'\n",
        "not_ok = 'Что-то не так'\n",
        "\n",
        "word = input()\n",
        "sequence = input()\n",
        "\n",
        "if word[:len(sequence)+1]==sequence:\n",
        "  print(ok)\n",
        "else:\n",
        "  print(not_ok)"
      ],
      "metadata": {
        "id": "RZEH4mSTHuDl"
      },
      "execution_count": null,
      "outputs": []
    },
    {
      "cell_type": "markdown",
      "source": [
        "# Семинар 3. Цикл while"
      ],
      "metadata": {
        "id": "-eC2UxQ65Iui"
      }
    },
    {
      "cell_type": "markdown",
      "source": [
        "## Зачем"
      ],
      "metadata": {
        "id": "iHYmZwIb5MTL"
      }
    },
    {
      "cell_type": "markdown",
      "source": [
        "Возможно вы где-то слышали про циклы - они позволяют повторять блок кода несколько раз. Сегодня мы рассмотрим один из возможных циклов - `while`, который позволяет выполнять блок кода до тех пор, пока не будет выполнено определенное условие.\n",
        "\n",
        "Циклы while могут использоваться в широком спектре задач, начиная от перебора букв в слове (или, *спойлер следующего семинара*, значений в списке) и вплоть до обработки полученных от пользователя вашей программы, данных. Неверное условие в цикле может привести к очень интересным результатам (например, к бесконечному циклу), на которые мы с вами так же сегодня посмотрим."
      ],
      "metadata": {
        "id": "zzLy4hcT59ZC"
      }
    },
    {
      "cell_type": "markdown",
      "source": [
        "Пример программы без цикла.<br>\n",
        "Задача: выведите на каждой строке числа от 0 до 7."
      ],
      "metadata": {
        "id": "ITirla2CWlDV"
      }
    },
    {
      "cell_type": "code",
      "source": [
        "print(f'Число: 0')\n",
        "print(f'Число: 1')\n",
        "print(f'Число: 2')\n",
        "print(f'Число: 3')\n",
        "print(f'Число: 4')\n",
        "print(f'Число: 5')\n",
        "print(f'Число: 6')\n",
        "print(f'Число: 7')"
      ],
      "metadata": {
        "colab": {
          "base_uri": "https://localhost:8080/"
        },
        "id": "aQy5TcBMWwQ2",
        "outputId": "988ecfb0-3bba-4a73-cb84-4aae689fb590"
      },
      "execution_count": null,
      "outputs": [
        {
          "output_type": "stream",
          "name": "stdout",
          "text": [
            "Число: 0\n",
            "Число: 1\n",
            "Число: 2\n",
            "Число: 3\n",
            "Число: 4\n",
            "Число: 5\n",
            "Число: 6\n",
            "Число: 7\n"
          ]
        }
      ]
    },
    {
      "cell_type": "markdown",
      "source": [
        "Решение с использованием цикла:"
      ],
      "metadata": {
        "id": "JoOetvOgJaxz"
      }
    },
    {
      "cell_type": "code",
      "source": [
        "a = 0\n",
        "a = a + 7\n",
        "print(a)"
      ],
      "metadata": {
        "colab": {
          "base_uri": "https://localhost:8080/"
        },
        "id": "tLBN8Dq2sanH",
        "outputId": "18e05bb8-dad4-461b-9caf-f10f4747b25d"
      },
      "execution_count": null,
      "outputs": [
        {
          "output_type": "stream",
          "name": "stdout",
          "text": [
            "7\n"
          ]
        }
      ]
    },
    {
      "cell_type": "code",
      "source": [
        "a = 0\n",
        "a += 7\n",
        "print(a)"
      ],
      "metadata": {
        "colab": {
          "base_uri": "https://localhost:8080/"
        },
        "id": "BuhEoc15skzx",
        "outputId": "fbb9f637-749d-49d2-a998-b761cebf862a"
      },
      "execution_count": null,
      "outputs": [
        {
          "output_type": "stream",
          "name": "stdout",
          "text": [
            "7\n"
          ]
        }
      ]
    },
    {
      "cell_type": "code",
      "source": [
        "a = 2\n",
        "a *= 7\n",
        "print(a)"
      ],
      "metadata": {
        "colab": {
          "base_uri": "https://localhost:8080/"
        },
        "id": "lCfe6l3hsovE",
        "outputId": "cafec9e9-e4ed-4fc0-cbed-1733d837c746"
      },
      "execution_count": null,
      "outputs": [
        {
          "output_type": "stream",
          "name": "stdout",
          "text": [
            "14\n"
          ]
        }
      ]
    },
    {
      "cell_type": "code",
      "source": [
        "a = 2\n",
        "a -= 7\n",
        "print(a)"
      ],
      "metadata": {
        "colab": {
          "base_uri": "https://localhost:8080/"
        },
        "id": "5MfyVWv6ssyX",
        "outputId": "0af5fe65-30c0-4bc4-8d20-53705f81e54d"
      },
      "execution_count": null,
      "outputs": [
        {
          "output_type": "stream",
          "name": "stdout",
          "text": [
            "-5\n"
          ]
        }
      ]
    },
    {
      "cell_type": "code",
      "source": [
        "i =0\n",
        "while i<=7:\n",
        "    print(i)\n",
        "    i+=1"
      ],
      "metadata": {
        "id": "W8qpuLdXJdVW",
        "colab": {
          "base_uri": "https://localhost:8080/"
        },
        "outputId": "e29c3d05-2f84-4973-8306-11f8e9cd611b"
      },
      "execution_count": null,
      "outputs": [
        {
          "output_type": "stream",
          "name": "stdout",
          "text": [
            "0\n",
            "1\n",
            "2\n",
            "3\n",
            "4\n",
            "5\n",
            "6\n",
            "7\n"
          ]
        }
      ]
    },
    {
      "cell_type": "markdown",
      "source": [
        "\n",
        "## Синтаксис и структура"
      ],
      "metadata": {
        "id": "Ldc0ATYn5OIr"
      }
    },
    {
      "cell_type": "markdown",
      "source": [
        "![image.png](data:image/png;base64,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)"
      ],
      "metadata": {
        "id": "_cFdP8NnfEUh"
      }
    },
    {
      "cell_type": "markdown",
      "source": [
        "### Базовая структура цикла while\n",
        "\n",
        "Для определения цикла используем слово while и условие, при истинности которого, тело цикла будет выполняться (до тех пор, пока условие не перестанет быть истинным)"
      ],
      "metadata": {
        "id": "Yxr53F3o6DPF"
      }
    },
    {
      "cell_type": "code",
      "source": [
        "i = 1\n",
        "while i <= 5:\n",
        "    print(i)\n",
        "    i += 1"
      ],
      "metadata": {
        "colab": {
          "base_uri": "https://localhost:8080/"
        },
        "id": "WSCEhuz16F2j",
        "outputId": "03027566-0aa5-43f1-d4d2-321eb0f80dce"
      },
      "execution_count": null,
      "outputs": [
        {
          "output_type": "stream",
          "name": "stdout",
          "text": [
            "1\n",
            "2\n",
            "3\n",
            "4\n",
            "5\n"
          ]
        }
      ]
    },
    {
      "cell_type": "markdown",
      "source": [
        "### Использование break и continue для управления итерациями\n",
        "\n",
        "`break` используется, если вам необходимо немедлено завершить цикл while, из тела которого он был вызван (это важно, так как циклы могут быть вложенными).\n",
        "\n",
        "`continue` используется, если вам необходимо завершить лишь текущую итерацию и сказать питону (окей, достаточно на этой итерации, давай следующую)"
      ],
      "metadata": {
        "id": "agH8glSp6JFe"
      }
    },
    {
      "cell_type": "markdown",
      "source": [
        "Пример с break:"
      ],
      "metadata": {
        "id": "9bP8m55Q6dQn"
      }
    },
    {
      "cell_type": "code",
      "source": [
        "i = 1\n",
        "while True:\n",
        "    print(i)\n",
        "    i += 1\n",
        "    if i > 5:\n",
        "        break"
      ],
      "metadata": {
        "colab": {
          "base_uri": "https://localhost:8080/"
        },
        "id": "Od0_f7x76K8z",
        "outputId": "0abac5cd-ca51-49de-f0b5-19cb2b750bb1"
      },
      "execution_count": null,
      "outputs": [
        {
          "output_type": "stream",
          "name": "stdout",
          "text": [
            "1\n",
            "2\n",
            "3\n",
            "4\n",
            "5\n"
          ]
        }
      ]
    },
    {
      "cell_type": "markdown",
      "source": [
        "Пример с continue:"
      ],
      "metadata": {
        "id": "0h472pFs6fQB"
      }
    },
    {
      "cell_type": "code",
      "source": [
        "i = 1\n",
        "while i <= 5:\n",
        "    if i == 3:\n",
        "        i += 1\n",
        "        continue\n",
        "    print(i)\n",
        "    i += 1"
      ],
      "metadata": {
        "id": "54xFqdEF6N8q",
        "colab": {
          "base_uri": "https://localhost:8080/"
        },
        "outputId": "58654e44-edcb-4945-8343-c764fc335a50"
      },
      "execution_count": null,
      "outputs": [
        {
          "output_type": "stream",
          "name": "stdout",
          "text": [
            "1\n",
            "2\n",
            "4\n",
            "5\n"
          ]
        }
      ]
    },
    {
      "cell_type": "markdown",
      "source": [
        "### Возможные подводные камни\n",
        "\n",
        "* Если условние никогда не станет ложным, то и цикл while будет исполняться вечно (если считаете что-то ресурсоемкое, то ваш комп скорее всего зависнет, так что осторожнее)\n",
        "* Еще одна рспространенная ошибка, это когда условие не совсем корректно определено и цикл выполняется либо слишком много раз, либо, наоборот меньше, чем должен"
      ],
      "metadata": {
        "id": "CFXhX-bW6QFI"
      }
    },
    {
      "cell_type": "markdown",
      "source": [
        "Пример, бесконечный цикл"
      ],
      "metadata": {
        "id": "tUk0IPWf6h5u"
      }
    },
    {
      "cell_type": "code",
      "source": [
        "i = 1\n",
        "while i <= 5:\n",
        "    print(i)"
      ],
      "metadata": {
        "id": "riVRWSZ_6R4h"
      },
      "execution_count": null,
      "outputs": []
    },
    {
      "cell_type": "markdown",
      "source": [
        "Пример, цикл выполняется меньше, чем мы хотим (хотим, чтобы цикл вывел числа от 0 до 5 включительно)"
      ],
      "metadata": {
        "id": "6bQVMtMk6j2O"
      }
    },
    {
      "cell_type": "code",
      "source": [
        "i = 0\n",
        "while i < 5:\n",
        "    print(i)\n",
        "    i += 1"
      ],
      "metadata": {
        "colab": {
          "base_uri": "https://localhost:8080/"
        },
        "id": "m1r7ETW_6WQL",
        "outputId": "5b3d5d9a-87eb-4abc-d419-3a0fe94b2a6c"
      },
      "execution_count": null,
      "outputs": [
        {
          "output_type": "stream",
          "name": "stdout",
          "text": [
            "0\n",
            "1\n",
            "2\n",
            "3\n",
            "4\n",
            "5\n"
          ]
        }
      ]
    },
    {
      "cell_type": "markdown",
      "source": [
        "## Как использовать"
      ],
      "metadata": {
        "id": "mZh0vv4S5Rgy"
      }
    },
    {
      "cell_type": "markdown",
      "source": [
        "### Повторение блока фиксированное число раз"
      ],
      "metadata": {
        "id": "lJ6ma0ji9XeC"
      }
    },
    {
      "cell_type": "code",
      "source": [
        "count = 0\n",
        "while count < 10:\n",
        "    print(\"Hello, world!\")\n",
        "    count += 1"
      ],
      "metadata": {
        "colab": {
          "base_uri": "https://localhost:8080/"
        },
        "id": "xRBoZ5vo9ZFK",
        "outputId": "cc013913-efc4-4fc4-f76e-019b8338dd09"
      },
      "execution_count": null,
      "outputs": [
        {
          "output_type": "stream",
          "name": "stdout",
          "text": [
            "Hello, world!\n",
            "Hello, world!\n",
            "Hello, world!\n",
            "Hello, world!\n",
            "Hello, world!\n",
            "Hello, world!\n",
            "Hello, world!\n",
            "Hello, world!\n",
            "Hello, world!\n",
            "Hello, world!\n"
          ]
        }
      ]
    },
    {
      "cell_type": "markdown",
      "source": [
        "### Повторение блока до тех пор, пока не наступит интересующее нас условие"
      ],
      "metadata": {
        "id": "myhUTqrs9bmX"
      }
    },
    {
      "cell_type": "code",
      "source": [
        "balance = 1000\n",
        "interest_rate = 0.2\n",
        "years = 0\n",
        "while balance < 2000:\n",
        "    balance *= 1 + interest_rate\n",
        "\n",
        "    years += 1\n",
        "print(f\"It will take {years} years for the balance to double.\")"
      ],
      "metadata": {
        "colab": {
          "base_uri": "https://localhost:8080/"
        },
        "id": "_bD5r0RT9cA7",
        "outputId": "8d09e3f5-ff06-4465-9176-097d20df9677"
      },
      "execution_count": null,
      "outputs": [
        {
          "output_type": "stream",
          "name": "stdout",
          "text": [
            "It will take 4 years for the balance to double.\n"
          ]
        }
      ]
    },
    {
      "cell_type": "markdown",
      "source": [
        "### Обработка входных данных от пользователя\n",
        "\n",
        "Цикл while можно использовать для повторения запросов к пользователю, если тот вводит некорректные данные. Тут условием повторения цикла будет ввод ошибочных данных"
      ],
      "metadata": {
        "id": "4-Wt4LDt9LaL"
      }
    },
    {
      "cell_type": "markdown",
      "source": [
        "Пример валидации:"
      ],
      "metadata": {
        "id": "GBqu0enFDf53"
      }
    },
    {
      "cell_type": "code",
      "source": [
        "while True:\n",
        "    user_input = input(\"Please enter a number: \")\n",
        "    if user_input.isdigit():\n",
        "        print(\"You entered:\", int(user_input))\n",
        "        break\n",
        "    else:\n",
        "        print(\"Invalid input, please try again.\")"
      ],
      "metadata": {
        "colab": {
          "base_uri": "https://localhost:8080/"
        },
        "id": "IJIzIVqd9NLu",
        "outputId": "4077c19e-cf7e-4497-aafd-833763426d2e"
      },
      "execution_count": null,
      "outputs": [
        {
          "output_type": "stream",
          "name": "stdout",
          "text": [
            "Please enter a number: t\n",
            "Invalid input, please try again.\n",
            "Please enter a number: x\n",
            "Invalid input, please try again.\n",
            "Please enter a number: c\n",
            "Invalid input, please try again.\n",
            "Please enter a number: 42\n",
            "You entered: 42\n"
          ]
        }
      ]
    },
    {
      "cell_type": "markdown",
      "source": [
        "Еще один пример валидации с более сложным условием проверки"
      ],
      "metadata": {
        "id": "I2vOJgz2Dimy"
      }
    },
    {
      "cell_type": "code",
      "source": [
        "valid_input = False\n",
        "while not valid_input:\n",
        "    age_str = input(\"Enter your age: \")\n",
        "    if age_str.isdigit():\n",
        "        age = int(age_str)\n",
        "        if age >= 0 and age <= 120:\n",
        "            valid_input = True\n",
        "        else:\n",
        "            print(\"Invalid age, please enter a number between 0 and 120.\")\n",
        "    else:\n",
        "        print(\"Invalid input, please enter a number.\")\n",
        "print(\"Your age is:\", age)"
      ],
      "metadata": {
        "colab": {
          "base_uri": "https://localhost:8080/"
        },
        "id": "DUYjhrwA9iq-",
        "outputId": "0f3a02cc-f5e3-464c-8e48-737696be5dde"
      },
      "execution_count": null,
      "outputs": [
        {
          "output_type": "stream",
          "name": "stdout",
          "text": [
            "Enter your age: jhgjhgjh\n",
            "Invalid input, please enter a number.\n",
            "Enter your age: 46546546\n",
            "Invalid age, please enter a number between 0 and 120.\n",
            "Enter your age: 23\n",
            "Your age is: 23\n"
          ]
        }
      ]
    },
    {
      "cell_type": "markdown",
      "source": [
        "Пример на валидацию с ограниченным набором команд"
      ],
      "metadata": {
        "id": "W0Td9qzo9PIw"
      }
    },
    {
      "cell_type": "code",
      "source": [
        "user_input = \"\"\n",
        "while user_input != \"quit\":\n",
        "    user_input = input(\"Please enter a command (type 'quit' to exit): \")\n",
        "    if user_input == \"help\":\n",
        "        print(\"This program is a simple calculator.\")\n",
        "    elif user_input == \"calculate\":\n",
        "        print(\"Performing calculations...\")\n",
        "    elif user_input != \"quit\":\n",
        "        print(\"Invalid command, please try again.\")"
      ],
      "metadata": {
        "colab": {
          "base_uri": "https://localhost:8080/"
        },
        "id": "vMhVX0F49RIF",
        "outputId": "824c568b-34dc-4a99-bebd-81cf77295bfe"
      },
      "execution_count": null,
      "outputs": [
        {
          "name": "stdout",
          "output_type": "stream",
          "text": [
            "Please enter a command (type 'quit' to exit): Quit\n",
            "Invalid command, please try again.\n",
            "Please enter a command (type 'quit' to exit): quit\n"
          ]
        }
      ]
    },
    {
      "cell_type": "markdown",
      "source": [
        "## Где можно сломать ногу"
      ],
      "metadata": {
        "id": "ipOQ9bz95WZA"
      }
    },
    {
      "cell_type": "markdown",
      "source": [
        "### Бесконечные циклы\n",
        "\n",
        "Еще разок про бесконечные циклы. При непреднамеренном \"зацикливании\" программы, можно получить крайне неприятные результаты: получить зависнувший компьютер, заполнить ваш диск до нуля некорректными файлами, атаковать базу данных на работе и \"повесить\" ее и т.д.\n",
        "\n",
        "Для того, чтобы это избежать, ВСЕГДА продумывайте, каким образом условие вашего цикла whlie станет ложным и делайте соответствующие проверки.\n",
        "\n",
        "Иногда полезно ограничивать количество возможных итераций дабы избежать бесконечных циклов в принципе. Это достигается путем ведения счетчика итераций и использования оператора `break`"
      ],
      "metadata": {
        "id": "Hmatk9ge9rwh"
      }
    },
    {
      "cell_type": "markdown",
      "source": [
        "Пример бесконечного цикла"
      ],
      "metadata": {
        "id": "4yHy6ZpyFeZX"
      }
    },
    {
      "cell_type": "code",
      "source": [
        "i = 0\n",
        "while i < 5:\n",
        "    print(i)\n"
      ],
      "metadata": {
        "id": "9k6oprUO9s98"
      },
      "execution_count": null,
      "outputs": []
    },
    {
      "cell_type": "markdown",
      "source": [
        "Исправленный вариант"
      ],
      "metadata": {
        "id": "d6CPRkI19y3K"
      }
    },
    {
      "cell_type": "code",
      "source": [
        "i = 0\n",
        "while i < 5:\n",
        "    print(i)\n",
        "    i += 1\n"
      ],
      "metadata": {
        "colab": {
          "base_uri": "https://localhost:8080/"
        },
        "id": "XJom329X9yEI",
        "outputId": "58ae41bc-8bfc-4329-b4c0-d4dd75ab08fa"
      },
      "execution_count": null,
      "outputs": [
        {
          "output_type": "stream",
          "name": "stdout",
          "text": [
            "0\n",
            "1\n",
            "2\n",
            "3\n",
            "4\n"
          ]
        }
      ]
    },
    {
      "cell_type": "markdown",
      "source": [
        "### Используйте понятные условия\n",
        "\n",
        "Если условие будет запутанным и непонятным, то велика вероятность, что это приведет к некорректной работе вашей программы. Разбивайте условия на более мелкие и очевидные. Программирование должно быть максимально простым, чтение кода должно быть таким же простым, только в таком случае ваша программа будет максимально устойчива к падениям и ошибкам"
      ],
      "metadata": {
        "id": "ZwTN35Fb9113"
      }
    },
    {
      "cell_type": "markdown",
      "source": [
        "Пример хорошего условия"
      ],
      "metadata": {
        "id": "X_0QqvUxF9FF"
      }
    },
    {
      "cell_type": "code",
      "source": [
        "num = 1\n",
        "while num <= 10:\n",
        "    print(num)\n",
        "    num += 1\n"
      ],
      "metadata": {
        "colab": {
          "base_uri": "https://localhost:8080/"
        },
        "id": "iHiebmAW93OT",
        "outputId": "220f3d28-cea8-4e54-f1ff-9782ef46600a"
      },
      "execution_count": null,
      "outputs": [
        {
          "output_type": "stream",
          "name": "stdout",
          "text": [
            "1\n",
            "2\n",
            "3\n",
            "4\n",
            "5\n",
            "6\n",
            "7\n",
            "8\n",
            "9\n",
            "10\n"
          ]
        }
      ]
    },
    {
      "cell_type": "markdown",
      "source": [
        "Пример сложного условия (попробуйте разбить на более мелкие условия)"
      ],
      "metadata": {
        "id": "XpCl0STz95R_"
      }
    },
    {
      "cell_type": "code",
      "source": [
        "num = 3\n",
        "\n",
        "odd_less_than_10 = num % 2 != 0 and num < 10\n",
        "multple_of_5_greater_than_5 = num % 5 == 0 and num > 5\n",
        "\n",
        "while odd_less_than_10 or multple_of_5_greater_than_5:\n",
        "    print(num)\n",
        "    num += 1\n",
        "\n",
        "    odd_less_than_10 = num % 2 != 0 and num < 10\n",
        "    multple_of_5_greater_than_5 = num % 5 == 0 and num > 5"
      ],
      "metadata": {
        "colab": {
          "base_uri": "https://localhost:8080/"
        },
        "id": "XLkgvCQw96wV",
        "outputId": "8b1a1480-4dbc-469e-983d-9f1b58afb957"
      },
      "execution_count": null,
      "outputs": [
        {
          "output_type": "stream",
          "name": "stdout",
          "text": [
            "3\n"
          ]
        }
      ]
    },
    {
      "cell_type": "markdown",
      "source": [
        "### Используйте break и continue обдуманно\n",
        "\n",
        "Эти два оператора могут быть не самыми очевидными для первого понимания. Но они могут затруднить чтение кода и для более опытных программистов. Поэтому использовать их нужно тогда, когда вы реально понимаете, что делаете"
      ],
      "metadata": {
        "id": "ClEPuaNI98ub"
      }
    },
    {
      "cell_type": "markdown",
      "source": [
        "Пример break"
      ],
      "metadata": {
        "id": "z3rJ-t6YGy8f"
      }
    },
    {
      "cell_type": "code",
      "source": [
        "i = 0\n",
        "while i < 10:\n",
        "    if i == 5:\n",
        "        break\n",
        "    print(i)\n",
        "    i += 1\n"
      ],
      "metadata": {
        "colab": {
          "base_uri": "https://localhost:8080/"
        },
        "id": "z54RoRUl9-Nc",
        "outputId": "6213281f-7490-48c8-e658-be214b81cf97"
      },
      "execution_count": null,
      "outputs": [
        {
          "output_type": "stream",
          "name": "stdout",
          "text": [
            "0\n",
            "1\n",
            "2\n",
            "3\n",
            "4\n"
          ]
        }
      ]
    },
    {
      "cell_type": "markdown",
      "source": [
        "Пример continue"
      ],
      "metadata": {
        "id": "ETDcMjDn9_pH"
      }
    },
    {
      "cell_type": "code",
      "source": [
        "i = 0\n",
        "while i < 5:\n",
        "    i += 1\n",
        "    if i % 2 == 0:\n",
        "        continue\n",
        "    print(i)\n"
      ],
      "metadata": {
        "colab": {
          "base_uri": "https://localhost:8080/"
        },
        "id": "q_GL5oEZ-Ari",
        "outputId": "dff53d31-d85d-4230-ded9-ebefcc475287"
      },
      "execution_count": null,
      "outputs": [
        {
          "output_type": "stream",
          "name": "stdout",
          "text": [
            "1\n",
            "3\n",
            "5\n"
          ]
        }
      ]
    },
    {
      "cell_type": "markdown",
      "source": [
        "## Задания"
      ],
      "metadata": {
        "id": "RyEJO-5B-h_n"
      }
    },
    {
      "cell_type": "markdown",
      "source": [
        "0. Реализуйте программу, определяющую, сколько нечетных чисел было введено:\n",
        "\n",
        "В цикле while считываются целые числа до тех пор, пока не введен 0.\n",
        "\n",
        "Для каждого вводимого числа проверьте, является ли оно четным.\n",
        "\n",
        "Гарантируется, что до 0 будет введено как минимум одно число.\n",
        "\n",
        "В конце напечатайте целое число — количество нечетных чисел."
      ],
      "metadata": {
        "id": "iutHD6Y5afAR"
      }
    },
    {
      "cell_type": "code",
      "source": [
        "number = 1\n",
        "count = 0\n",
        "while number !=0:\n",
        "    number = int(input())\n",
        "    if number % 2 !=0:\n",
        "        count += 1\n",
        "print(f'Количество: {count}')"
      ],
      "metadata": {
        "id": "T_vu-pZqak0a",
        "colab": {
          "base_uri": "https://localhost:8080/"
        },
        "outputId": "6e3ee9da-c077-466e-a869-574e5b64906d"
      },
      "execution_count": null,
      "outputs": [
        {
          "output_type": "stream",
          "name": "stdout",
          "text": [
            "2\n",
            "3\n",
            "3\n",
            "3\n",
            "0\n",
            "Количество: 3\n"
          ]
        }
      ]
    },
    {
      "cell_type": "markdown",
      "source": [
        "1. Напишите программу, которая выводит первые 10 кратных числу 3. Например, первые 5 чисел, кратные 3: 3 6 9 12 15"
      ],
      "metadata": {
        "id": "iXgD9Jd1HiAL"
      }
    },
    {
      "cell_type": "markdown",
      "source": [
        "Решение (дважды нажмите по ячейке)\n",
        "\n",
        "<!--\n",
        "\n",
        "already_printed = 0\n",
        "num = 0\n",
        "\n",
        "while already_printed < 10:\n",
        "  if num % 3 == 0:\n",
        "    print(num)\n",
        "    already_printed += 1\n",
        "\n",
        "  num += 1 -->"
      ],
      "metadata": {
        "id": "856nwLt6aq6v"
      }
    },
    {
      "cell_type": "code",
      "source": [
        "number = 3\n",
        "count = 0\n",
        "while count <= 9:\n",
        "  print(number)\n",
        "  number += 3\n",
        "  count += 1"
      ],
      "metadata": {
        "id": "LN3CK56nmmj_",
        "colab": {
          "base_uri": "https://localhost:8080/"
        },
        "outputId": "5b88a641-0f3c-458e-ffb6-8e58d1064fa5"
      },
      "execution_count": null,
      "outputs": [
        {
          "output_type": "stream",
          "name": "stdout",
          "text": [
            "3\n",
            "6\n",
            "9\n",
            "12\n",
            "15\n",
            "18\n",
            "21\n",
            "24\n",
            "27\n",
            "30\n"
          ]
        }
      ]
    },
    {
      "cell_type": "code",
      "source": [],
      "metadata": {
        "id": "oiIjUQcDfD_u"
      },
      "execution_count": null,
      "outputs": []
    },
    {
      "cell_type": "code",
      "source": [
        "# YOUR CODE HERE"
      ],
      "metadata": {
        "id": "_R9fsDoSH3qH"
      },
      "execution_count": null,
      "outputs": []
    },
    {
      "cell_type": "markdown",
      "source": [
        "2. Напишите программу, которая просит угадать пользователя число от 1 до 10 и использует цикл while для подсказок. Например, если пользователь указывает число 5, а корректное число - 7, то тогда программа выдает \"Слишком маленькое число\" и просит пользователя повторить попытку"
      ],
      "metadata": {
        "id": "Djf5SsnzICwa"
      }
    },
    {
      "cell_type": "markdown",
      "source": [
        "Решение (дважды нажмите по ячейке)\n",
        "\n",
        "<!--\n",
        "correct_num = 7\n",
        "\n",
        "while (inp := int(input(\"Guess from 1 to 10: \"))) != correct_num:\n",
        "  if inp < correct_num:\n",
        "    print('Too small')\n",
        "  elif inp > correct_num:\n",
        "    print('Too big')\n",
        "\n",
        "print('yay!')\n",
        " -->"
      ],
      "metadata": {
        "id": "Yacrey62btiG"
      }
    },
    {
      "cell_type": "code",
      "source": [
        "user_number = int(input('Введите число:'))\n",
        "const = 7\n",
        "while user_number != const:\n",
        "    if user_number < const:\n",
        "        print('Маленькое')\n",
        "    elif user_number > const:\n",
        "        print('Большое')\n",
        "    user_number = int(input('Введите число:'))\n",
        "print('Вы угадали!')"
      ],
      "metadata": {
        "id": "pYF_dFSHIdoU"
      },
      "execution_count": null,
      "outputs": []
    },
    {
      "cell_type": "code",
      "source": [
        "word = 'Python'\n",
        "print(word[-1])\n",
        "print(word[0])\n",
        "print(word[:3])"
      ],
      "metadata": {
        "id": "KZdeBI4Y4JZ3"
      },
      "execution_count": null,
      "outputs": []
    },
    {
      "cell_type": "markdown",
      "source": [
        "3. Напишите программу, которая использует цикл while, чтобы найти максимальное число из тех, которые передал пользователь посредством команды input() (вспомните индексацию!). Например, если пользователь ввел `4 2 7 1`, то программа должна вывести число 7"
      ],
      "metadata": {
        "id": "QNnjSmpKImmy"
      }
    },
    {
      "cell_type": "markdown",
      "source": [
        "Разовая поездка на метро по карте \"Тройка\" стоит 40 рублей, проездной на 30 дней — 2170 рублей. Валя подсчитала, сколько она совершает поездок за 30 дней, помогите ей понять, чем выгоднее пользоваться — проездным или разовыми поездками.\n",
        "\n",
        "ФОРМАТ ВВОДА\n",
        "Целое положительное число — количество поездок Вали на метро за 30 дней.\n",
        "ФОРМАТ ВЫВОДА\n",
        "Строка \"Выгоднее разовые поездки\" или \"Выгоднее проездной\" в зависимости от того, что выгоднее."
      ],
      "metadata": {
        "id": "a-L3LwCl42Qb"
      }
    },
    {
      "cell_type": "code",
      "source": [
        "amount = int(input())\n",
        "if amount * 40 > 2170:\n",
        "    print('Дорого')\n",
        "else:\n",
        "    print('Дешево')"
      ],
      "metadata": {
        "id": "P5ATuwUY43Iz"
      },
      "execution_count": null,
      "outputs": []
    },
    {
      "cell_type": "markdown",
      "source": [
        "Кэшбэк\n",
        "Банк предложил Арсению следующие условия по кэшбэку: 1% на все покупки, 3% на покупки в категории \"продукты\", 5% в категории \"аптеки\". Помогите Арсению определить по данным о его покупке, какой кэшбэк он получит.\n",
        "\n",
        "ФОРМАТ ВВОДА\n",
        "Строка — название категории покупки.\n",
        "Далее целое положительное число — стоимость покупки.\n",
        "ФОРМАТ ВЫВОДА\n",
        "Вещественное положительное число — кэшбэк Арсения за покупку."
      ],
      "metadata": {
        "id": "jfcfopwt5hsT"
      }
    },
    {
      "cell_type": "code",
      "source": [
        "all = 0.01\n",
        "products = 0.03\n",
        "drugstore = 0.05\n",
        "category = input()\n",
        "if category=='products':\n",
        "    print(int(input()) * products)\n",
        "elif category=='drugstore':\n",
        "    print(int(input()) * drugstore)\n",
        "else:\n",
        "    print(int(input()) * all)"
      ],
      "metadata": {
        "id": "1_WSBf6g5k-w"
      },
      "execution_count": null,
      "outputs": []
    },
    {
      "cell_type": "markdown",
      "source": [
        "Решение (дважды нажмите по ячейке)\n",
        "\n",
        "<!--\n",
        "numbers = input()\n",
        "i = 0\n",
        "last_max = -99999\n",
        "\n",
        "while i < len(numbers):\n",
        "  letter = numbers[i]\n",
        "\n",
        "  if letter == \" \":\n",
        "    i += 1\n",
        "    continue\n",
        "\n",
        "  num = int(letter)\n",
        "\n",
        "  if num > last_max:\n",
        "    last_max = num\n",
        "\n",
        "  i += 1\n",
        "print(last_max)\n",
        " -->"
      ],
      "metadata": {
        "id": "203XfZAXcOyq"
      }
    },
    {
      "cell_type": "code",
      "source": [
        "# YOUR CODE HERE"
      ],
      "metadata": {
        "id": "KFq4eleSI-6_"
      },
      "execution_count": null,
      "outputs": []
    },
    {
      "cell_type": "markdown",
      "source": [
        "4. Напишите программу, которая использует цикл while, чтобы сгенерировать первые 20 чисел Фибоначчи. Последовательность Фибоначчи начинается с 0 и 1 и следующие числа это сумма двух предыдущих. Пример первых 10 чисел:  0, 1, 1, 2, 3, 5, 8, 13, 21, 34\n"
      ],
      "metadata": {
        "id": "bv4I3vplJBYW"
      }
    },
    {
      "cell_type": "markdown",
      "source": [
        "Решение (дважды нажмите по ячейке)\n",
        "\n",
        "<!--\n",
        "prepre = 0\n",
        "pre = 1\n",
        "print(prepre)\n",
        "print(pre)\n",
        "printed = 2\n",
        "while printed < 20:\n",
        "  new = prepre + pre\n",
        "  prepre = pre\n",
        "  pre = new\n",
        "\n",
        "  print(new)\n",
        "  printed += 1\n",
        "-->\n"
      ],
      "metadata": {
        "id": "EyvuZ5AlcgcW"
      }
    },
    {
      "cell_type": "code",
      "source": [
        "# YOUR CODE HERE"
      ],
      "metadata": {
        "id": "DDjyOxZAJsXW"
      },
      "execution_count": null,
      "outputs": []
    },
    {
      "cell_type": "markdown",
      "source": [
        "5. Определите среднее значение всех элементов последовательности, завершающейся числом 0. Считывайте входные данные через input() и выводите ответ через print().\n",
        "\n"
      ],
      "metadata": {
        "id": "SvixAWKydBxm"
      }
    },
    {
      "cell_type": "code",
      "source": [],
      "metadata": {
        "id": "MBbUamlMdBaL"
      },
      "execution_count": null,
      "outputs": []
    },
    {
      "cell_type": "markdown",
      "source": [
        "6. По данному целому числу N распечатайте все квадраты натуральных чисел, не превосходящие N, в порядке возрастания."
      ],
      "metadata": {
        "id": "MMzbuoSudk7i"
      }
    },
    {
      "cell_type": "code",
      "source": [],
      "metadata": {
        "id": "nvzgJ4KDdnFT"
      },
      "execution_count": null,
      "outputs": []
    },
    {
      "cell_type": "markdown",
      "source": [
        "7. Определите количество четных элементов в последовательности, завершающейся числом 0."
      ],
      "metadata": {
        "id": "CDdOZ8Ehdq3O"
      }
    },
    {
      "cell_type": "code",
      "source": [],
      "metadata": {
        "id": "F13v4kykdsyZ"
      },
      "execution_count": null,
      "outputs": []
    },
    {
      "cell_type": "markdown",
      "source": [
        "8. Последовательность состоит из натуральных чисел и завершается числом 0. Определите, сколько элементов этой последовательности больше предыдущего элемента."
      ],
      "metadata": {
        "id": "RVlwR6UYeJ_3"
      }
    },
    {
      "cell_type": "code",
      "source": [],
      "metadata": {
        "id": "yDw9L99_eL1D"
      },
      "execution_count": null,
      "outputs": []
    },
    {
      "cell_type": "markdown",
      "source": [
        "*. Учимся пользоваться документацией Python и гуглом. Напишите игру камень-ножницы-бумага. Программа должны запрашивать у пользователя его ход, генерировать целое число (для генерации случайного числа вам поможет библиотека random (ваша задача найти метод, который может генерировать целые числа, прочитать его описание и попробовать запустить), в зависимости от него выдавать свой ответ, сравнивать с ответом пользователя и определять победителя. При вводе `q` игра завершается.\n",
        "\n",
        "\n"
      ],
      "metadata": {
        "id": "bqCS2XWQ-kiI"
      }
    },
    {
      "cell_type": "code",
      "source": [],
      "metadata": {
        "id": "M9Qewl8QNdOT"
      },
      "execution_count": null,
      "outputs": []
    }
  ]
}