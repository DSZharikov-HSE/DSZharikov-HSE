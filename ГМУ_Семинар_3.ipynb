{
  "cells": [
    {
      "cell_type": "markdown",
      "metadata": {
        "id": "bFbPGok1xhqz"
      },
      "source": [
        "# Повторение индексации в строках"
      ]
    },
    {
      "cell_type": "code",
      "execution_count": null,
      "metadata": {
        "colab": {
          "base_uri": "https://localhost:8080/",
          "height": 81
        },
        "id": "vCeOaZ2kxlbK",
        "outputId": "633843ca-fa14-4237-df4a-cc35d558eb93"
      },
      "outputs": [
        {
          "data": {
            "application/vnd.google.colaboratory.intrinsic+json": {
              "summary": "{\n  \"name\": \"df\",\n  \"rows\": 1,\n  \"fields\": [\n    {\n      \"column\": 0,\n      \"properties\": {\n        \"dtype\": \"string\",\n        \"num_unique_values\": 1,\n        \"samples\": [\n          \"\\u041a\"\n        ],\n        \"semantic_type\": \"\",\n        \"description\": \"\"\n      }\n    },\n    {\n      \"column\": 1,\n      \"properties\": {\n        \"dtype\": \"string\",\n        \"num_unique_values\": 1,\n        \"samples\": [\n          \"\\u043b\"\n        ],\n        \"semantic_type\": \"\",\n        \"description\": \"\"\n      }\n    },\n    {\n      \"column\": 2,\n      \"properties\": {\n        \"dtype\": \"string\",\n        \"num_unique_values\": 1,\n        \"samples\": [\n          \"\\u0430\"\n        ],\n        \"semantic_type\": \"\",\n        \"description\": \"\"\n      }\n    },\n    {\n      \"column\": 3,\n      \"properties\": {\n        \"dtype\": \"string\",\n        \"num_unique_values\": 1,\n        \"samples\": [\n          \"\\u0441\"\n        ],\n        \"semantic_type\": \"\",\n        \"description\": \"\"\n      }\n    },\n    {\n      \"column\": 4,\n      \"properties\": {\n        \"dtype\": \"string\",\n        \"num_unique_values\": 1,\n        \"samples\": [\n          \"\\u0442\"\n        ],\n        \"semantic_type\": \"\",\n        \"description\": \"\"\n      }\n    },\n    {\n      \"column\": 5,\n      \"properties\": {\n        \"dtype\": \"string\",\n        \"num_unique_values\": 1,\n        \"samples\": [\n          \"\\u0435\"\n        ],\n        \"semantic_type\": \"\",\n        \"description\": \"\"\n      }\n    },\n    {\n      \"column\": 6,\n      \"properties\": {\n        \"dtype\": \"string\",\n        \"num_unique_values\": 1,\n        \"samples\": [\n          \"\\u0440\"\n        ],\n        \"semantic_type\": \"\",\n        \"description\": \"\"\n      }\n    },\n    {\n      \"column\": 7,\n      \"properties\": {\n        \"dtype\": \"string\",\n        \"num_unique_values\": 1,\n        \"samples\": [\n          \"\\u0438\"\n        ],\n        \"semantic_type\": \"\",\n        \"description\": \"\"\n      }\n    },\n    {\n      \"column\": 8,\n      \"properties\": {\n        \"dtype\": \"string\",\n        \"num_unique_values\": 1,\n        \"samples\": [\n          \"\\u0437\"\n        ],\n        \"semantic_type\": \"\",\n        \"description\": \"\"\n      }\n    },\n    {\n      \"column\": 9,\n      \"properties\": {\n        \"dtype\": \"string\",\n        \"num_unique_values\": 1,\n        \"samples\": [\n          \"\\u0430\"\n        ],\n        \"semantic_type\": \"\",\n        \"description\": \"\"\n      }\n    },\n    {\n      \"column\": 10,\n      \"properties\": {\n        \"dtype\": \"string\",\n        \"num_unique_values\": 1,\n        \"samples\": [\n          \"\\u0446\"\n        ],\n        \"semantic_type\": \"\",\n        \"description\": \"\"\n      }\n    },\n    {\n      \"column\": 11,\n      \"properties\": {\n        \"dtype\": \"string\",\n        \"num_unique_values\": 1,\n        \"samples\": [\n          \"\\u0438\"\n        ],\n        \"semantic_type\": \"\",\n        \"description\": \"\"\n      }\n    },\n    {\n      \"column\": 12,\n      \"properties\": {\n        \"dtype\": \"string\",\n        \"num_unique_values\": 1,\n        \"samples\": [\n          \"\\u044f\"\n        ],\n        \"semantic_type\": \"\",\n        \"description\": \"\"\n      }\n    }\n  ]\n}",
              "type": "dataframe"
            },
            "text/html": [
              "\n",
              "  <div id=\"df-1f5430ac-4a0c-4c8f-b883-a8519b4d260d\" class=\"colab-df-container\">\n",
              "    <div>\n",
              "<style scoped>\n",
              "    .dataframe tbody tr th:only-of-type {\n",
              "        vertical-align: middle;\n",
              "    }\n",
              "\n",
              "    .dataframe tbody tr th {\n",
              "        vertical-align: top;\n",
              "    }\n",
              "\n",
              "    .dataframe thead th {\n",
              "        text-align: right;\n",
              "    }\n",
              "</style>\n",
              "<table border=\"1\" class=\"dataframe\">\n",
              "  <thead>\n",
              "    <tr style=\"text-align: right;\">\n",
              "      <th></th>\n",
              "      <th>0</th>\n",
              "      <th>1</th>\n",
              "      <th>2</th>\n",
              "      <th>3</th>\n",
              "      <th>4</th>\n",
              "      <th>5</th>\n",
              "      <th>6</th>\n",
              "      <th>7</th>\n",
              "      <th>8</th>\n",
              "      <th>9</th>\n",
              "      <th>10</th>\n",
              "      <th>11</th>\n",
              "      <th>12</th>\n",
              "    </tr>\n",
              "  </thead>\n",
              "  <tbody>\n",
              "    <tr>\n",
              "      <th>Буква</th>\n",
              "      <td>К</td>\n",
              "      <td>л</td>\n",
              "      <td>а</td>\n",
              "      <td>с</td>\n",
              "      <td>т</td>\n",
              "      <td>е</td>\n",
              "      <td>р</td>\n",
              "      <td>и</td>\n",
              "      <td>з</td>\n",
              "      <td>а</td>\n",
              "      <td>ц</td>\n",
              "      <td>и</td>\n",
              "      <td>я</td>\n",
              "    </tr>\n",
              "  </tbody>\n",
              "</table>\n",
              "</div>\n",
              "    <div class=\"colab-df-buttons\">\n",
              "\n",
              "  <div class=\"colab-df-container\">\n",
              "    <button class=\"colab-df-convert\" onclick=\"convertToInteractive('df-1f5430ac-4a0c-4c8f-b883-a8519b4d260d')\"\n",
              "            title=\"Convert this dataframe to an interactive table.\"\n",
              "            style=\"display:none;\">\n",
              "\n",
              "  <svg xmlns=\"http://www.w3.org/2000/svg\" height=\"24px\" viewBox=\"0 -960 960 960\">\n",
              "    <path d=\"M120-120v-720h720v720H120Zm60-500h600v-160H180v160Zm220 220h160v-160H400v160Zm0 220h160v-160H400v160ZM180-400h160v-160H180v160Zm440 0h160v-160H620v160ZM180-180h160v-160H180v160Zm440 0h160v-160H620v160Z\"/>\n",
              "  </svg>\n",
              "    </button>\n",
              "\n",
              "  <style>\n",
              "    .colab-df-container {\n",
              "      display:flex;\n",
              "      gap: 12px;\n",
              "    }\n",
              "\n",
              "    .colab-df-convert {\n",
              "      background-color: #E8F0FE;\n",
              "      border: none;\n",
              "      border-radius: 50%;\n",
              "      cursor: pointer;\n",
              "      display: none;\n",
              "      fill: #1967D2;\n",
              "      height: 32px;\n",
              "      padding: 0 0 0 0;\n",
              "      width: 32px;\n",
              "    }\n",
              "\n",
              "    .colab-df-convert:hover {\n",
              "      background-color: #E2EBFA;\n",
              "      box-shadow: 0px 1px 2px rgba(60, 64, 67, 0.3), 0px 1px 3px 1px rgba(60, 64, 67, 0.15);\n",
              "      fill: #174EA6;\n",
              "    }\n",
              "\n",
              "    .colab-df-buttons div {\n",
              "      margin-bottom: 4px;\n",
              "    }\n",
              "\n",
              "    [theme=dark] .colab-df-convert {\n",
              "      background-color: #3B4455;\n",
              "      fill: #D2E3FC;\n",
              "    }\n",
              "\n",
              "    [theme=dark] .colab-df-convert:hover {\n",
              "      background-color: #434B5C;\n",
              "      box-shadow: 0px 1px 3px 1px rgba(0, 0, 0, 0.15);\n",
              "      filter: drop-shadow(0px 1px 2px rgba(0, 0, 0, 0.3));\n",
              "      fill: #FFFFFF;\n",
              "    }\n",
              "  </style>\n",
              "\n",
              "    <script>\n",
              "      const buttonEl =\n",
              "        document.querySelector('#df-1f5430ac-4a0c-4c8f-b883-a8519b4d260d button.colab-df-convert');\n",
              "      buttonEl.style.display =\n",
              "        google.colab.kernel.accessAllowed ? 'block' : 'none';\n",
              "\n",
              "      async function convertToInteractive(key) {\n",
              "        const element = document.querySelector('#df-1f5430ac-4a0c-4c8f-b883-a8519b4d260d');\n",
              "        const dataTable =\n",
              "          await google.colab.kernel.invokeFunction('convertToInteractive',\n",
              "                                                    [key], {});\n",
              "        if (!dataTable) return;\n",
              "\n",
              "        const docLinkHtml = 'Like what you see? Visit the ' +\n",
              "          '<a target=\"_blank\" href=https://colab.research.google.com/notebooks/data_table.ipynb>data table notebook</a>'\n",
              "          + ' to learn more about interactive tables.';\n",
              "        element.innerHTML = '';\n",
              "        dataTable['output_type'] = 'display_data';\n",
              "        await google.colab.output.renderOutput(dataTable, element);\n",
              "        const docLink = document.createElement('div');\n",
              "        docLink.innerHTML = docLinkHtml;\n",
              "        element.appendChild(docLink);\n",
              "      }\n",
              "    </script>\n",
              "  </div>\n",
              "\n",
              "    </div>\n",
              "  </div>\n"
            ],
            "text/plain": [
              "      0  1  2  3  4  5  6  7  8  9  10 11 12\n",
              "Буква  К  л  а  с  т  е  р  и  з  а  ц  и  я"
            ]
          },
          "execution_count": 3,
          "metadata": {},
          "output_type": "execute_result"
        }
      ],
      "source": [
        "import pandas as pd\n",
        "\n",
        "str_ = 'Кластеризация'\n",
        "\n",
        "df = pd.DataFrame({'Буква': list((str_))})\n",
        "df.T"
      ]
    },
    {
      "cell_type": "code",
      "execution_count": null,
      "metadata": {
        "colab": {
          "base_uri": "https://localhost:8080/",
          "height": 35
        },
        "id": "T_qxPlv-V4Gr",
        "outputId": "3670452c-d5e4-4b80-c1a4-328c4f497827"
      },
      "outputs": [
        {
          "data": {
            "application/vnd.google.colaboratory.intrinsic+json": {
              "type": "string"
            },
            "text/plain": [
              "'лсеи'"
            ]
          },
          "execution_count": 8,
          "metadata": {},
          "output_type": "execute_result"
        }
      ],
      "source": [
        "# ?\n",
        "str_[1:9:2]"
      ]
    },
    {
      "cell_type": "code",
      "execution_count": null,
      "metadata": {
        "colab": {
          "base_uri": "https://localhost:8080/",
          "height": 35
        },
        "id": "46xKp7oAy5vz",
        "outputId": "374c2e5a-2309-4c53-b024-9a70fde06398"
      },
      "outputs": [
        {
          "data": {
            "application/vnd.google.colaboratory.intrinsic+json": {
              "type": "string"
            },
            "text/plain": [
              "'с'"
            ]
          },
          "execution_count": 4,
          "metadata": {},
          "output_type": "execute_result"
        }
      ],
      "source": [
        "# ?\n",
        "str_[3]"
      ]
    },
    {
      "cell_type": "code",
      "execution_count": null,
      "metadata": {
        "colab": {
          "base_uri": "https://localhost:8080/",
          "height": 35
        },
        "id": "0lZvkI1gzFLs",
        "outputId": "35db9e51-eb5e-409f-b286-2e471f1f96e1"
      },
      "outputs": [
        {
          "data": {
            "application/vnd.google.colaboratory.intrinsic+json": {
              "type": "string"
            },
            "text/plain": [
              "'ериза'"
            ]
          },
          "execution_count": 5,
          "metadata": {},
          "output_type": "execute_result"
        }
      ],
      "source": [
        "# ?\n",
        "str_[5:10]"
      ]
    },
    {
      "cell_type": "code",
      "execution_count": null,
      "metadata": {
        "colab": {
          "base_uri": "https://localhost:8080/",
          "height": 35
        },
        "id": "7pFMT7VpzImb",
        "outputId": "45b60ab7-78f3-4cf9-8b1f-84a698c2be33"
      },
      "outputs": [
        {
          "data": {
            "application/vnd.google.colaboratory.intrinsic+json": {
              "type": "string"
            },
            "text/plain": [
              "'Клас'"
            ]
          },
          "execution_count": 6,
          "metadata": {},
          "output_type": "execute_result"
        }
      ],
      "source": [
        "# ?\n",
        "str_[:4]"
      ]
    },
    {
      "cell_type": "code",
      "execution_count": null,
      "metadata": {
        "colab": {
          "base_uri": "https://localhost:8080/",
          "height": 35
        },
        "id": "pYeh3h9CzLxl",
        "outputId": "a3dca034-45b9-4abf-97f2-e16a9d8c8bfa"
      },
      "outputs": [
        {
          "data": {
            "application/vnd.google.colaboratory.intrinsic+json": {
              "type": "string"
            },
            "text/plain": [
              "'я'"
            ]
          },
          "execution_count": 7,
          "metadata": {},
          "output_type": "execute_result"
        }
      ],
      "source": [
        "# ?\n",
        "str_[-1]"
      ]
    },
    {
      "cell_type": "code",
      "execution_count": null,
      "metadata": {
        "id": "jkgFjo-czNtT"
      },
      "outputs": [],
      "source": []
    },
    {
      "cell_type": "code",
      "execution_count": null,
      "metadata": {
        "id": "RwUJ_trZbGsr"
      },
      "outputs": [],
      "source": [
        "df = pd.DataFrame({'Буква': list((str_))})\n",
        "df.T"
      ]
    },
    {
      "cell_type": "markdown",
      "metadata": {
        "id": "f6cpWoeB2qWD"
      },
      "source": [
        "# Введение в упорядоченные типы данных и цикл for"
      ]
    },
    {
      "cell_type": "markdown",
      "metadata": {
        "id": "NLldTHJd5V6X"
      },
      "source": [
        "## Введение"
      ]
    },
    {
      "cell_type": "markdown",
      "metadata": {
        "id": "vYA7bgqn5tbS"
      },
      "source": [
        "### Обзор упорядоченных типов в Python"
      ]
    },
    {
      "cell_type": "markdown",
      "metadata": {
        "id": "De9odVxG7y-2"
      },
      "source": [
        "#### Списки"
      ]
    },
    {
      "cell_type": "markdown",
      "metadata": {
        "id": "_KZCu9dy8s6x"
      },
      "source": [
        "Списки (list) создаются при помощи квадратных скобок `[]` и могут хранить абсолютно любые значения любых типов данных (целые, строки, булеаны, и т.д.)."
      ]
    },
    {
      "cell_type": "markdown",
      "metadata": {
        "id": "IwouJNJZ8uf2"
      },
      "source": [
        "Списки изменяемые (mutable), что значит, что вы можете добавляет, удалять или изменять элементы, которые в нем хранятся."
      ]
    },
    {
      "cell_type": "markdown",
      "metadata": {
        "id": "Z9-5rB638vc2"
      },
      "source": [
        "Пример:"
      ]
    },
    {
      "cell_type": "code",
      "execution_count": null,
      "metadata": {
        "id": "eP3NKcbhWHnA"
      },
      "outputs": [],
      "source": [
        "my_list = []\n",
        "my_list = [1, 2, 2, 3, 4, 5]"
      ]
    },
    {
      "cell_type": "code",
      "execution_count": null,
      "metadata": {
        "colab": {
          "base_uri": "https://localhost:8080/"
        },
        "id": "TUXPgvSUWTTQ",
        "outputId": "7dba932d-0853-4181-80a2-b991fddd2a1f"
      },
      "outputs": [
        {
          "name": "stdout",
          "output_type": "stream",
          "text": [
            "[1, 2, 2, 3, 4, 5]\n",
            "[1, 2, 2, 3, 4, 5, 6]\n",
            "[1, 2, 3, 4, 5, 6]\n"
          ]
        }
      ],
      "source": [
        "my_list = [1, 2, 2, 3, 4, 5]\n",
        "print(my_list)\n",
        "my_list.append(6)\n",
        "print(my_list)\n",
        "my_list.remove(2)\n",
        "print(my_list)"
      ]
    },
    {
      "cell_type": "code",
      "execution_count": null,
      "metadata": {
        "id": "Ks3k5wqf8xhY"
      },
      "outputs": [],
      "source": [
        "my_list = [1, 2, 2, 3, 4, 5]\n",
        "print(my_list)\n",
        "my_list.append(6)\n",
        "print(my_list)\n",
        "my_list.remove(2)\n",
        "print(my_list)"
      ]
    },
    {
      "cell_type": "code",
      "execution_count": null,
      "metadata": {
        "colab": {
          "base_uri": "https://localhost:8080/"
        },
        "id": "ESQe7S3vuk0U",
        "outputId": "90f444f3-a4ef-4b94-f117-2ee7e7e1bb6a"
      },
      "outputs": [
        {
          "name": "stdout",
          "output_type": "stream",
          "text": [
            "[1, 2, 3, 4, 5, 6]\n",
            "[1, 2, 3, 4, 5]\n",
            "6\n"
          ]
        }
      ],
      "source": [
        "my_list = [1, 2, 3, 4, 5, 6]\n",
        "print(my_list)\n",
        "last_el = my_list.pop()\n",
        "print(my_list)\n",
        "print(last_el)"
      ]
    },
    {
      "cell_type": "code",
      "execution_count": null,
      "metadata": {
        "id": "s11-zzqOv0bX"
      },
      "outputs": [],
      "source": [
        "last_elem = my_list.pop()"
      ]
    },
    {
      "cell_type": "code",
      "execution_count": null,
      "metadata": {
        "colab": {
          "base_uri": "https://localhost:8080/"
        },
        "id": "OIsaAwIDW4Ur",
        "outputId": "eca3f845-0136-45ff-a6b9-0d18e04230b0"
      },
      "outputs": [
        {
          "data": {
            "text/plain": [
              "6"
            ]
          },
          "execution_count": 14,
          "metadata": {},
          "output_type": "execute_result"
        }
      ],
      "source": [
        "last_elem"
      ]
    },
    {
      "cell_type": "code",
      "execution_count": null,
      "metadata": {
        "colab": {
          "base_uri": "https://localhost:8080/"
        },
        "id": "3b82YL4rW7Nv",
        "outputId": "7f91a36a-65a3-4490-e0d7-81d5b37bb99c"
      },
      "outputs": [
        {
          "data": {
            "text/plain": [
              "[1, 2, 3, 4, 5]"
            ]
          },
          "execution_count": 15,
          "metadata": {},
          "output_type": "execute_result"
        }
      ],
      "source": [
        "my_list"
      ]
    },
    {
      "cell_type": "code",
      "execution_count": null,
      "metadata": {
        "id": "OZMWucM2cCRI"
      },
      "outputs": [],
      "source": [
        "last_elem"
      ]
    },
    {
      "cell_type": "code",
      "execution_count": null,
      "metadata": {
        "id": "iNU14WuWuy25"
      },
      "outputs": [],
      "source": [
        "my_list"
      ]
    },
    {
      "cell_type": "code",
      "execution_count": null,
      "metadata": {
        "id": "YfyRRdBkwCZm"
      },
      "outputs": [],
      "source": [
        "last_elem"
      ]
    },
    {
      "cell_type": "code",
      "execution_count": null,
      "metadata": {
        "colab": {
          "base_uri": "https://localhost:8080/",
          "height": 35
        },
        "id": "Ut7gdATSXX-g",
        "outputId": "3f1d5b61-5b13-45ac-bc95-1a4ec5c5ae4d"
      },
      "outputs": [
        {
          "data": {
            "application/vnd.google.colaboratory.intrinsic+json": {
              "type": "string"
            },
            "text/plain": [
              "'o'"
            ]
          },
          "execution_count": 20,
          "metadata": {},
          "output_type": "execute_result"
        }
      ],
      "source": [
        "word = 'Python'\n",
        "word[4]"
      ]
    },
    {
      "cell_type": "code",
      "execution_count": null,
      "metadata": {
        "colab": {
          "base_uri": "https://localhost:8080/"
        },
        "id": "M-59etgQXbAX",
        "outputId": "3591082e-d99e-4bb8-b8c5-e636da781678"
      },
      "outputs": [
        {
          "data": {
            "text/plain": [
              "3"
            ]
          },
          "execution_count": 21,
          "metadata": {},
          "output_type": "execute_result"
        }
      ],
      "source": [
        "my_list = [1, 2, 3, 4, 5, 6]\n",
        "my_list[2]"
      ]
    },
    {
      "cell_type": "code",
      "execution_count": null,
      "metadata": {
        "colab": {
          "base_uri": "https://localhost:8080/"
        },
        "id": "jKGKItWEu50x",
        "outputId": "a02c650d-8323-4a5a-978c-ea7f1da03d3b"
      },
      "outputs": [
        {
          "data": {
            "text/plain": [
              "[1, 2, 3, 4, 56, 6]"
            ]
          },
          "execution_count": 22,
          "metadata": {},
          "output_type": "execute_result"
        }
      ],
      "source": [
        "my_list = [1, 2, 3, 4, 5, 6]\n",
        "my_list[4] = 56\n",
        "my_list"
      ]
    },
    {
      "cell_type": "markdown",
      "metadata": {
        "id": "tkJ3W7Ju80Bz"
      },
      "source": [
        "#### Кортежи"
      ]
    },
    {
      "cell_type": "markdown",
      "metadata": {
        "id": "b6Tiqlie816n"
      },
      "source": [
        "Кортежи (tuple) создаются при помощи круглых скобочек `()` и могут так же хранить любой набор элементов любых типов данных"
      ]
    },
    {
      "cell_type": "markdown",
      "metadata": {
        "id": "GKw6SeRV84Tz"
      },
      "source": [
        "В отличие от списков, кортежи **не**изменяемые, что значит, что после того, как кортеж был создан, с его элементами ничего нельзя сделать, кроме как получить."
      ]
    },
    {
      "cell_type": "markdown",
      "metadata": {
        "id": "aKkAF3LL858O"
      },
      "source": [
        "Пример:"
      ]
    },
    {
      "cell_type": "code",
      "execution_count": null,
      "metadata": {
        "colab": {
          "base_uri": "https://localhost:8080/"
        },
        "id": "1TgEYcS886wG",
        "outputId": "47ac29cf-2ee6-44d2-9082-8e6d127200ef"
      },
      "outputs": [
        {
          "name": "stdout",
          "output_type": "stream",
          "text": [
            "2\n"
          ]
        }
      ],
      "source": [
        "my_tuple = (1, 2, 3, 4, 5)\n",
        "print(my_tuple[1])"
      ]
    },
    {
      "cell_type": "code",
      "execution_count": null,
      "metadata": {
        "colab": {
          "base_uri": "https://localhost:8080/",
          "height": 143
        },
        "id": "hK3j7paqLhFp",
        "outputId": "0ed36950-0039-42a1-8aed-34859f41736c"
      },
      "outputs": [
        {
          "ename": "TypeError",
          "evalue": "'tuple' object does not support item assignment",
          "output_type": "error",
          "traceback": [
            "\u001b[0;31m---------------------------------------------------------------------------\u001b[0m",
            "\u001b[0;31mTypeError\u001b[0m                                 Traceback (most recent call last)",
            "\u001b[0;32m<ipython-input-24-59bf66c5278d>\u001b[0m in \u001b[0;36m<cell line: 1>\u001b[0;34m()\u001b[0m\n\u001b[0;32m----> 1\u001b[0;31m \u001b[0mmy_tuple\u001b[0m\u001b[0;34m[\u001b[0m\u001b[0;36m2\u001b[0m\u001b[0;34m]\u001b[0m \u001b[0;34m=\u001b[0m \u001b[0;36m4\u001b[0m\u001b[0;34m\u001b[0m\u001b[0;34m\u001b[0m\u001b[0m\n\u001b[0m",
            "\u001b[0;31mTypeError\u001b[0m: 'tuple' object does not support item assignment"
          ]
        }
      ],
      "source": [
        "my_tuple[2] = 4"
      ]
    },
    {
      "cell_type": "markdown",
      "metadata": {
        "id": "2wZipiAL5v3z"
      },
      "source": [
        "### Почему они так важны"
      ]
    },
    {
      "cell_type": "markdown",
      "metadata": {
        "id": "7W61aPWX9wwG"
      },
      "source": [
        "Упорядоченные типы данных позволяеют вам хранить и управлять наборами элементов, при этом учитывая их порядок. Они могут использоваться в таких задачах, как сортировка, поиск, фильтрация или просто хранение данных."
      ]
    },
    {
      "cell_type": "markdown",
      "metadata": {
        "id": "wffkhlR29ycK"
      },
      "source": [
        "#### Сортировка"
      ]
    },
    {
      "cell_type": "markdown",
      "metadata": {
        "id": "1IN_fPY891f5"
      },
      "source": [
        "Списки и кортежи могут быть отсортированы используя встроенный метод sort или функцию sorted. Эти функции упорядочивают элементы в возрастающем порядке."
      ]
    },
    {
      "cell_type": "markdown",
      "metadata": {
        "id": "qbf4CyVE92VU"
      },
      "source": [
        "Пример:"
      ]
    },
    {
      "cell_type": "code",
      "execution_count": null,
      "metadata": {
        "colab": {
          "base_uri": "https://localhost:8080/"
        },
        "id": "7xGqfgU4937r",
        "outputId": "b995035a-3a9f-4a06-9fbd-e4291839507e"
      },
      "outputs": [
        {
          "name": "stdout",
          "output_type": "stream",
          "text": [
            "[1, 1, 2, 3, 3, 4, 5, 5, 5, 6, 9]\n"
          ]
        }
      ],
      "source": [
        "my_list = [3, 1, 4, 1, 5, 9, 2, 6, 5, 3, 5]\n",
        "my_list.sort()\n",
        "print(my_list)"
      ]
    },
    {
      "cell_type": "code",
      "execution_count": null,
      "metadata": {
        "colab": {
          "base_uri": "https://localhost:8080/"
        },
        "id": "5dJ4skHd0YX8",
        "outputId": "6e3e4ca8-7ba9-48f5-83ac-886640275efc"
      },
      "outputs": [
        {
          "name": "stdout",
          "output_type": "stream",
          "text": [
            "[9, 6, 5, 5, 5, 4, 3, 3, 2, 1, 1]\n"
          ]
        }
      ],
      "source": [
        "my_list = [3, 1, 4, 1, 5, 9, 2, 6, 5, 3, 5]\n",
        "my_list.sort(reverse=True)\n",
        "print(my_list)"
      ]
    },
    {
      "cell_type": "code",
      "execution_count": null,
      "metadata": {
        "colab": {
          "base_uri": "https://localhost:8080/"
        },
        "id": "P5J31ksNBz_0",
        "outputId": "e1d36df7-6ed0-454b-c3ed-10895d9420a4"
      },
      "outputs": [
        {
          "name": "stdout",
          "output_type": "stream",
          "text": [
            "[1, 1, 2, 3, 3, 4, 5, 5, 5, 6, 9]\n"
          ]
        }
      ],
      "source": [
        "my_tuple = (3, 1, 4, 1, 5, 9, 2, 6, 5, 3, 5)\n",
        "my_tuple_sorted = sorted(my_tuple)\n",
        "print(my_tuple_sorted)"
      ]
    },
    {
      "cell_type": "code",
      "execution_count": null,
      "metadata": {
        "colab": {
          "base_uri": "https://localhost:8080/"
        },
        "id": "T2YpUboyc5lj",
        "outputId": "34a37f32-208a-4180-c71a-9f5093467718"
      },
      "outputs": [
        {
          "data": {
            "text/plain": [
              "(3, 1, 4, 1, 5, 9, 2, 6, 5, 3, 5)"
            ]
          },
          "execution_count": 20,
          "metadata": {},
          "output_type": "execute_result"
        }
      ],
      "source": [
        "my_tuple"
      ]
    },
    {
      "cell_type": "code",
      "execution_count": null,
      "metadata": {
        "colab": {
          "base_uri": "https://localhost:8080/"
        },
        "id": "DNbFriFz0fZz",
        "outputId": "225120e3-75c6-4993-fb6c-ee63c0fd3289"
      },
      "outputs": [
        {
          "name": "stdout",
          "output_type": "stream",
          "text": [
            "[1, 1, 2, 3, 3, 4, 5, 5, 5, 6, 9]\n"
          ]
        }
      ],
      "source": [
        "my_tuple = (3, 1, 4, 1, 5, 9, 2, 6, 5, 3, 5)\n",
        "my_tuple_sorted = sorted(my_tuple, reverse=False)\n",
        "print(my_tuple_sorted)"
      ]
    },
    {
      "cell_type": "code",
      "execution_count": null,
      "metadata": {
        "colab": {
          "base_uri": "https://localhost:8080/"
        },
        "id": "gvP-1NLR0n1E",
        "outputId": "6cda0f01-7f0b-4c72-c661-ac89d8c61c7d"
      },
      "outputs": [
        {
          "name": "stdout",
          "output_type": "stream",
          "text": [
            "(3, 1, 4, 1, 5, 9, 2, 6, 5, 3, 5)\n"
          ]
        }
      ],
      "source": [
        "my_tuple = (3, 1, 4, 1, 5, 9, 2, 6, 5, 3, 5)\n",
        "sorted(my_tuple)\n",
        "print(my_tuple)"
      ]
    },
    {
      "cell_type": "markdown",
      "metadata": {
        "id": "pgCEJXLw96BO"
      },
      "source": [
        "#### Поиск"
      ]
    },
    {
      "cell_type": "markdown",
      "metadata": {
        "id": "gFmHLK8D98GD"
      },
      "source": [
        "Вы можете найти конкретный элемент в списке или кортеже используя метод index(), который возвращает индекс первого попавшегося запрашиваемого элемента."
      ]
    },
    {
      "cell_type": "markdown",
      "metadata": {
        "id": "0Qe7VipT99LV"
      },
      "source": [
        "Пример:"
      ]
    },
    {
      "cell_type": "code",
      "execution_count": null,
      "metadata": {
        "colab": {
          "base_uri": "https://localhost:8080/"
        },
        "id": "6iv_9GPL9-oS",
        "outputId": "442c4fdf-ce41-4ffd-fd12-eaffae2109d0"
      },
      "outputs": [
        {
          "name": "stdout",
          "output_type": "stream",
          "text": [
            "4\n"
          ]
        }
      ],
      "source": [
        "my_tuple = (3, 1, 4, 1, 5, 9, 2, 6, 5, 3, 5)\n",
        "print(my_tuple.index(5))"
      ]
    },
    {
      "cell_type": "markdown",
      "metadata": {
        "id": "6Nyb1md5-Dme"
      },
      "source": [
        "#### *Фильтрация"
      ]
    },
    {
      "cell_type": "markdown",
      "metadata": {
        "id": "b_rWtgk_-FrG"
      },
      "source": [
        "Вы можете использовать сокращения (list comprehension) для фильтрации определенных элементов в списке или кортеже на основе определенных условий."
      ]
    },
    {
      "cell_type": "markdown",
      "metadata": {
        "id": "sDCa7UcV-GgK"
      },
      "source": [
        "Пример:"
      ]
    },
    {
      "cell_type": "code",
      "execution_count": null,
      "metadata": {
        "colab": {
          "base_uri": "https://localhost:8080/"
        },
        "id": "w1KWdXyD-H-b",
        "outputId": "d3f8c8b7-067b-4546-f490-698bfc6ac9c4"
      },
      "outputs": [
        {
          "name": "stdout",
          "output_type": "stream",
          "text": [
            "[5, 9, 6, 5, 5]\n"
          ]
        }
      ],
      "source": [
        "my_list = [3, 1, 4, 1, 5, 9, 2, 6, 5, 3, 5]\n",
        "filtered_list = [x for x in my_list if x > 4]\n",
        "print(filtered_list)"
      ]
    },
    {
      "cell_type": "code",
      "execution_count": null,
      "metadata": {
        "colab": {
          "base_uri": "https://localhost:8080/"
        },
        "id": "W9U7iXtnleMQ",
        "outputId": "b2d8ced3-6447-43ed-eb2b-37a0194bf7b9"
      },
      "outputs": [
        {
          "name": "stdout",
          "output_type": "stream",
          "text": [
            "[5, 9, 6, 5, 5]\n"
          ]
        }
      ],
      "source": [
        "filtered_list = []\n",
        "for x in my_list:\n",
        "    if x > 4:\n",
        "        filtered_list.append(x)\n",
        "print(filtered_list)"
      ]
    },
    {
      "cell_type": "code",
      "execution_count": null,
      "metadata": {
        "colab": {
          "base_uri": "https://localhost:8080/"
        },
        "id": "cc7s-deH1XBP",
        "outputId": "f29ee7f2-61b8-4e23-d639-3b8ccdc1d3f2"
      },
      "outputs": [
        {
          "data": {
            "text/plain": [
              "[5, 6, 7, 8, 9]"
            ]
          },
          "execution_count": 26,
          "metadata": {},
          "output_type": "execute_result"
        }
      ],
      "source": [
        "[elem for elem in range(10) if elem > 4]"
      ]
    },
    {
      "cell_type": "markdown",
      "metadata": {
        "id": "U0Md_MAG-MNz"
      },
      "source": [
        "#### Хранение и обращение к данным"
      ]
    },
    {
      "cell_type": "markdown",
      "metadata": {
        "id": "PBGdwSGg-OZ4"
      },
      "source": [
        "Списки и кортежи могут использоваться для хранения и обращения к данным при этом будучи уверенным в постоянном порядке данных: можем представить вектор или матрицу.\n"
      ]
    },
    {
      "cell_type": "markdown",
      "metadata": {
        "id": "4IMfpRTR-Pes"
      },
      "source": [
        "Пример:"
      ]
    },
    {
      "cell_type": "code",
      "execution_count": null,
      "metadata": {
        "colab": {
          "base_uri": "https://localhost:8080/"
        },
        "id": "zWjp7Fux-RCX",
        "outputId": "589a7a78-ae97-490e-da8e-797fd2ab5994"
      },
      "outputs": [
        {
          "name": "stdout",
          "output_type": "stream",
          "text": [
            "[[1, 2, 3], [4, 5, 6], [7, 8, 9]]\n"
          ]
        }
      ],
      "source": [
        "my_matrix = [\n",
        "    [1, 2, 3],\n",
        "     [4, 5, 6],\n",
        "      [7, 8, 9]\n",
        "]\n",
        "print(my_matrix)"
      ]
    },
    {
      "cell_type": "code",
      "execution_count": null,
      "metadata": {
        "colab": {
          "base_uri": "https://localhost:8080/"
        },
        "id": "yhsfzFtH05vO",
        "outputId": "275d36b9-ac19-4918-f695-8b5e1660ac7e"
      },
      "outputs": [
        {
          "name": "stdout",
          "output_type": "stream",
          "text": [
            "[7, 8, 9]\n"
          ]
        }
      ],
      "source": [
        "print(my_matrix[2])"
      ]
    },
    {
      "cell_type": "code",
      "execution_count": null,
      "metadata": {
        "colab": {
          "base_uri": "https://localhost:8080/"
        },
        "id": "s7QQfZOs07GL",
        "outputId": "6634a070-de71-436e-e8af-521ee606c315"
      },
      "outputs": [
        {
          "name": "stdout",
          "output_type": "stream",
          "text": [
            "7\n"
          ]
        }
      ],
      "source": [
        "print(my_matrix[2][0])"
      ]
    },
    {
      "cell_type": "markdown",
      "metadata": {
        "id": "_HRR4LT350ES"
      },
      "source": [
        "## Последовательности в Python"
      ]
    },
    {
      "cell_type": "markdown",
      "metadata": {
        "id": "4tN_cDaJ52uH"
      },
      "source": [
        "### Что это такое?"
      ]
    },
    {
      "cell_type": "markdown",
      "metadata": {
        "id": "3AWnUAeO-gc2"
      },
      "source": [
        "В Python последовательность это упорядоченный набор элементов, где каждый элемент идентифицируется индексом. Последовательности могут использоваться для представления упорядоченных типов данных: строк, списков и кортежей."
      ]
    },
    {
      "cell_type": "markdown",
      "metadata": {
        "id": "jYdDHTMd-ixQ"
      },
      "source": [
        "#### Строки"
      ]
    },
    {
      "cell_type": "markdown",
      "metadata": {
        "id": "I7NlWmHX-k61"
      },
      "source": [
        "Строки - это последовательность символов, которая записывается с использованием одинарных или двойных кавычек."
      ]
    },
    {
      "cell_type": "markdown",
      "metadata": {
        "id": "wUfMKCUI-lrd"
      },
      "source": [
        "Пример:"
      ]
    },
    {
      "cell_type": "code",
      "execution_count": null,
      "metadata": {
        "colab": {
          "base_uri": "https://localhost:8080/"
        },
        "id": "Qk8GftjD-mHj",
        "outputId": "519a6e4f-9e78-4407-fdbb-c94e6d3f8ca6"
      },
      "outputs": [
        {
          "name": "stdout",
          "output_type": "stream",
          "text": [
            "H\n"
          ]
        }
      ],
      "source": [
        "my_string = \"Hello, World!\"\n",
        "print(my_string[0])"
      ]
    },
    {
      "cell_type": "markdown",
      "metadata": {
        "id": "8xdRy2Hf-oHQ"
      },
      "source": [
        "#### Списки"
      ]
    },
    {
      "cell_type": "markdown",
      "metadata": {
        "id": "ZvRkUDHh-q_R"
      },
      "source": [
        "Списки - последовательность элементов, которая записывается с использованием квадратных скобок."
      ]
    },
    {
      "cell_type": "markdown",
      "metadata": {
        "id": "Oobza3mK-r7f"
      },
      "source": [
        "Пример:"
      ]
    },
    {
      "cell_type": "code",
      "execution_count": null,
      "metadata": {
        "colab": {
          "base_uri": "https://localhost:8080/"
        },
        "id": "tLJrNif6-sb0",
        "outputId": "6755e079-b826-4491-ca17-379e6506a7b4"
      },
      "outputs": [
        {
          "name": "stdout",
          "output_type": "stream",
          "text": [
            "3\n"
          ]
        }
      ],
      "source": [
        "my_list = [1, 2, 3, 4, 5]\n",
        "print(my_list[2])"
      ]
    },
    {
      "cell_type": "markdown",
      "metadata": {
        "id": "CuYQs_hn-uGh"
      },
      "source": [
        "#### Кортежи"
      ]
    },
    {
      "cell_type": "markdown",
      "metadata": {
        "id": "rm3UE37i-wGa"
      },
      "source": [
        "Кортежи похожи на списки, но являются неизменяемыми."
      ]
    },
    {
      "cell_type": "markdown",
      "metadata": {
        "id": "WuFb9Xql-x6h"
      },
      "source": [
        "Пример:"
      ]
    },
    {
      "cell_type": "code",
      "execution_count": null,
      "metadata": {
        "colab": {
          "base_uri": "https://localhost:8080/"
        },
        "id": "ff-hxvPk-zHX",
        "outputId": "8408a182-03fc-4984-d20c-c0603045e659"
      },
      "outputs": [
        {
          "name": "stdout",
          "output_type": "stream",
          "text": [
            "4\n"
          ]
        }
      ],
      "source": [
        "my_tuple = (1, 2, 3, 4, 5)\n",
        "print(my_tuple[3])"
      ]
    },
    {
      "cell_type": "code",
      "execution_count": null,
      "metadata": {
        "colab": {
          "base_uri": "https://localhost:8080/"
        },
        "id": "_4UzS-frYQYv",
        "outputId": "0a32d1a6-ea3e-41f8-931c-80c6d6cc9f0c"
      },
      "outputs": [
        {
          "data": {
            "text/plain": [
              "5"
            ]
          },
          "execution_count": 26,
          "metadata": {},
          "output_type": "execute_result"
        }
      ],
      "source": [
        "len(my_tuple)"
      ]
    },
    {
      "cell_type": "markdown",
      "metadata": {
        "id": "eF9_0sEA-3GR"
      },
      "source": [
        "#### Объект Range"
      ]
    },
    {
      "cell_type": "markdown",
      "metadata": {
        "id": "GQf6Eu99-42i"
      },
      "source": [
        "Объект Range - специальный объект, который тоже является последовательностью, и представляет арифметическую последовательность чисел."
      ]
    },
    {
      "cell_type": "markdown",
      "metadata": {
        "id": "LoQL_Z8N1te8"
      },
      "source": [
        "Индексация очень похожа на строки."
      ]
    },
    {
      "cell_type": "markdown",
      "metadata": {
        "id": "ZrxE8B8P-5jl"
      },
      "source": [
        "Пример:"
      ]
    },
    {
      "cell_type": "code",
      "execution_count": null,
      "metadata": {
        "colab": {
          "base_uri": "https://localhost:8080/",
          "height": 108
        },
        "id": "7Wy1nNileN25",
        "outputId": "3b3b2a2a-62b5-4158-8bb1-3a50383b4799"
      },
      "outputs": [
        {
          "ename": "SyntaxError",
          "evalue": "invalid syntax (<ipython-input-33-81b4d84c7c6f>, line 1)",
          "output_type": "error",
          "traceback": [
            "\u001b[0;36m  File \u001b[0;32m\"<ipython-input-33-81b4d84c7c6f>\"\u001b[0;36m, line \u001b[0;32m1\u001b[0m\n\u001b[0;31m    [:5]\u001b[0m\n\u001b[0m     ^\u001b[0m\n\u001b[0;31mSyntaxError\u001b[0m\u001b[0;31m:\u001b[0m invalid syntax\n"
          ]
        }
      ],
      "source": [
        "[:5]"
      ]
    },
    {
      "cell_type": "code",
      "execution_count": null,
      "metadata": {
        "colab": {
          "base_uri": "https://localhost:8080/"
        },
        "id": "JYECVMLo-6p3",
        "outputId": "4b153eaa-f906-4419-e570-7272f9658cd7"
      },
      "outputs": [
        {
          "name": "stdout",
          "output_type": "stream",
          "text": [
            "2\n",
            "10\n"
          ]
        }
      ],
      "source": [
        "my_range = range(10)\n",
        "print(my_range[2])\n",
        "print(len(my_range))"
      ]
    },
    {
      "cell_type": "code",
      "execution_count": null,
      "metadata": {
        "colab": {
          "base_uri": "https://localhost:8080/"
        },
        "id": "3FtgaWfkY0km",
        "outputId": "3f3c2241-b6a9-4a5a-9205-5b2b272282c9"
      },
      "outputs": [
        {
          "data": {
            "text/plain": [
              "5"
            ]
          },
          "execution_count": 32,
          "metadata": {},
          "output_type": "execute_result"
        }
      ],
      "source": [
        "range(2, 11)[3]"
      ]
    },
    {
      "cell_type": "code",
      "execution_count": null,
      "metadata": {
        "colab": {
          "base_uri": "https://localhost:8080/"
        },
        "id": "f5iYmNXzYoIr",
        "outputId": "59b55e4b-1627-40fb-e53c-0c4dee9c9f68"
      },
      "outputs": [
        {
          "data": {
            "text/plain": [
              "range(0, 10)"
            ]
          },
          "execution_count": 28,
          "metadata": {},
          "output_type": "execute_result"
        }
      ],
      "source": [
        "my_range"
      ]
    },
    {
      "cell_type": "code",
      "execution_count": null,
      "metadata": {
        "colab": {
          "base_uri": "https://localhost:8080/"
        },
        "id": "Zc4DMZRpYqDz",
        "outputId": "85eb090d-5183-4b09-b6ab-e55955cbc9e5"
      },
      "outputs": [
        {
          "data": {
            "text/plain": [
              "[1, 2, 3, 4, 56, 6]"
            ]
          },
          "execution_count": 29,
          "metadata": {},
          "output_type": "execute_result"
        }
      ],
      "source": [
        "my_list"
      ]
    },
    {
      "cell_type": "code",
      "execution_count": null,
      "metadata": {
        "colab": {
          "base_uri": "https://localhost:8080/"
        },
        "id": "nTaSiWaq1dXN",
        "outputId": "129813a2-b8d7-47d4-b759-d55b59b5a9d9"
      },
      "outputs": [
        {
          "name": "stdout",
          "output_type": "stream",
          "text": [
            "[2, 3, 4, 5]\n"
          ]
        }
      ],
      "source": [
        "# ?\n",
        "print(list(range(2,6)))"
      ]
    },
    {
      "cell_type": "code",
      "execution_count": null,
      "metadata": {
        "colab": {
          "base_uri": "https://localhost:8080/"
        },
        "id": "5HRA_6Pkee-P",
        "outputId": "e494212e-8593-4980-9157-06c3145a8a9a"
      },
      "outputs": [
        {
          "name": "stdout",
          "output_type": "stream",
          "text": [
            "range(2, 6)\n"
          ]
        }
      ],
      "source": [
        "print(range(2,6))"
      ]
    },
    {
      "cell_type": "code",
      "execution_count": null,
      "metadata": {
        "id": "Ky64H0zc1yej"
      },
      "outputs": [],
      "source": [
        "# ?\n",
        "print(list(range(2, 6, 2)))"
      ]
    },
    {
      "cell_type": "code",
      "execution_count": null,
      "metadata": {
        "id": "6X_KeTZEfGFB"
      },
      "outputs": [],
      "source": [
        "range(0, 11)\n",
        "range(11)"
      ]
    },
    {
      "cell_type": "code",
      "execution_count": null,
      "metadata": {
        "id": "-4gcsfFdUXKz"
      },
      "outputs": [],
      "source": [
        "# ?\n",
        "print(range(len(\"Hello world\")))"
      ]
    },
    {
      "cell_type": "markdown",
      "metadata": {
        "id": "HmF4ZPME_Dcp"
      },
      "source": [
        "#### *Байты (Bytes) и массивы байт (Bytearrays)"
      ]
    },
    {
      "cell_type": "markdown",
      "metadata": {
        "id": "GQO43yps_EvO"
      },
      "source": [
        "Байты и массивы байт - последовательности, которые хранят байты (целые числа от 0 до 255). Массив байт - изменяемый. В курсе использоваться не будут, дается для полноты"
      ]
    },
    {
      "cell_type": "markdown",
      "metadata": {
        "id": "Ek--fFx1_G0B"
      },
      "source": [
        "Пример:"
      ]
    },
    {
      "cell_type": "code",
      "execution_count": null,
      "metadata": {
        "id": "PAveq_Bk_HMu"
      },
      "outputs": [],
      "source": [
        "my_bytes = b\"Hello\"\n",
        "print(my_bytes[0])"
      ]
    },
    {
      "cell_type": "code",
      "execution_count": null,
      "metadata": {
        "id": "MYURWojKx31M"
      },
      "outputs": [],
      "source": [
        "ba = bytearray(my_bytes)\n",
        "ba[0] = 101\n",
        "ba"
      ]
    },
    {
      "cell_type": "markdown",
      "metadata": {
        "id": "p89TlBSk53_U"
      },
      "source": [
        "### Списки (list) и кортежи (tuple) как примеры последовательностей"
      ]
    },
    {
      "cell_type": "markdown",
      "metadata": {
        "id": "NdXslluZ_QZD"
      },
      "source": [
        "Списки и кортежи - наиболее распространенные примеры последовательностей в Python. Они являются упорядоченными типами, и каждый их элемент может быть получен по индексу. Однако, между ними есть разница."
      ]
    },
    {
      "cell_type": "markdown",
      "metadata": {
        "id": "JUTwI4gP_Rq2"
      },
      "source": [
        "Списки изменяемые, что значит, что их элементы могут быть изменены, после того, как список был создан. Представляются они при помощи квдаратных скобок и могут содержать элементы любых других типов (даже другие списки). Списки обычно используются для хранения набора данных, который часто изменяется."
      ]
    },
    {
      "cell_type": "markdown",
      "metadata": {
        "id": "g5jIl5g__Shw"
      },
      "source": [
        "Пример:"
      ]
    },
    {
      "cell_type": "code",
      "execution_count": null,
      "metadata": {
        "colab": {
          "base_uri": "https://localhost:8080/",
          "height": 35
        },
        "id": "MS5M_vhp2-Y1",
        "outputId": "4f752a3c-af7c-4a82-b5d6-005f323011fc"
      },
      "outputs": [
        {
          "data": {
            "application/vnd.google.colaboratory.intrinsic+json": {
              "type": "string"
            },
            "text/plain": [
              "'t'"
            ]
          },
          "execution_count": 40,
          "metadata": {},
          "output_type": "execute_result"
        }
      ],
      "source": [
        "my_list = [1, 2, 3, \"hello\", [\"nested\", \"list\"]]\n",
        "my_list[-1][1][3]"
      ]
    },
    {
      "cell_type": "code",
      "execution_count": null,
      "metadata": {
        "id": "jqkrkC8u3CU1"
      },
      "outputs": [],
      "source": [
        "last_el_idx = len(my_list) - 1"
      ]
    },
    {
      "cell_type": "code",
      "execution_count": null,
      "metadata": {
        "id": "MzRcR4SBfd2D"
      },
      "outputs": [],
      "source": [
        "len(my_list)"
      ]
    },
    {
      "cell_type": "code",
      "execution_count": null,
      "metadata": {
        "id": "-THsqVAw3vtO"
      },
      "outputs": [],
      "source": [
        "my_list[last_el_idx]"
      ]
    },
    {
      "cell_type": "code",
      "execution_count": null,
      "metadata": {
        "id": "M6Vg1i_L2gbP"
      },
      "outputs": [],
      "source": [
        "len(my_list[last_el_idx])"
      ]
    },
    {
      "cell_type": "code",
      "execution_count": null,
      "metadata": {
        "colab": {
          "base_uri": "https://localhost:8080/"
        },
        "id": "SV8t2MB-_TP2",
        "outputId": "711096c5-92c8-4015-b965-8e1691b1a534"
      },
      "outputs": [
        {
          "name": "stdout",
          "output_type": "stream",
          "text": [
            "hello\n",
            "[1, 5, 3, 'hello', ['nested', 'list']]\n"
          ]
        }
      ],
      "source": [
        "my_list = [1, 2, 3, \"hello\", [\"nested\", \"list\"]]\n",
        "print(my_list[3])  # Output: \"hello\"\n",
        "my_list[1] = 5\n",
        "print(my_list)  # Output: [1, 5, 3, \"hello\", [\"nested\", \"list\"]]"
      ]
    },
    {
      "cell_type": "markdown",
      "metadata": {
        "id": "DSsGWozV_Ul4"
      },
      "source": [
        "Кортежи, с другой стороны, неизменяемые. Представляются при помощи круглых скобочек и так же могут содержать элементы любых других типов (включая другие кортежи). Кортежи часто используются для хранения данных, которые не будут меняться после того, как кортеж был создан."
      ]
    },
    {
      "cell_type": "markdown",
      "metadata": {
        "id": "K6rou8bM_WfJ"
      },
      "source": [
        "Пример:"
      ]
    },
    {
      "cell_type": "code",
      "execution_count": null,
      "metadata": {
        "id": "fH0kBykX_Xrd"
      },
      "outputs": [],
      "source": [
        "my_tuple = (1, 2, 3, \"hello\", (\"nested\", \"tuple\"))\n",
        "print(my_tuple[3])  # Output: \"hello\"\n",
        "# my_tuple[1] = 5  # This will result in a TypeError since tuples are immutable"
      ]
    },
    {
      "cell_type": "markdown",
      "metadata": {
        "id": "HQvKwRsa55Xm"
      },
      "source": [
        "### Разница между списками и кортежами"
      ]
    },
    {
      "cell_type": "markdown",
      "metadata": {
        "id": "wgbeMpSQ_jxZ"
      },
      "source": [
        "#### Изменяемость"
      ]
    },
    {
      "cell_type": "markdown",
      "metadata": {
        "id": "PaddP843_mGD"
      },
      "source": [
        "Списки изменяемы, что говорит о том, что их элементы могут меняться после того, как они были созданы, в то время как кортежи неизменяемы - соответственно их вид определяется на этапе их создания и более не меняется."
      ]
    },
    {
      "cell_type": "markdown",
      "metadata": {
        "id": "nF1Fw-bL_oWn"
      },
      "source": [
        "Пример:"
      ]
    },
    {
      "cell_type": "code",
      "execution_count": null,
      "metadata": {
        "id": "LS1JzseX_ouj"
      },
      "outputs": [],
      "source": [
        "my_list = [1, 2, 3]\n",
        "my_list[1] = 4\n",
        "print(my_list)  # Output: [1, 4, 3]\n",
        "\n",
        "my_tuple = (1, 2, 3)\n",
        "my_tuple[1] = 4  # This will result in a TypeError since tuples are immutable"
      ]
    },
    {
      "cell_type": "markdown",
      "metadata": {
        "id": "yZD7HhSy_rQU"
      },
      "source": [
        "#### Синтаксис"
      ]
    },
    {
      "cell_type": "markdown",
      "metadata": {
        "id": "asII1xM2_tP7"
      },
      "source": [
        "Списки представляются квадратными скобками `[]`, кортежи - круглыми `()`."
      ]
    },
    {
      "cell_type": "markdown",
      "metadata": {
        "id": "ihaHUf3v_vjn"
      },
      "source": [
        "Пример:"
      ]
    },
    {
      "cell_type": "code",
      "execution_count": null,
      "metadata": {
        "id": "6mEEoowg_waP"
      },
      "outputs": [],
      "source": [
        "my_list = [1, 2, 3]\n",
        "my_tuple = (1, 2, 3)"
      ]
    },
    {
      "cell_type": "markdown",
      "metadata": {
        "id": "zadO8v2k_z8x"
      },
      "source": [
        "#### Применение"
      ]
    },
    {
      "cell_type": "markdown",
      "metadata": {
        "id": "CYeBQd-T_00i"
      },
      "source": [
        "Списки используются для хранения наборов элементов, которые часто изменяются. Кортежи напротив, используются для хранения наборов, которые не должны никогда меняться."
      ]
    },
    {
      "cell_type": "markdown",
      "metadata": {
        "id": "NGXXNlSu_3IZ"
      },
      "source": [
        "Пример:"
      ]
    },
    {
      "cell_type": "code",
      "execution_count": null,
      "metadata": {
        "id": "wYFq-dU4_4As"
      },
      "outputs": [],
      "source": [
        "# Using a list to store a shopping cart\n",
        "shopping_cart = [\"apple\", \"banana\", \"orange\"]\n",
        "shopping_cart.append(\"pear\")\n",
        "print(shopping_cart)  # Output: [\"apple\", \"banana\", \"orange\", \"pear\"]\n",
        "\n",
        "# # Using a tuple to store a student's grades\n",
        "# grades = (85, 90, 95)\n",
        "# print(grades[1])  # Output: 90"
      ]
    },
    {
      "cell_type": "markdown",
      "metadata": {
        "id": "LDAw-dMz_7JO"
      },
      "source": [
        "#### Производительность"
      ]
    },
    {
      "cell_type": "markdown",
      "metadata": {
        "id": "CzUrl8_D_8IO"
      },
      "source": [
        "Из-за того, что кортежи неизменяемы, то они обычно быстрее и более эффективно хранятся в памяти компьютера, чем списки. Однако, это может быть заметно только при работе с большими данными."
      ]
    },
    {
      "cell_type": "markdown",
      "metadata": {
        "id": "v5low98G_-ps"
      },
      "source": [
        "Пример:"
      ]
    },
    {
      "cell_type": "code",
      "execution_count": null,
      "metadata": {
        "colab": {
          "base_uri": "https://localhost:8080/"
        },
        "id": "SPKZWLIs_-5z",
        "outputId": "7eb4c6b4-1adb-49df-8a7a-55946ba4fc78"
      },
      "outputs": [
        {
          "name": "stdout",
          "output_type": "stream",
          "text": [
            "List time: 5.538626483999906\n",
            "Tuple time: 0.0005070830002296134\n"
          ]
        }
      ],
      "source": [
        "import timeit\n",
        "\n",
        "# Creating a list of 100,000 integers\n",
        "list_time = timeit.timeit(stmt=\"[i for i in range(100000)]\", number=1000)\n",
        "print(\"List time:\", list_time)\n",
        "\n",
        "# Creating a tuple of 100,000 integers\n",
        "tuple_time = timeit.timeit(stmt=\"(i for i in range(100000))\", number=1000)\n",
        "print(\"Tuple time:\", tuple_time)"
      ]
    },
    {
      "cell_type": "markdown",
      "metadata": {
        "id": "oaAudutz57AB"
      },
      "source": [
        "### Когда использовать list, а когда кортеж"
      ]
    },
    {
      "cell_type": "markdown",
      "metadata": {
        "id": "raVbbPCFARrr"
      },
      "source": [
        "Используйте списки когда:\n",
        "\n",
        "1. Вам нужно добавляться или удалять элементы из набора данных.\n",
        "2. Вам нужно изменять элементы после того, как последовательность была создана.\n",
        "3. Вам нужно использовать методы списков: append(), insert(), remove(), и pop()\n",
        "\n",
        "Используйте кортежи когда:\n",
        "\n",
        "1. Вам необходимо быть уверенным, что набор данных, который вы определили, останется таким же, каким он был на момент создания.\n",
        "2. Вам необходимо защитить набор данных от случайного вмешательства\n",
        "3. *Вам необходимо использовать набор данных как ключ словаря (узнаем что это такое в последющих семинарах).\n",
        "4. Вам необходимо возвращать несколько значений из функции (coming soon на следующем семинаре)."
      ]
    },
    {
      "cell_type": "markdown",
      "metadata": {
        "id": "tZSFIijX59A_"
      },
      "source": [
        "## Итерирование по элементам списка и кортежа"
      ]
    },
    {
      "cell_type": "markdown",
      "metadata": {
        "id": "NGtD1Ke45-do"
      },
      "source": [
        "### Цикл for для итерирования по элементам списка"
      ]
    },
    {
      "cell_type": "markdown",
      "metadata": {
        "id": "TeOPvFX3K0x2"
      },
      "source": [
        "Для того, чтобы пробежать по элементам списка, мы можем использовать цикл `for`"
      ]
    },
    {
      "cell_type": "code",
      "execution_count": null,
      "metadata": {
        "colab": {
          "base_uri": "https://localhost:8080/"
        },
        "id": "ZTi0YnnyaTFt",
        "outputId": "5a4ad750-203d-4fe7-fd23-1d9575758145"
      },
      "outputs": [
        {
          "data": {
            "text/plain": [
              "(1, 2)"
            ]
          },
          "execution_count": 43,
          "metadata": {},
          "output_type": "execute_result"
        }
      ],
      "source": [
        "a = [1, (1, 2)]\n",
        "a[1]"
      ]
    },
    {
      "cell_type": "code",
      "execution_count": null,
      "metadata": {
        "colab": {
          "base_uri": "https://localhost:8080/"
        },
        "id": "mrnhYlkJKa0q",
        "outputId": "057fe9b4-e9cb-4ae7-ddc5-d14a376f5bb6"
      },
      "outputs": [
        {
          "name": "stdout",
          "output_type": "stream",
          "text": [
            "apple\n",
            "banana\n",
            "cherry\n"
          ]
        }
      ],
      "source": [
        "fruits = [\"apple\", \"banana\", \"cherry\"]\n",
        "\n",
        "for fruit in fruits:\n",
        "    print(fruit)"
      ]
    },
    {
      "cell_type": "code",
      "execution_count": null,
      "metadata": {
        "colab": {
          "base_uri": "https://localhost:8080/"
        },
        "id": "N6g7MzF2bF-S",
        "outputId": "51ed5592-2a80-4b66-ae09-9793f851832c"
      },
      "outputs": [
        {
          "name": "stdout",
          "output_type": "stream",
          "text": [
            "apple CCCCCC\n",
            "banana CCCCCC\n",
            "cherry CCCCCC\n"
          ]
        }
      ],
      "source": [
        "fruits = [\"apple\", \"banana\", \"cherry\"]\n",
        "\n",
        "for fruit in fruits:\n",
        "    print(fruit + ' CCCCCC')"
      ]
    },
    {
      "cell_type": "markdown",
      "metadata": {
        "id": "lvxa7nyA3V9H"
      },
      "source": [
        "Отличия `while` и  `for`"
      ]
    },
    {
      "cell_type": "markdown",
      "metadata": {
        "id": "HVEqUFkw3iBr"
      },
      "source": [
        "![image.png](data:image/png;base64,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)"
      ]
    },
    {
      "cell_type": "markdown",
      "metadata": {
        "id": "JlIkVV4o3kCE"
      },
      "source": [
        "Используя `while` не всегда можно сказать, когда прекратится выполнение программы. При использовании `for` итерирование происходит пока не встретится последний элемент последовательности."
      ]
    },
    {
      "cell_type": "code",
      "execution_count": null,
      "metadata": {
        "id": "567unV-g3jtd"
      },
      "outputs": [],
      "source": [
        "# пример с while, где заранее неизвестно количество операций\n",
        "user_input = \"\"\n",
        "while user_input != \"quit\":\n",
        "    user_input = input(\"Please enter a command (type 'quit' to exit): \")\n",
        "    if user_input == \"help\":\n",
        "        print(\"This program is a simple calculator.\")\n",
        "    elif user_input == \"calculate\":\n",
        "        print(\"Performing calculations...\")\n",
        "    elif user_input != \"quit\":\n",
        "        print(\"Invalid command, please try again.\")"
      ]
    },
    {
      "cell_type": "markdown",
      "metadata": {
        "id": "aoxsxKm15_sB"
      },
      "source": [
        "### Добираемся к конкретному элементу списка"
      ]
    },
    {
      "cell_type": "markdown",
      "metadata": {
        "id": "g-l_DBVpLKRe"
      },
      "source": [
        "Обратиться к элементу списка можно используя его индекс. Напомню, что индексы в Python начинаются с 0."
      ]
    },
    {
      "cell_type": "code",
      "execution_count": null,
      "metadata": {
        "id": "thqlraMBLLZA"
      },
      "outputs": [],
      "source": [
        "fruits = [\"apple\", \"banana\", \"cherry\"]\n",
        "\n",
        "print(fruits[0])  # Output: apple\n",
        "print(fruits[1])  # Output: banana\n",
        "print(fruits[2])  # Output: cherry"
      ]
    },
    {
      "cell_type": "markdown",
      "metadata": {
        "id": "NB1PRQ5JLPrj"
      },
      "source": [
        "Важно отметить, что если вы попробуете получить элемент по индексу, который не существует, то вы получите ошибку `IndexError`:"
      ]
    },
    {
      "cell_type": "code",
      "execution_count": null,
      "metadata": {
        "id": "38WrlOaJLRbN"
      },
      "outputs": [],
      "source": [
        "print(fruits[3])  # This will result in an IndexError since there is no element at index position 3"
      ]
    },
    {
      "cell_type": "markdown",
      "metadata": {
        "id": "jXz4AXWS6BWh"
      },
      "source": [
        "### Используем range() для итерирования по числовой последовательности"
      ]
    },
    {
      "cell_type": "markdown",
      "metadata": {
        "id": "w_dIu8_iLV9q"
      },
      "source": [
        "Функция `range()` возвращает специальный объект, который представляет собой перебираемую числовую последовательность. Она часто используется в циклах for для перебора последовательности чисел.\n",
        "\n"
      ]
    },
    {
      "cell_type": "code",
      "execution_count": null,
      "metadata": {
        "colab": {
          "base_uri": "https://localhost:8080/"
        },
        "id": "PCvaNnMLLbZB",
        "outputId": "e2dc3a94-8f88-467f-f4d3-9f8b9437e38f"
      },
      "outputs": [
        {
          "name": "stdout",
          "output_type": "stream",
          "text": [
            "0\n",
            "1\n",
            "2\n",
            "3\n",
            "4\n"
          ]
        }
      ],
      "source": [
        "for i in range(5):\n",
        "    print(i)"
      ]
    },
    {
      "cell_type": "code",
      "execution_count": null,
      "metadata": {
        "colab": {
          "base_uri": "https://localhost:8080/"
        },
        "id": "m1Wf5Qy78fUV",
        "outputId": "a7dda227-289b-452c-cd8e-5579acaa56bd"
      },
      "outputs": [
        {
          "name": "stdout",
          "output_type": "stream",
          "text": [
            "apple\n",
            "cherry\n"
          ]
        }
      ],
      "source": [
        "fruits = [\"apple\", \"banana\", \"cherry\"]\n",
        "for fruit_index in range(len(fruits)):\n",
        "  if fruit_index % 2 == 0:\n",
        "    print(fruits[fruit_index])"
      ]
    },
    {
      "cell_type": "markdown",
      "metadata": {
        "id": "ZTlD5Uk76Ff9"
      },
      "source": [
        "### Используем enumerate() для итерирования по индексам и элементам одновременно"
      ]
    },
    {
      "cell_type": "markdown",
      "metadata": {
        "id": "T_Xlj6oMLe-I"
      },
      "source": [
        "Функция `enumerate()` позволяет итерироваться по индексам и элементам последовательности одновременно. Функция `enumerate()` создает последовательность кортежей, где первый элемент содержит индекс, а второй - соответствующий индексу элемент последовательности."
      ]
    },
    {
      "cell_type": "code",
      "execution_count": null,
      "metadata": {
        "id": "1epMQoXJ9vHW"
      },
      "outputs": [],
      "source": [
        "i, fruit = (0, 'apple')"
      ]
    },
    {
      "cell_type": "code",
      "execution_count": null,
      "metadata": {
        "colab": {
          "base_uri": "https://localhost:8080/"
        },
        "id": "WaCf6lQndJlJ",
        "outputId": "a6c30d4d-5347-4a62-eeb2-2718d49749d5"
      },
      "outputs": [
        {
          "name": "stdout",
          "output_type": "stream",
          "text": [
            "e\n",
            "a\n",
            "y\n"
          ]
        }
      ],
      "source": [
        "fruits = [\"apple\", \"banana\", \"cherry\"]\n",
        "\n",
        "for c in fruits:\n",
        "  print(c[-1])"
      ]
    },
    {
      "cell_type": "code",
      "execution_count": null,
      "metadata": {
        "colab": {
          "base_uri": "https://localhost:8080/"
        },
        "id": "OQfGDAvVctg3",
        "outputId": "d6f9338d-e84a-4c16-d009-d35868ca444f"
      },
      "outputs": [
        {
          "name": "stdout",
          "output_type": "stream",
          "text": [
            "apple\n",
            "banana\n",
            "cherry\n",
            "0\n",
            "1\n",
            "2\n"
          ]
        }
      ],
      "source": [
        "fruits = [\"apple\", \"banana\", \"cherry\"]\n",
        "\n",
        "for fruit in fruits:\n",
        "  print(fruit)\n",
        "\n",
        "for i in range(len(fruits)):\n",
        "  print(i)"
      ]
    },
    {
      "cell_type": "code",
      "execution_count": null,
      "metadata": {
        "colab": {
          "base_uri": "https://localhost:8080/"
        },
        "id": "4aWbJ32nfeV1",
        "outputId": "b3c217ce-6e96-42f6-d08a-e25a8f301d25"
      },
      "outputs": [
        {
          "name": "stdout",
          "output_type": "stream",
          "text": [
            "a D\n",
            "b E\n",
            "c F\n"
          ]
        }
      ],
      "source": [
        "names = ['a', 'b', 'c']\n",
        "surnames = ['D', 'E', 'F']\n",
        "for i, name in enumerate(names):\n",
        "    final_str = name +' '+ surnames[i]\n",
        "    print(final_str)"
      ]
    },
    {
      "cell_type": "code",
      "execution_count": null,
      "metadata": {
        "id": "w96TW76OgmKm"
      },
      "outputs": [],
      "source": [
        "for i in range(len(names)):"
      ]
    },
    {
      "cell_type": "code",
      "execution_count": null,
      "metadata": {
        "colab": {
          "base_uri": "https://localhost:8080/"
        },
        "id": "dU0MCHL7eVo6",
        "outputId": "08cab8f3-55cf-4319-c635-b5a6b1182ec2"
      },
      "outputs": [
        {
          "data": {
            "text/plain": [
              "2"
            ]
          },
          "execution_count": 62,
          "metadata": {},
          "output_type": "execute_result"
        }
      ],
      "source": [
        "a, b = (1, 'word')"
      ]
    },
    {
      "cell_type": "code",
      "execution_count": null,
      "metadata": {
        "id": "aGC0aC1ZhaHe"
      },
      "outputs": [],
      "source": [
        "for fruit"
      ]
    },
    {
      "cell_type": "code",
      "execution_count": null,
      "metadata": {
        "colab": {
          "base_uri": "https://localhost:8080/"
        },
        "id": "qrrnxSeJLjBz",
        "outputId": "6143f4c7-1fbf-4388-8699-8baf373aa37c"
      },
      "outputs": [
        {
          "name": "stdout",
          "output_type": "stream",
          "text": [
            "0 apple\n",
            "1 banana\n",
            "2 cherry\n"
          ]
        }
      ],
      "source": [
        "fruits = [\"apple\", \"banana\", \"cherry\"]\n",
        "\n",
        "for i, fruit in enumerate(fruits):\n",
        "  print(i, fruit)"
      ]
    },
    {
      "cell_type": "code",
      "execution_count": null,
      "metadata": {
        "id": "DjHTFpMwfCmJ"
      },
      "outputs": [],
      "source": [
        "for i in range(len(fruits)):\n",
        "    word = fruits[i]\n",
        "    print(i, word)"
      ]
    },
    {
      "cell_type": "markdown",
      "metadata": {
        "id": "qyb9adpH6G9m"
      },
      "source": [
        "### Изменение списков во время итерирования по ним"
      ]
    },
    {
      "cell_type": "markdown",
      "metadata": {
        "id": "Nj12kl1qMDQh"
      },
      "source": [
        "Дабы изменить элемент списка, вы можете использовать индексы для перебора элементов и присваивание для их замены."
      ]
    },
    {
      "cell_type": "code",
      "execution_count": null,
      "metadata": {
        "id": "PFFCMFZrMESu"
      },
      "outputs": [],
      "source": [
        "numbers = [1, 2, 3, 4, 5]\n",
        "\n",
        "for i in range(len(numbers)):\n",
        "    if numbers[i] % 2 == 0:\n",
        "        numbers[i] = numbers[i] * 2\n",
        "\n",
        "print(numbers)"
      ]
    },
    {
      "cell_type": "markdown",
      "metadata": {
        "id": "zZNo591v6JI9"
      },
      "source": [
        "## Вложенные циклы"
      ]
    },
    {
      "cell_type": "markdown",
      "metadata": {
        "id": "duBtEruLNan6"
      },
      "source": [
        "Сейчас мы пользовались циклом for для перебора одномерных последовательностей. Однако, часто бывает полезным итерироваться по нескольким последовательностям в то же самое время. Для этого нам нужны вложенные циклы. Вложенный цикл это просто еще один цикл внутри другого цикла."
      ]
    },
    {
      "cell_type": "markdown",
      "metadata": {
        "id": "IsGnNcRl6Kcy"
      },
      "source": [
        "### Что это такое?"
      ]
    },
    {
      "cell_type": "markdown",
      "metadata": {
        "id": "7rrAC6JONje4"
      },
      "source": [
        "Вложенные циклы это цикл внутри другого цикла. Внутренний цикл выполняется полностью для каждой итерации внешнего цикла."
      ]
    },
    {
      "cell_type": "code",
      "execution_count": null,
      "metadata": {
        "id": "TsBaSIKKNeZj"
      },
      "outputs": [],
      "source": [
        "fruits = [\"apple\", \"banana\", \"cherry\"]\n",
        "colors = [\"red\", \"yellow\", \"pink\"]\n",
        "\n",
        "for fruit in fruits:\n",
        "    for color in colors:\n",
        "        print(fruit, color)"
      ]
    },
    {
      "cell_type": "markdown",
      "metadata": {
        "id": "rSygzojn6L3e"
      },
      "source": [
        "### Зачем они нужны?"
      ]
    },
    {
      "cell_type": "markdown",
      "metadata": {
        "id": "Ke_lHuW2Nn9C"
      },
      "source": [
        "Вложенные циклы полезны, когда у нас появляется необходимость итерироваться по нескольким последовательностям одновременно или выполнять различные операции над многомерными структурами данных (например, таблицы)."
      ]
    },
    {
      "cell_type": "markdown",
      "metadata": {
        "id": "XZj1XUygNpUO"
      },
      "source": [
        "Допустим, у нас есть матрица, представленная списком списков, где каждый внутренний список представляется собой строку матрицы. Мы можем использовать вложенный цикл для перебора всех элементов матрицы:"
      ]
    },
    {
      "cell_type": "code",
      "execution_count": null,
      "metadata": {
        "id": "8L36OezINq26"
      },
      "outputs": [],
      "source": [
        "matrix = [\n",
        "    [1, 2, 3],\n",
        "     [4, 5, 6],\n",
        "      [7, 8, 9]]\n",
        "\n",
        "for row in matrix:\n",
        "    for element in row:\n",
        "        print(element)"
      ]
    },
    {
      "cell_type": "markdown",
      "metadata": {
        "id": "BfSjPkdG6Qli"
      },
      "source": [
        "### Храним информацию в нескольких списках используя вложенные циклы"
      ]
    },
    {
      "cell_type": "markdown",
      "metadata": {
        "id": "sxMNkpZaN4qt"
      },
      "source": [
        "Вложенные циклы могут использоваться для хранения информации в нескольких списках одновременно. Например, в таких списках, которые имеют какое-либо отношение друг к другу."
      ]
    },
    {
      "cell_type": "markdown",
      "metadata": {
        "id": "zi8G3eapN5uM"
      },
      "source": [
        "Допустим у нас есть два списка. Первый содержит имена и второй возраста. Мы можем использовать вложенный цикл, чтобы создать пары имя-возраст для каждого человека:"
      ]
    },
    {
      "cell_type": "code",
      "execution_count": null,
      "metadata": {
        "id": "4ZqzmvODN699"
      },
      "outputs": [],
      "source": [
        "names = [\"Alice\", \"Bob\", \"Charlie\"]\n",
        "ages = [25, 30, 35]\n",
        "\n",
        "people = []\n",
        "for i in range(len(names)):\n",
        "    person = (names[i], ages[i])\n",
        "    people.append(person)\n",
        "\n",
        "print(people)"
      ]
    },
    {
      "cell_type": "code",
      "execution_count": null,
      "metadata": {
        "id": "2FrX2vs4jXtc"
      },
      "outputs": [],
      "source": [
        "[][0]"
      ]
    },
    {
      "cell_type": "markdown",
      "metadata": {
        "id": "PQQFXDYhOO1Q"
      },
      "source": [
        "Так же мы можем избежать вложенных циклов в таких примерах и использовать функцию zip(), которая объединит различные списки одинаковой длины в одиу перебираемую последовательность"
      ]
    },
    {
      "cell_type": "code",
      "execution_count": null,
      "metadata": {
        "id": "_BzKkaZ0OP9H"
      },
      "outputs": [],
      "source": [
        "names = [\"Alice\", \"Bob\", \"Charlie\"]\n",
        "ages = [25, 30, 35]\n",
        "genders = [\"female\", \"male\", \"male\"]\n",
        "\n",
        "people = []\n",
        "for name, age, gender in zip(names, ages, genders):\n",
        "    person = (name, age, gender)\n",
        "    people.append(person)\n",
        "\n",
        "print(people)"
      ]
    },
    {
      "cell_type": "code",
      "execution_count": null,
      "metadata": {
        "id": "hOf6Rjp8_lRl"
      },
      "outputs": [],
      "source": [
        "names = [\"Alice\", \"Bob\", \"Charlie\"]\n",
        "ages = [25, 30, 35]\n",
        "genders = [\"female\", \"male\", \"male\"]\n",
        "\n",
        "people = []\n",
        "for person in zip(names, ages, genders):\n",
        "    people.append(person)\n",
        "\n",
        "print(people)"
      ]
    },
    {
      "cell_type": "markdown",
      "metadata": {
        "id": "_iQTay6S7nuS"
      },
      "source": [
        "## Функция `split()`"
      ]
    },
    {
      "cell_type": "markdown",
      "metadata": {
        "id": "ag2rUQFe8JoE"
      },
      "source": [
        "Метод `split()` в Python разделяет строку на список подстрок по разделителю. По умолчанию любой пробел является разделителем."
      ]
    },
    {
      "cell_type": "code",
      "execution_count": null,
      "metadata": {
        "colab": {
          "base_uri": "https://localhost:8080/"
        },
        "id": "NLKSDc1k7veg",
        "outputId": "c28121e9-2ba2-4fa9-f615-a2df0e674a26"
      },
      "outputs": [
        {
          "name": "stdout",
          "output_type": "stream",
          "text": [
            "<class 'list'>\n",
            "['100', '300', '400', '500']\n"
          ]
        }
      ],
      "source": [
        "number = '100 300 400 500'\n",
        "splitted_number = number.split()\n",
        "\n",
        "print(type(splitted_number))\n",
        "print(splitted_number)"
      ]
    },
    {
      "cell_type": "code",
      "execution_count": null,
      "metadata": {
        "colab": {
          "background_save": true,
          "base_uri": "https://localhost:8080/"
        },
        "id": "2_xybQkJ8e0N",
        "outputId": "7bd27ba7-23eb-480c-ba64-f8c13d3ea6bc"
      },
      "outputs": [
        {
          "name": "stdout",
          "output_type": "stream",
          "text": [
            "<class 'list'>\n",
            "['1', '', ', A 3', '', ', B 4', '', ', C 5', '', '']\n"
          ]
        }
      ],
      "source": [
        "number = '100, A 300, B 400, C 500'\n",
        "splitted_number = number.split(',')\n",
        "\n",
        "print(type(splitted_number))\n",
        "print(splitted_number)"
      ]
    },
    {
      "cell_type": "code",
      "execution_count": null,
      "metadata": {
        "id": "MCDk3f_g9orD"
      },
      "outputs": [],
      "source": [
        "number = '100, A 300, B 400, C 500'\n",
        "splitted_number = number.split('Ы')\n",
        "\n",
        "print(type(splitted_number))\n",
        "print(splitted_number)"
      ]
    },
    {
      "cell_type": "markdown",
      "metadata": {
        "id": "Zg5ASNFwMLue"
      },
      "source": [
        "## Метод `map()`"
      ]
    },
    {
      "cell_type": "markdown",
      "metadata": {
        "id": "VpVxkOipMRb6"
      },
      "source": [
        "Такая задача — пройти по списку и с каждым элементом что-то сделать — встречается очень часто. Для неё придумали отдельную команду — `map()`.\n",
        "Функция `map()` принимает имя команды без скобок, которую нужно выполнить с каждым элементом, и структуру данных. Результат работы команды `map()` можно превратить в список. Попробуем напечатать длину всех строк в списке с помощью функции `map()`:"
      ]
    },
    {
      "cell_type": "code",
      "execution_count": null,
      "metadata": {
        "id": "8305CI6dMQxB"
      },
      "outputs": [],
      "source": [
        "map(len, ['Привет', 'ТЕСТ', 'функции', 'map!'])"
      ]
    },
    {
      "cell_type": "code",
      "execution_count": null,
      "metadata": {
        "id": "xPMUGEU7MVno"
      },
      "outputs": [],
      "source": [
        "print(list(map(len, ['Привет', 'ТЕСТ', 'функции', 'map!'])))"
      ]
    },
    {
      "cell_type": "code",
      "execution_count": null,
      "metadata": {
        "id": "o8_XbP5TMZBb"
      },
      "outputs": [],
      "source": [
        "print(list(map(str.lower, ['Привет', 'ТЕСТ', 'функции', 'map!'])))"
      ]
    },
    {
      "cell_type": "markdown",
      "metadata": {
        "id": "4fXXeo6bTOuj"
      },
      "source": [
        "## Задания"
      ]
    },
    {
      "cell_type": "markdown",
      "metadata": {
        "id": "q58GuI4t52b6"
      },
      "source": [
        "Дано 10 целых чисел. Вычислите их сумму."
      ]
    },
    {
      "cell_type": "code",
      "execution_count": null,
      "metadata": {
        "id": "mRJPFgK25gpW"
      },
      "outputs": [],
      "source": [
        "import random\n",
        "\n",
        "# random.seed(42)\n",
        "x = []\n",
        "for i in range(10):\n",
        "    x.append(random.randint(1, 5))\n",
        "print(x)\n",
        "# YOUR CODE\n",
        "s = 0\n",
        "for i in range(10):\n",
        "    s += x[i]\n",
        "print(s)"
      ]
    },
    {
      "cell_type": "markdown",
      "metadata": {
        "id": "XTlSoUtj7SDs"
      },
      "source": [
        "По данному натуральному n вычислите сумму $1^3+2^3+3^3+...+n^3$."
      ]
    },
    {
      "cell_type": "code",
      "execution_count": null,
      "metadata": {
        "id": "0_rhT-3lsm-4"
      },
      "outputs": [],
      "source": [
        "4 ** 2"
      ]
    },
    {
      "cell_type": "code",
      "execution_count": null,
      "metadata": {
        "id": "1339q5--7TNs"
      },
      "outputs": [],
      "source": [
        "n = 9\n",
        "sum = 0\n",
        "for i in range(n+1):\n",
        "    sum += i ** 3\n",
        "print(sum)"
      ]
    },
    {
      "cell_type": "markdown",
      "metadata": {
        "id": "BGtqjEra7YXg"
      },
      "source": [
        "Факториалом числа n называется произведение $1 × 2 × ... × n$. Обозначение: $n!$.\n",
        "По данному натуральному n вычислите значение n!. Пользоваться математической библиотекой math в этой задаче запрещено."
      ]
    },
    {
      "cell_type": "code",
      "execution_count": null,
      "metadata": {
        "id": "VonCnL0T7Yrc"
      },
      "outputs": [],
      "source": [
        "n = 9\n",
        "mult = 1\n",
        "for i in range(1, n+1):\n",
        "    mult *= i\n",
        "print(mult)"
      ]
    },
    {
      "cell_type": "markdown",
      "metadata": {
        "id": "w3fDDLn49hM8"
      },
      "source": [
        "Налогом облагаются все сделки, превышающие 250 у.е.\n",
        "\n",
        "Напишите программу, которая вычисляет сумму всех сделок, облагаемых налогом.\n",
        "\n",
        "На первой строке через пробел вводятся суммы сделок.\n",
        "Программа должна проверять, что сумма сделки больше 250 и, если да — учитывать ее.\n",
        "В итоге программа выводит сумму всех сделок, которые соответствуют условию."
      ]
    },
    {
      "cell_type": "markdown",
      "metadata": {
        "id": "OZKsQ5vM9-o0"
      },
      "source": [
        "![image.png](data:image/png;base64,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)"
      ]
    },
    {
      "cell_type": "code",
      "execution_count": null,
      "metadata": {
        "id": "fEqih9W_9k1o"
      },
      "outputs": [],
      "source": [
        "deals = input()\n",
        "splitted_deals = deals.split()\n",
        "sum = 0\n",
        "for i in range(len(splitted_deals)):\n",
        "    deal = int(splitted_deals[i])\n",
        "    if deal > 250:\n",
        "      sum += deal\n",
        "print(sum)"
      ]
    },
    {
      "cell_type": "code",
      "execution_count": null,
      "metadata": {
        "id": "JbS8okfXx0fP"
      },
      "outputs": [],
      "source": []
    },
    {
      "cell_type": "markdown",
      "metadata": {
        "id": "kfDNVjwz_Qmn"
      },
      "source": [
        "Реализуйте программу, которая печатает имя студента и его оценку за экзамен:\n",
        "* На первой строке через пробел вводятся имена студентов.\n",
        "* На второй строке через пробел вводятся оценки каждого студента.\n",
        "\n",
        "Каждая оценка соответствует имени студента: первая — первому, вторая — второму и т.д.\n",
        "\n",
        "Для каждого студента программа печатает фразу: 'Студент/ка <ИМЯ СТУДЕНТА> получил/а оценку <ОЦЕНКА>'."
      ]
    },
    {
      "cell_type": "code",
      "execution_count": null,
      "metadata": {
        "id": "Ml7dNpLO_RB4"
      },
      "outputs": [],
      "source": [
        "names = input().split()\n",
        "marks = input().split()\n",
        "for i in range(len(names)):\n",
        "    print(f'Студент/ка {names[i]} получил/а оценку {marks[i]}')"
      ]
    },
    {
      "cell_type": "markdown",
      "metadata": {
        "id": "ydir_XxyTRM2"
      },
      "source": [
        "1. Напишите программу, которая создает список списков, представляющий таблицу умножения для чисел от 1 до 10. Например, первый подсписок содержит значения произведения 1x1, 1x2, 1x3, ..., 1x10, второй 2x1, 2x2, 2x3, ..., 2x10, и т.д."
      ]
    },
    {
      "cell_type": "code",
      "execution_count": null,
      "metadata": {
        "id": "NeQQEWACTu1e"
      },
      "outputs": [],
      "source": []
    },
    {
      "cell_type": "markdown",
      "metadata": {
        "id": "RqneJjgoAyXh"
      },
      "source": [
        "По данному натуральному n ≤ 9 выведите лесенку из n ступенек, i-я ступенька состоит из чисел от 1 до i без пробелов."
      ]
    },
    {
      "cell_type": "code",
      "execution_count": null,
      "metadata": {
        "id": "SmjSLXwbAywD"
      },
      "outputs": [],
      "source": []
    },
    {
      "cell_type": "markdown",
      "metadata": {
        "id": "1-vBcD4_ByCd"
      },
      "source": [
        "Даны два целых числа A и В. Выведите все числа от A до B включительно, в порядке возрастания, если A < B, или в порядке убывания в противном случае."
      ]
    },
    {
      "cell_type": "code",
      "execution_count": null,
      "metadata": {
        "id": "elsSX8EJBzhb"
      },
      "outputs": [],
      "source": []
    },
    {
      "cell_type": "markdown",
      "metadata": {
        "id": "lIqdKWss1149"
      },
      "source": [
        "Реализуйте следующую программу:\n",
        "\n",
        "На первой строке вводится цена книги (целое число).\n",
        "\n",
        "На второй строке вводится сдача, которая осталась от покупки (целое число).\n",
        "\n",
        "Гарантируется, что денег на покупку книги хватает.\n",
        "\n",
        "Программа должна вывести фразу вида 'Я купил книгу стоимостью <ЦЕНА КНИГИ> рублей, изначально у меня было <СУММА ДЕНЕГ> рублей.'."
      ]
    },
    {
      "cell_type": "code",
      "execution_count": null,
      "metadata": {
        "id": "GXYMbp8e1zek"
      },
      "outputs": [],
      "source": [
        "price_book = int(input())\n",
        "change = int(input())\n",
        "print(f'Я купил книгу стоимостью {price_book} рублей, изначально у меня было {price_book+change} рублей.')"
      ]
    },
    {
      "cell_type": "markdown",
      "metadata": {
        "id": "JeEYUJ7Y2htI"
      },
      "source": [
        "Реализуйте программу, проверяющую, подходит ли температура на улице для прогулки в кафе «Ровесник».\n",
        "\n",
        "* Вводится целое число — температура в градусах.\n",
        "* Если температура не более 30 градусов, то выводится строка \"Идем гулять!\". В остальных случаях выводится строка \"Жарковато\". Эти строки сохранены для вас в переменные ok и warm."
      ]
    },
    {
      "cell_type": "code",
      "execution_count": null,
      "metadata": {
        "id": "9om4TbqV2kxk"
      },
      "outputs": [],
      "source": [
        "temperature = int(input())\n",
        "if temperature <= 30:\n",
        "    print(\"Идем гулять!\")\n",
        "else:\n",
        "    print('Жарковато')"
      ]
    },
    {
      "cell_type": "markdown",
      "metadata": {
        "id": "IaN1E5pl3fCs"
      },
      "source": [
        "Реализуйте программу, определяющую, сколько чисел, не кратных 3, было введено:\n",
        "* В цикле while считываются целые числа до тех пор, пока не введен 0.\n",
        "* Для каждого вводимого числа проверьте, что оно не кратно 3.\n",
        "* Гарантируется, что до 0 будет введено как минимум одно число.\n",
        "* В конце напечатайте целое число — количество чисел, не кратных 3."
      ]
    },
    {
      "cell_type": "code",
      "execution_count": null,
      "metadata": {
        "id": "p3UPXzZZ4r2o"
      },
      "outputs": [],
      "source": [
        "n = 0\n",
        "while n <= 10:\n",
        "    print(n)\n",
        "    n += 1"
      ]
    },
    {
      "cell_type": "code",
      "execution_count": null,
      "metadata": {
        "id": "eV3N2eqA3exS"
      },
      "outputs": [],
      "source": [
        "count = 0\n",
        "while True:\n",
        "    n = int(input())\n",
        "    if n==0:\n",
        "        break\n",
        "    if n % 3 != 0:\n",
        "        count += 1\n",
        "print(count)"
      ]
    },
    {
      "cell_type": "code",
      "execution_count": null,
      "metadata": {
        "id": "ftXlMsyf5GqW"
      },
      "outputs": [],
      "source": [
        "count = 0\n",
        "n = int(input())\n",
        "while n!=0:\n",
        "    if n % 3 != 0:\n",
        "        count += 1\n",
        "    n = int(input())\n",
        "print(count)"
      ]
    }
  ],
  "metadata": {
    "colab": {
      "provenance": []
    },
    "kernelspec": {
      "display_name": "Python 3",
      "name": "python3"
    },
    "language_info": {
      "name": "python"
    }
  },
  "nbformat": 4,
  "nbformat_minor": 0
}