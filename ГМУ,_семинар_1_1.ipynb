{
  "nbformat": 4,
  "nbformat_minor": 0,
  "metadata": {
    "colab": {
      "provenance": []
    },
    "kernelspec": {
      "name": "python3",
      "display_name": "Python 3"
    },
    "language_info": {
      "name": "python"
    }
  },
  "cells": [
    {
      "cell_type": "markdown",
      "source": [
        "# Семинар 1"
      ],
      "metadata": {
        "id": "SMvB3JC-BeXG"
      }
    },
    {
      "cell_type": "markdown",
      "source": [
        "ФОРМУЛА ОЦЕНИВАНИЯ:\n",
        "\n",
        "* 0.1 х активность на занятиях\n",
        "\n",
        "* 0.2 х самостоятельные работы\n",
        "\n",
        "* 0.2 х контрольная работа\n",
        "\n",
        "* 0.3 х проект и защита проекта\n",
        "\n",
        "* 0.2 х экзамен"
      ],
      "metadata": {
        "id": "zS3KMLf60j_b"
      }
    },
    {
      "cell_type": "markdown",
      "source": [
        "## Установка анаконды (необязательно)"
      ],
      "metadata": {
        "id": "1hoDoMP5zmrU"
      }
    },
    {
      "cell_type": "markdown",
      "source": [
        "\n",
        "Для тех, у кого винда - https://pythonru.com/baza-znanij/kak-ustanovit-anaconda-na-windows\n",
        "\n",
        "Для тех, у кого мак ос - https://pythonru.com/baza-znanij/kak-ustanovit-anaconda-na-macos"
      ],
      "metadata": {
        "id": "uDFYWajaIHde"
      }
    },
    {
      "cell_type": "markdown",
      "source": [
        "## Введение в программирование на Python"
      ],
      "metadata": {
        "id": "q4Y00lC0BEej"
      }
    },
    {
      "cell_type": "markdown",
      "source": [
        "### Небольшая история Python\n",
        "\n",
        "Первый релиз Питона состоялся в 1991 году, и опубликовал его один голландец Гвидо Ван Россум, который очень любил смотреть летающий цирк Монти Пайтона, в честь которого и назвал язык программирования. Но всем нравятся змейки (да, ведь?), поэтому со временем они появились и на логотипе Питона."
      ],
      "metadata": {
        "id": "ZbHgYl0gBQ4T"
      }
    },
    {
      "cell_type": "markdown",
      "source": [
        "![image.png](data:image/png;base64,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)"
      ],
      "metadata": {
        "id": "WKYoUJ2R1doS"
      }
    },
    {
      "cell_type": "markdown",
      "source": [
        "### Почему Python популярен\n",
        "\n",
        "Есть множество причин, почему люди любят питон и вот некоторые из них:\n",
        "\n",
        "1. Простота использования: простой синтаксис был заложен в питон с самых первых версий. Одной из решаемых задач при создании языка был низкий порог вхождения для новых разработчиков и пользователей\n",
        "2. Большое комьюнити: чем больше народу, тем меньше шанс, что язык перестанет поддерживаться и развиваться. Кроме того, всегда можно найти ответ на возникший вопрос\n",
        "3. Множество библиотек: чем больше библиотек, тем меньше вам придется писать кода и ломать голову над каким-либо функционалом. Имея в своем распоряжении множество библиотек, разработка сводится к сборке лего\n",
        "4. Универсальность: Питон - прикладной язык и может применяться во множестве сфер (включая и вашу, об этом далее)\n",
        "5. Востребованность: просто зайдите на сайт с вакансиями, вбейте туда Python и посмотрите на их количество и количество денег, которые вам готовы предложить за то, что вы знаете этот простой язык\n",
        "\n"
      ],
      "metadata": {
        "id": "mh2yiXfLBI08"
      }
    },
    {
      "cell_type": "markdown",
      "source": [
        "### Зачем Python нужен в сфере государственного и муниципального управления?\n",
        "\n",
        "1. Анализ данных: Питон один из ниболее используемых инструментов для анализа данных. А данных в сфере государственного управления очень много (знакомтесь.с ведомством, которое этим занимается - [Росстат](https://rosstat.gov.ru/)). Данных может быть настолько много, что SPSS, Stata, Excel и другие просто не смогут их прочитать. Питон намного более эффективный и мощный инструмент\n",
        "\n",
        "2. Автоматизация: Увы, но любая работа (особенно в вашей сфере) содержит достаточно большое число рутинных операций, которые будут съедать ваше свободное время и заставлять сидеть в офисе под тусклой лампой до поздна. Более продвинутые сотрудники могут использовать средства для автоматизации их рутины (и, соответственно, имеют больше возможностей для скорейшего продвижения по карьерной лестнице). Питон - один из таких инструментов\n",
        "\n",
        "3. Интеграция различных процессов внутри ведомства: часть ваших будущих коллег будут передавать вам данные в SPSS, часть коллег доставит вам стопку бумажных документов, часть информации вы услышите от недовольных жителей и запишите себе в Excel. Все эти процессы имеют разную природу и реагировать на них вы будете по-разному, но все процессы внутри ведомства связаны. И связать их можно либо используя ваш ресурс (опять же, за счет вашего времени), либо за счет более продвинутых средств вроде автоматических скриптов на Python\n"
      ],
      "metadata": {
        "id": "yrZIv_7VFnJe"
      }
    },
    {
      "cell_type": "markdown",
      "source": [
        "### Введение в Jupyter Notebook (или где мы с вами читаем это все?)\n",
        "\n",
        "Юпитер Ноутбуки - это по сути виртуальные тетрадки, которые могут содержать исполняемый код, уравнения, визуализации, изображения или обычный текст.\n",
        "\n",
        "В этих тетрадках вы можете записывать свои идеи, пояснения (как я делаю прямо сейчас), проводить эксперименты с кодом. Вы можете написать код в ячейках тетрадки и сразу же запустить его. Посредством тетрадок питон намного проще изучать, нежели используя сырые исходные коды.\n",
        "\n",
        "В этих тетрадках можно записывать код не только на питоне, но и на других языках программирования, например, R (с ним вы столкнетесь на старших курсах и предпочтение между питоном и R будет лишь за счет ваших вкусовов).\n",
        "\n",
        "Кроме того, тетрадки юпитера отлично подходят для коллаборации между людьми: вы можете передавать тетрадки друг другу и видеть выводы и графики, которые были построены (в нашем курсе опция распространения тетрадок лишь моя прерогатива, вам же делиться решениями друг с другом **не** разрешается).\n"
      ],
      "metadata": {
        "id": "TzKSK44nMuIH"
      }
    },
    {
      "cell_type": "markdown",
      "source": [
        "## Посвящение в программисты"
      ],
      "metadata": {
        "id": "sC5_OBGF5LP6"
      }
    },
    {
      "cell_type": "code",
      "source": [
        "print('Hello world')"
      ],
      "metadata": {
        "colab": {
          "base_uri": "https://localhost:8080/"
        },
        "id": "PaiMvwpE5Ogt",
        "outputId": "85f1b9ac-7116-4ded-da01-5e6b98f5a427"
      },
      "execution_count": null,
      "outputs": [
        {
          "output_type": "stream",
          "name": "stdout",
          "text": [
            "Hello world\n"
          ]
        }
      ]
    },
    {
      "cell_type": "markdown",
      "source": [
        "## Создание переменной в питоне"
      ],
      "metadata": {
        "id": "vMV_6rTu3218"
      }
    },
    {
      "cell_type": "markdown",
      "source": [
        "Общий синтаксис\n",
        "\n",
        "**`имя переменной = объект`**\n",
        "\n",
        "Например, создадим переменную a, которой присвоим значение 1:"
      ],
      "metadata": {
        "id": "Nip8WMHu4QWq"
      }
    },
    {
      "cell_type": "code",
      "source": [
        "a = 1"
      ],
      "metadata": {
        "id": "tLgaV7OF35Vh"
      },
      "execution_count": null,
      "outputs": []
    },
    {
      "cell_type": "code",
      "source": [
        "print(a)"
      ],
      "metadata": {
        "colab": {
          "base_uri": "https://localhost:8080/"
        },
        "id": "5UMUg1jMQu_p",
        "outputId": "db9bff04-9d1b-435e-fac1-8f51387e43c0"
      },
      "execution_count": null,
      "outputs": [
        {
          "output_type": "stream",
          "name": "stdout",
          "text": [
            "1\n"
          ]
        }
      ]
    },
    {
      "cell_type": "markdown",
      "source": [
        "Предположим, я хочу назвать переменную 1qwerty — проверим, получится или нет:"
      ],
      "metadata": {
        "id": "0SXfKeiV40BD"
      }
    },
    {
      "cell_type": "code",
      "source": [
        "1qwerty = 2"
      ],
      "metadata": {
        "colab": {
          "base_uri": "https://localhost:8080/",
          "height": 141
        },
        "id": "h9Ovdhcq4zoV",
        "outputId": "f04131e0-aabd-4b6e-8559-403d0cc1ecf7"
      },
      "execution_count": null,
      "outputs": [
        {
          "output_type": "error",
          "ename": "SyntaxError",
          "evalue": "invalid decimal literal (<ipython-input-3-f9d2c19decdd>, line 1)",
          "traceback": [
            "\u001b[0;36m  File \u001b[0;32m\"<ipython-input-3-f9d2c19decdd>\"\u001b[0;36m, line \u001b[0;32m1\u001b[0m\n\u001b[0;31m    1qwerty = 2\u001b[0m\n\u001b[0m    ^\u001b[0m\n\u001b[0;31mSyntaxError\u001b[0m\u001b[0;31m:\u001b[0m invalid decimal literal\n"
          ]
        }
      ]
    },
    {
      "cell_type": "markdown",
      "source": [
        "Выдается ошибка SyntaxError, которая явно свидетельствует, что что-то с названием переменной не так. Но тогда, как можно называть переменные, а как нельзя?\n",
        "\n",
        "Переменные в  Python подчиняются следующим правилам:\n",
        "\n",
        "* имя переменной может содержать только буквенно-цифровые символы и символы подчеркивания (A-Za-z, 0–9 и _)\n",
        "* имя переменной должно начинаться с буквы или символа подчеркивания\n",
        "имя переменной не может начинаться с цифры\n",
        "* в имени переменной не должно быть пробелов\n",
        "* имя не должно совпадать со служебными (зарезервированными) словами в Python"
      ],
      "metadata": {
        "id": "dzp2Qoo343Ph"
      }
    },
    {
      "cell_type": "markdown",
      "source": [
        "Список зарезервированных слов можно узнать так:"
      ],
      "metadata": {
        "id": "_J92BoWx49wi"
      }
    },
    {
      "cell_type": "code",
      "source": [
        "import keyword\n",
        "print(keyword.kwlist)"
      ],
      "metadata": {
        "colab": {
          "base_uri": "https://localhost:8080/"
        },
        "id": "Z60RXdo448gR",
        "outputId": "d5562538-1a3f-4bbd-fdec-c251868c8792"
      },
      "execution_count": null,
      "outputs": [
        {
          "output_type": "stream",
          "name": "stdout",
          "text": [
            "['False', 'None', 'True', 'and', 'as', 'assert', 'async', 'await', 'break', 'class', 'continue', 'def', 'del', 'elif', 'else', 'except', 'finally', 'for', 'from', 'global', 'if', 'import', 'in', 'is', 'lambda', 'nonlocal', 'not', 'or', 'pass', 'raise', 'return', 'try', 'while', 'with', 'yield']\n"
          ]
        }
      ]
    },
    {
      "cell_type": "markdown",
      "source": [
        "## Базовые типы данных в питоне\n",
        "\n",
        "### Обзор базовых типов данных в Python\n",
        "\n",
        "В питоне существует множество типов данных, которые используются для представления различных типов информации:\n",
        "\n",
        "1. Целые числа (Integers, int): это числа вроде 1, 2, 3, -100, 0, 42. В питоне они представлены типом **`int`**. Например: **`a = 1`**\n",
        "\n",
        "2. Числа с плавающей запятой (floating-point numbers, float): это числа вроде 3.1415, 12.32, 12.0, 0.0, -12.03. В питоне они представляются типом **`float`**. Например: **`b = 3.14`**\n",
        "\n",
        "3. Строки (string, str): Строки это последовательности символов, такие как \"Hello World!\" или \"Python\". В питоне они представляются типом **`str`**. Сами строки заключаются в одинарные **`'`** или двойные кавычки **`\"`**. Например: **`c = \"Hello World!\"`**\n",
        "\n",
        "Существуют и другие типы данных, но мы их рассмотрим на следующих семинарах\n"
      ],
      "metadata": {
        "id": "wcYM3h97QQKv"
      }
    },
    {
      "cell_type": "code",
      "source": [
        "c = 'Hello world'\n",
        "print(type(c))\n",
        "b = \"Hello world\"\n",
        "print(type(b))"
      ],
      "metadata": {
        "colab": {
          "base_uri": "https://localhost:8080/"
        },
        "id": "YlU1s1_ERnM0",
        "outputId": "d300f507-444d-4b83-c3f3-71df53e90fa7"
      },
      "execution_count": null,
      "outputs": [
        {
          "output_type": "stream",
          "name": "stdout",
          "text": [
            "<class 'str'>\n",
            "<class 'str'>\n"
          ]
        }
      ]
    },
    {
      "cell_type": "code",
      "source": [
        "type(a)"
      ],
      "metadata": {
        "colab": {
          "base_uri": "https://localhost:8080/"
        },
        "id": "ciK6aNZrtd5g",
        "outputId": "e2d40fa7-216a-40e8-ab42-f4cd2aa39493"
      },
      "execution_count": null,
      "outputs": [
        {
          "output_type": "execute_result",
          "data": {
            "text/plain": [
              "int"
            ]
          },
          "metadata": {},
          "execution_count": 4
        }
      ]
    },
    {
      "cell_type": "code",
      "source": [
        "type(3.14)"
      ],
      "metadata": {
        "colab": {
          "base_uri": "https://localhost:8080/"
        },
        "id": "IuftKgJQtgyZ",
        "outputId": "d211a2d3-317e-42ba-a6f2-b07c1f11c432"
      },
      "execution_count": null,
      "outputs": [
        {
          "output_type": "execute_result",
          "data": {
            "text/plain": [
              "float"
            ]
          },
          "metadata": {},
          "execution_count": 5
        }
      ]
    },
    {
      "cell_type": "markdown",
      "source": [
        "### Примеры арифметических операций с int и float значениями"
      ],
      "metadata": {
        "id": "6blzonqMRtk7"
      }
    },
    {
      "cell_type": "code",
      "source": [
        "print(b)"
      ],
      "metadata": {
        "colab": {
          "base_uri": "https://localhost:8080/"
        },
        "id": "eiT5d_n1SGSH",
        "outputId": "af084f1e-ffb4-40df-c7e6-b8611c97e101"
      },
      "execution_count": null,
      "outputs": [
        {
          "output_type": "stream",
          "name": "stdout",
          "text": [
            "Hello world\n"
          ]
        }
      ]
    },
    {
      "cell_type": "code",
      "source": [
        "print(4)"
      ],
      "metadata": {
        "colab": {
          "base_uri": "https://localhost:8080/"
        },
        "id": "B1iNcStXSHoG",
        "outputId": "57f52e96-a056-450a-e1f4-7db72e2e6243"
      },
      "execution_count": null,
      "outputs": [
        {
          "output_type": "stream",
          "name": "stdout",
          "text": [
            "4\n"
          ]
        }
      ]
    },
    {
      "cell_type": "code",
      "source": [
        "print('aaa')"
      ],
      "metadata": {
        "colab": {
          "base_uri": "https://localhost:8080/"
        },
        "id": "RQDmFp4ESJB8",
        "outputId": "7d602413-1417-4d8c-fb5c-d9f37b397439"
      },
      "execution_count": null,
      "outputs": [
        {
          "output_type": "stream",
          "name": "stdout",
          "text": [
            "aaa\n"
          ]
        }
      ]
    },
    {
      "cell_type": "code",
      "source": [
        "# Считаем бюджет\n",
        "\n",
        "personnel_costs = 15000\n",
        "equipment_costs = 20000\n",
        "supplies_costs = 5000\n",
        "\n",
        "total_budget = personnel_costs + equipment_costs + supplies_costs\n",
        "print(\"Total budget:\", total_budget)"
      ],
      "metadata": {
        "colab": {
          "base_uri": "https://localhost:8080/"
        },
        "id": "7o5ivWH_BFvH",
        "outputId": "5005d40d-ef76-40c6-b9a9-f4f136418540"
      },
      "execution_count": null,
      "outputs": [
        {
          "output_type": "stream",
          "name": "stdout",
          "text": [
            "Total budget: 40000\n"
          ]
        }
      ]
    },
    {
      "cell_type": "code",
      "source": [
        "# Подсчет демографического прогноза\n",
        "\n",
        "current_population = 100000\n",
        "birth_rate = 0.02\n",
        "death_rate = 0.01\n",
        "\n",
        "projected_population = current_population * (1 + birth_rate - death_rate)\n",
        "print(\"Projected population:\", int(projected_population))"
      ],
      "metadata": {
        "colab": {
          "base_uri": "https://localhost:8080/"
        },
        "id": "oQjezM3XSXJb",
        "outputId": "9c121a49-46c9-4dc9-a975-db118dbef035"
      },
      "execution_count": null,
      "outputs": [
        {
          "output_type": "stream",
          "name": "stdout",
          "text": [
            "Projected population: 101000\n"
          ]
        }
      ]
    },
    {
      "cell_type": "code",
      "source": [
        "int(4.3)"
      ],
      "metadata": {
        "colab": {
          "base_uri": "https://localhost:8080/"
        },
        "id": "ynGS9QqRScWe",
        "outputId": "d10bc5d7-f459-4660-c81a-8e163ec918c2"
      },
      "execution_count": null,
      "outputs": [
        {
          "output_type": "execute_result",
          "data": {
            "text/plain": [
              "4"
            ]
          },
          "metadata": {},
          "execution_count": 6
        }
      ]
    },
    {
      "cell_type": "code",
      "source": [
        "type(projected_population)"
      ],
      "metadata": {
        "colab": {
          "base_uri": "https://localhost:8080/"
        },
        "id": "EDiayUjFSXBU",
        "outputId": "649381c0-cb04-4357-fb1a-1730269eafda"
      },
      "execution_count": null,
      "outputs": [
        {
          "output_type": "execute_result",
          "data": {
            "text/plain": [
              "float"
            ]
          },
          "metadata": {},
          "execution_count": 12
        }
      ]
    },
    {
      "cell_type": "code",
      "source": [
        "# Распределение ресурсов\n",
        "\n",
        "total_resources = 100\n",
        "resource_allocation_percentage = 0.3\n",
        "\n",
        "allocated_resources = total_resources * resource_allocation_percentage\n",
        "print(\"Allocated resources:\", allocated_resources)"
      ],
      "metadata": {
        "colab": {
          "base_uri": "https://localhost:8080/"
        },
        "id": "XHJONLmzSl02",
        "outputId": "13e1da28-5195-43a9-b568-22e27400e0cc"
      },
      "execution_count": null,
      "outputs": [
        {
          "output_type": "stream",
          "name": "stdout",
          "text": [
            "Allocated resources: 30.0\n"
          ]
        }
      ]
    },
    {
      "cell_type": "markdown",
      "source": [
        "### Примеры операций со строкам"
      ],
      "metadata": {
        "id": "Nvtg9ciWS2RB"
      }
    },
    {
      "cell_type": "code",
      "source": [
        "# Конкатенация строк\n",
        "\n",
        "name = \"Вася\"\n",
        "last_name = 'Пупкин'\n",
        "\n",
        "full_name = name + ' ' + last_name\n",
        "print(\"Full name:\", full_name)"
      ],
      "metadata": {
        "colab": {
          "base_uri": "https://localhost:8080/"
        },
        "id": "6Q9odXCpSw5p",
        "outputId": "8324d7b4-4437-4e18-ff41-5cfb829e118e"
      },
      "execution_count": null,
      "outputs": [
        {
          "output_type": "stream",
          "name": "stdout",
          "text": [
            "Full name: Вася Пупкин\n"
          ]
        }
      ]
    },
    {
      "cell_type": "code",
      "source": [
        "# Повторение строки\n",
        "\n",
        "message = \"Hello\"\n",
        "\n",
        "repeated_message = message * 3\n",
        "print(\"Repeated message:\", repeated_message)"
      ],
      "metadata": {
        "colab": {
          "base_uri": "https://localhost:8080/"
        },
        "id": "g3QhZc1AS7UU",
        "outputId": "b038403e-9772-4b1b-e304-3bad06160450"
      },
      "execution_count": null,
      "outputs": [
        {
          "output_type": "stream",
          "name": "stdout",
          "text": [
            "Repeated message: HelloHelloHello\n"
          ]
        }
      ]
    },
    {
      "cell_type": "code",
      "source": [
        "# Индексация строк\n",
        "temp = 'Python'\n",
        "print(temp[2])\n",
        "print(temp[0])"
      ],
      "metadata": {
        "colab": {
          "base_uri": "https://localhost:8080/"
        },
        "id": "de3NGAO66xNc",
        "outputId": "d72bb31d-5a07-4904-b3bf-ea208f0c0c75"
      },
      "execution_count": null,
      "outputs": [
        {
          "output_type": "stream",
          "name": "stdout",
          "text": [
            "t\n",
            "P\n"
          ]
        }
      ]
    },
    {
      "cell_type": "markdown",
      "source": [
        "![image.png](data:image/png;base64,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)"
      ],
      "metadata": {
        "id": "CN7hcMkc6usZ"
      }
    },
    {
      "cell_type": "markdown",
      "source": [
        "Срезы в питоне:\n",
        "\n",
        "* word[A:B] - целочисленные индексы в интервале [A; B)\n",
        "* word[:B]  - целочисленные индексы в интервале [0; B)\n",
        "* word[A:B:H] - целочисленные индексы в интервале [A:B), {A+H, A+2H, A+3H, ..., B}"
      ],
      "metadata": {
        "id": "2654RGJK7kv6"
      }
    },
    {
      "cell_type": "code",
      "source": [
        "[2,5)"
      ],
      "metadata": {
        "id": "wdAzAre7Tiiv"
      },
      "execution_count": null,
      "outputs": []
    },
    {
      "cell_type": "code",
      "source": [
        "word[1:5:2]"
      ],
      "metadata": {
        "colab": {
          "base_uri": "https://localhost:8080/",
          "height": 35
        },
        "id": "FgZgkjOQTe2j",
        "outputId": "166ceb1c-3c41-4aca-d4ce-6bbcb085e528"
      },
      "execution_count": null,
      "outputs": [
        {
          "output_type": "execute_result",
          "data": {
            "text/plain": [
              "'yh'"
            ],
            "application/vnd.google.colaboratory.intrinsic+json": {
              "type": "string"
            }
          },
          "metadata": {},
          "execution_count": 25
        }
      ]
    },
    {
      "cell_type": "code",
      "source": [
        "# Срез (Slice) строки\n",
        "\n",
        "word = \"Python\"\n",
        "\n",
        "first_three_letters = word[:3]\n",
        "print(\"First three letters:\", first_three_letters)"
      ],
      "metadata": {
        "id": "-QwihQLtTBmD",
        "colab": {
          "base_uri": "https://localhost:8080/"
        },
        "outputId": "0dc35fcf-a641-4f00-ccdf-70daaf8c3e90"
      },
      "execution_count": null,
      "outputs": [
        {
          "output_type": "stream",
          "name": "stdout",
          "text": [
            "First three letters: Pyt\n"
          ]
        }
      ]
    },
    {
      "cell_type": "code",
      "source": [
        "letters = word[1:3]\n",
        "print(\"First three letters, from first:\", letters)"
      ],
      "metadata": {
        "id": "gUb4U-Un8lWs",
        "colab": {
          "base_uri": "https://localhost:8080/"
        },
        "outputId": "0aa657b6-66ee-46be-8b26-2e3aa73a4fab"
      },
      "execution_count": null,
      "outputs": [
        {
          "output_type": "stream",
          "name": "stdout",
          "text": [
            "First three letters, from first: yt\n"
          ]
        }
      ]
    },
    {
      "cell_type": "code",
      "source": [
        "letters = word[1:5:2]\n",
        "print(\"First three letters, from first:\", letters)"
      ],
      "metadata": {
        "id": "WNQVtg4H8riD",
        "colab": {
          "base_uri": "https://localhost:8080/"
        },
        "outputId": "82e60a20-1b21-431a-b022-edc9a085133e"
      },
      "execution_count": null,
      "outputs": [
        {
          "output_type": "stream",
          "name": "stdout",
          "text": [
            "First three letters, from first: yh\n"
          ]
        }
      ]
    },
    {
      "cell_type": "code",
      "source": [
        "# Форматирование строк\n",
        "\n",
        "name = input()\n",
        "age = str(input())\n",
        "\n",
        "# количество параметров в format такое же,\n",
        "# как и количество {} в строке\n",
        "formatted_string = \"My name is {} and I am {} years old.\".format(name, age)\n",
        "print(formatted_string)"
      ],
      "metadata": {
        "colab": {
          "base_uri": "https://localhost:8080/"
        },
        "id": "RLCf3pZiTLxa",
        "outputId": "7f024921-24b1-416c-f8b8-c404a174e867"
      },
      "execution_count": null,
      "outputs": [
        {
          "output_type": "stream",
          "name": "stdout",
          "text": [
            "Коля\n",
            "23\n",
            "My name is Коля and I am 23 years old.\n"
          ]
        }
      ]
    },
    {
      "cell_type": "code",
      "source": [
        "\"My name is \"+ name +\" and I am \" + str(age) + \" years old.\""
      ],
      "metadata": {
        "colab": {
          "base_uri": "https://localhost:8080/",
          "height": 36
        },
        "id": "EGR_n4FKUPtX",
        "outputId": "4252688d-6dd9-4d5c-f3a8-e73ff6688674"
      },
      "execution_count": null,
      "outputs": [
        {
          "output_type": "execute_result",
          "data": {
            "text/plain": [
              "'My name is Коля and I am 23 years old.'"
            ],
            "application/vnd.google.colaboratory.intrinsic+json": {
              "type": "string"
            }
          },
          "metadata": {},
          "execution_count": 12
        }
      ]
    },
    {
      "cell_type": "code",
      "source": [
        "# Получить длину строки\n",
        "\n",
        "word = \"Python\"\n",
        "\n",
        "word_length = len(word)\n",
        "print(\"Word length:\", word_length)"
      ],
      "metadata": {
        "colab": {
          "base_uri": "https://localhost:8080/"
        },
        "id": "uDYnJZcQTUCP",
        "outputId": "401624bf-83e9-494f-f2ff-619773ae99ea"
      },
      "execution_count": null,
      "outputs": [
        {
          "output_type": "stream",
          "name": "stdout",
          "text": [
            "Word length: 6\n"
          ]
        }
      ]
    },
    {
      "cell_type": "code",
      "source": [
        "# upper - возвести все буквы в верхний регистр\n",
        "\n",
        "string = \"Hello World\"\n",
        "string = string.upper()\n",
        "print(string)"
      ],
      "metadata": {
        "colab": {
          "base_uri": "https://localhost:8080/"
        },
        "id": "5IbqNgvXWgvF",
        "outputId": "b3ccf92d-8889-4ae6-b7ee-98687697c7cf"
      },
      "execution_count": null,
      "outputs": [
        {
          "output_type": "stream",
          "name": "stdout",
          "text": [
            "HELLO WORLD\n"
          ]
        }
      ]
    },
    {
      "cell_type": "code",
      "source": [
        "# lower - в нижний регистр\n",
        "\n",
        "string = \"Hello World\"\n",
        "print(string)\n",
        "temp = 'world'"
      ],
      "metadata": {
        "colab": {
          "base_uri": "https://localhost:8080/"
        },
        "id": "gIY00cgoXin8",
        "outputId": "235c064e-f0f3-4717-d444-8ac291f43f61"
      },
      "execution_count": null,
      "outputs": [
        {
          "output_type": "stream",
          "name": "stdout",
          "text": [
            "Hello World\n"
          ]
        }
      ]
    },
    {
      "cell_type": "code",
      "source": [
        "temp in string"
      ],
      "metadata": {
        "colab": {
          "base_uri": "https://localhost:8080/"
        },
        "id": "PAJgYBgPVIHR",
        "outputId": "4652ee00-f6a7-4bcf-abbf-aeb170219784"
      },
      "execution_count": null,
      "outputs": [
        {
          "output_type": "execute_result",
          "data": {
            "text/plain": [
              "False"
            ]
          },
          "metadata": {},
          "execution_count": 9
        }
      ]
    },
    {
      "cell_type": "code",
      "source": [
        "bool: True/False"
      ],
      "metadata": {
        "colab": {
          "base_uri": "https://localhost:8080/"
        },
        "id": "hQinc-RxVM4A",
        "outputId": "ab355455-f199-4aa1-ce9a-1b1944fdab07"
      },
      "execution_count": null,
      "outputs": [
        {
          "output_type": "execute_result",
          "data": {
            "text/plain": [
              "bool"
            ]
          },
          "metadata": {},
          "execution_count": 37
        }
      ]
    },
    {
      "cell_type": "code",
      "source": [
        "# Проверить вхождение подстроки в строку\n",
        "\n",
        "word = \"Python\"\n",
        "\n",
        "is_p_in_word = \"P\" in word\n",
        "print(\"Is 'P' in the word?\", is_p_in_word)\n",
        "\n",
        "is_p_in_word = \"p\".upper() in word.upper()\n",
        "print(\"Is 'p' (small) in the word?\", is_p_in_word)"
      ],
      "metadata": {
        "colab": {
          "base_uri": "https://localhost:8080/"
        },
        "id": "56u8fqiNTXUz",
        "outputId": "b7fd8983-03d9-49cd-af7b-0b2f0c33aac8"
      },
      "execution_count": null,
      "outputs": [
        {
          "output_type": "stream",
          "name": "stdout",
          "text": [
            "Is 'P' in the word? True\n",
            "Is 'p' (small) in the word? True\n",
            "\n",
            "Upper PYTHON\n"
          ]
        }
      ]
    },
    {
      "cell_type": "code",
      "source": [
        "# Капитализация слова\n",
        "\n",
        "word = \"PYTHON IS AWESOME\"\n",
        "\n",
        "capitalized_word = word.capitalize()\n",
        "print(\"Capitalized word:\", capitalized_word)"
      ],
      "metadata": {
        "colab": {
          "base_uri": "https://localhost:8080/"
        },
        "id": "v-aYeSa7Ta3g",
        "outputId": "b87cff7f-61be-458d-aa34-6d78b66328d3"
      },
      "execution_count": null,
      "outputs": [
        {
          "output_type": "stream",
          "name": "stdout",
          "text": [
            "Capitalized word: Python is awesome\n"
          ]
        }
      ]
    },
    {
      "cell_type": "code",
      "source": [
        "# replace - заменить подстроку на другую подстроку\n",
        "\n",
        "string = \"Hello World\"\n",
        "print(string)\n",
        "string = string.replace(\"World\", \"Python\")\n",
        "print(string)"
      ],
      "metadata": {
        "colab": {
          "base_uri": "https://localhost:8080/"
        },
        "id": "X34ziZxzXoAf",
        "outputId": "dc863401-46d2-4268-c093-f635b8619f31"
      },
      "execution_count": null,
      "outputs": [
        {
          "output_type": "stream",
          "name": "stdout",
          "text": [
            "Hello World\n",
            "Hello Python\n"
          ]
        }
      ]
    },
    {
      "cell_type": "code",
      "source": [
        "# Мы можем использовать символ \\n для переноса строки и \\t для установки табуляции\n",
        "\n",
        "string = \"Hello World\\n\\t\"\n",
        "string += \"I am learning Python\"\n",
        "print(string)"
      ],
      "metadata": {
        "colab": {
          "base_uri": "https://localhost:8080/"
        },
        "id": "zEUcMRdtXqjx",
        "outputId": "3e228249-6727-4c8f-ac5b-09f854278cd2"
      },
      "execution_count": null,
      "outputs": [
        {
          "output_type": "stream",
          "name": "stdout",
          "text": [
            "Hello World\n",
            "\tI am learning Python\n"
          ]
        }
      ]
    },
    {
      "cell_type": "code",
      "source": [
        "a = '\\taaabbb'\n",
        "print(a)"
      ],
      "metadata": {
        "colab": {
          "base_uri": "https://localhost:8080/"
        },
        "id": "5jFKkEooWXRd",
        "outputId": "2737cf48-fad7-4703-912d-0b7cf0a6ae46"
      },
      "execution_count": null,
      "outputs": [
        {
          "output_type": "stream",
          "name": "stdout",
          "text": [
            "\taaabbb\n"
          ]
        }
      ]
    },
    {
      "cell_type": "code",
      "source": [
        "a = 'a'\n",
        "b = 'c'\n",
        "# a = a + b\n",
        "a += b\n",
        "print(a)"
      ],
      "metadata": {
        "colab": {
          "base_uri": "https://localhost:8080/"
        },
        "id": "uiiEFb4SV5dy",
        "outputId": "a957b97d-c6b4-4569-e236-9db179707d5a"
      },
      "execution_count": null,
      "outputs": [
        {
          "output_type": "stream",
          "name": "stdout",
          "text": [
            "ac\n"
          ]
        }
      ]
    },
    {
      "cell_type": "code",
      "source": [
        "# Форматирование строки .format\n",
        "\n",
        "name = \"John\"\n",
        "string = \"My name is {}\".format(name)\n",
        "print(string)"
      ],
      "metadata": {
        "colab": {
          "base_uri": "https://localhost:8080/"
        },
        "id": "qvwWVeChYH0y",
        "outputId": "c40eb275-987c-4957-a69b-3d768e18191c"
      },
      "execution_count": null,
      "outputs": [
        {
          "output_type": "stream",
          "name": "stdout",
          "text": [
            "My name is John\n"
          ]
        }
      ]
    },
    {
      "cell_type": "code",
      "source": [
        "# f-строки, упрощенный и более красивый синтаксис для подстановки значений в строки\n",
        "\n",
        "name = \"John\"\n",
        "age = 30\n",
        "string = f\"My name is {name} and I am {age} years old\"\n",
        "print(string)"
      ],
      "metadata": {
        "colab": {
          "base_uri": "https://localhost:8080/"
        },
        "id": "IvcskxHpYWaf",
        "outputId": "8c86d009-4cbd-4f9d-bdf0-3067f0c6f89c"
      },
      "execution_count": null,
      "outputs": [
        {
          "output_type": "stream",
          "name": "stdout",
          "text": [
            "My name is John and I am 30 years old\n"
          ]
        }
      ]
    },
    {
      "cell_type": "code",
      "source": [
        "# Для создания многострочных строк, вы можете использовать тройные кавычки (одинарные или двойные)\n",
        "\n",
        "string = \"\"\"This is a\n",
        "  multiline\n",
        "  gs\n",
        "  gdf\n",
        "  ghdf\n",
        "  hgfd\n",
        "\n",
        "  \"fds\"\n",
        "\n",
        "string\"\"\"\n",
        "\n",
        "print(string)"
      ],
      "metadata": {
        "colab": {
          "base_uri": "https://localhost:8080/"
        },
        "id": "QVfmgyNkYdvx",
        "outputId": "80b9214a-159f-4e48-89f4-5500a9bf5e1d"
      },
      "execution_count": null,
      "outputs": [
        {
          "output_type": "stream",
          "name": "stdout",
          "text": [
            "This is a\n",
            "  multiline\n",
            "  gs\n",
            "  gdf\n",
            "  ghdf\n",
            "  hgfd\n",
            "\n",
            "  \"fds\"\n",
            "\n",
            "string\n"
          ]
        }
      ]
    },
    {
      "cell_type": "code",
      "source": [
        "# Если мы хотим разбить строку на несколько только для разработчика, то можем использовать экранирование\n",
        "\n",
        "string = \"This is a \\\n",
        "multiline \\\n",
        "string\"\n",
        "\n",
        "print(string)"
      ],
      "metadata": {
        "colab": {
          "base_uri": "https://localhost:8080/"
        },
        "id": "pOu63MiuYrhj",
        "outputId": "9e8194cc-b944-445a-8e02-3e6e00908b87"
      },
      "execution_count": null,
      "outputs": [
        {
          "output_type": "stream",
          "name": "stdout",
          "text": [
            "This is a multiline string\n"
          ]
        }
      ]
    },
    {
      "cell_type": "markdown",
      "source": [
        "### Арифметические операции"
      ],
      "metadata": {
        "id": "OO_FEMviTzmV"
      }
    },
    {
      "cell_type": "markdown",
      "source": [
        "В питоне вам доступны все известные из математики арифметические операции:\n",
        "\n",
        "1. Сложение: **`+`**\n",
        "2. Вычитание: **`-`**\n",
        "3. Умножение: **`*`**\n",
        "4. Деление: **`/`**"
      ],
      "metadata": {
        "id": "AUR_WYGBT4pf"
      }
    },
    {
      "cell_type": "code",
      "source": [
        "# Сложение\n",
        "\n",
        "a = 10\n",
        "b = 20\n",
        "\n",
        "c = a + b\n",
        "print(\"Sum:\", c)"
      ],
      "metadata": {
        "colab": {
          "base_uri": "https://localhost:8080/"
        },
        "id": "23tsB3DQTouX",
        "outputId": "9d8163d7-199e-4389-c7d1-9382e1ae309c"
      },
      "execution_count": null,
      "outputs": [
        {
          "output_type": "stream",
          "name": "stdout",
          "text": [
            "Sum: 30\n"
          ]
        }
      ]
    },
    {
      "cell_type": "code",
      "source": [
        "# Сложение\n",
        "\n",
        "a = 10\n",
        "b = 20\n",
        "\n",
        "print(\"Sum:\", a + b)"
      ],
      "metadata": {
        "colab": {
          "base_uri": "https://localhost:8080/"
        },
        "id": "Qsnurhu4mbL7",
        "outputId": "89fc2565-338d-4bd3-8f6c-8483e23491b1"
      },
      "execution_count": null,
      "outputs": [
        {
          "output_type": "stream",
          "name": "stdout",
          "text": [
            "Sum: 30\n"
          ]
        }
      ]
    },
    {
      "cell_type": "code",
      "source": [
        "# Вычитание\n",
        "\n",
        "a = 30\n",
        "b = 20\n",
        "\n",
        "c = a - b\n",
        "print(\"Difference:\", c)"
      ],
      "metadata": {
        "colab": {
          "base_uri": "https://localhost:8080/"
        },
        "id": "PwR6Syh_UQ--",
        "outputId": "b9e42c35-be97-48e0-fe73-ff2a2dd9b825"
      },
      "execution_count": null,
      "outputs": [
        {
          "output_type": "stream",
          "name": "stdout",
          "text": [
            "Difference: 10\n"
          ]
        }
      ]
    },
    {
      "cell_type": "code",
      "source": [
        "# Умножение\n",
        "\n",
        "a = 10\n",
        "b = 20\n",
        "\n",
        "c = a * b\n",
        "print(\"Product:\", c)"
      ],
      "metadata": {
        "colab": {
          "base_uri": "https://localhost:8080/"
        },
        "id": "FGJJF_j2UU3A",
        "outputId": "aa3caade-d724-434d-db0e-5f424c35937c"
      },
      "execution_count": null,
      "outputs": [
        {
          "output_type": "stream",
          "name": "stdout",
          "text": [
            "Product: 200\n"
          ]
        }
      ]
    },
    {
      "cell_type": "code",
      "source": [
        "# Деление\n",
        "\n",
        "a = 30\n",
        "b = 20\n",
        "\n",
        "c = a / b\n",
        "print(\"Quotient:\", c)"
      ],
      "metadata": {
        "colab": {
          "base_uri": "https://localhost:8080/"
        },
        "id": "BL6xzbGrUXs4",
        "outputId": "791a0129-529d-4643-da19-7956d6793945"
      },
      "execution_count": null,
      "outputs": [
        {
          "output_type": "stream",
          "name": "stdout",
          "text": [
            "Quotient: 1.5\n"
          ]
        }
      ]
    },
    {
      "cell_type": "markdown",
      "source": [
        "Операции могут быть немного сложнее. Так, например, в питоне 3 вида деления (все они реально необходимы), разберемся в них:\n",
        "\n",
        "1. Деление с результатом в виде float числа: **`/`**\n",
        "2. Деление нацело (с округлением вниз): **`//`**\n",
        "3. Остаток от деления, он же модуль: **`%`**"
      ],
      "metadata": {
        "id": "urgSP7SQUexT"
      }
    },
    {
      "cell_type": "code",
      "source": [
        "# Деление с результатом в виде float числа\n",
        "\n",
        "a = 10\n",
        "b = 3\n",
        "\n",
        "c = a / b\n",
        "print(\"Division (with decimal result):\", c)"
      ],
      "metadata": {
        "colab": {
          "base_uri": "https://localhost:8080/"
        },
        "id": "K1DTkNVPUZnw",
        "outputId": "26f0fe82-f36f-4879-8c0a-ee2d07007e09"
      },
      "execution_count": null,
      "outputs": [
        {
          "output_type": "stream",
          "name": "stdout",
          "text": [
            "Division (with decimal result): 3.3333333333333335\n"
          ]
        }
      ]
    },
    {
      "cell_type": "code",
      "source": [
        "# Деление нацело (с округлением вниз)\n",
        "\n",
        "a = 10\n",
        "b = 3\n",
        "\n",
        "c = a // b\n",
        "print(\"Integer division:\", c)"
      ],
      "metadata": {
        "colab": {
          "base_uri": "https://localhost:8080/"
        },
        "id": "o9uL2TnxU0OA",
        "outputId": "dc2d316f-7882-4b6a-9c1a-eca8685f1124"
      },
      "execution_count": null,
      "outputs": [
        {
          "output_type": "stream",
          "name": "stdout",
          "text": [
            "Integer division: 3\n"
          ]
        }
      ]
    },
    {
      "cell_type": "code",
      "source": [
        "# Остаток от деления\n",
        "\n",
        "a = 10\n",
        "b = 3\n",
        "\n",
        "c = a % b\n",
        "print(\"Modulus:\", c)"
      ],
      "metadata": {
        "colab": {
          "base_uri": "https://localhost:8080/"
        },
        "id": "EmOLi7upVJI6",
        "outputId": "da9bcb18-748f-4677-aaf9-d3899e3e5d65"
      },
      "execution_count": null,
      "outputs": [
        {
          "output_type": "stream",
          "name": "stdout",
          "text": [
            "Modulus: 1\n"
          ]
        }
      ]
    },
    {
      "cell_type": "markdown",
      "source": [
        "Где они могут применяться:\n",
        "\n",
        "1. Остаток от деления (модуль): Если вы разделите 10 на 3, то результат 3 с остатком 1. Оператор модуля вернет этот остаток, который равен единице. Этот оператор весьма полезен в различных реальных сценариях, таких как проверка числа на четность (четное и нечетное, делится на 2 с о статком или без) или поиска для недели на определенную дату.\n",
        "2. Деление нацело: Деление нацело округляет результат деления вниз. Например, если разделить 10 на 3, то результат 3.3333..., но с целочисленным делением результат будет 3. Эта операция может быть полезна, если вам нужно знать сколько раз одно число помещается в другое, без каких-либо дробных частей.\n"
      ],
      "metadata": {
        "id": "I5ZyTtriVTfS"
      }
    },
    {
      "cell_type": "code",
      "source": [
        "year = 2024\n",
        "year % 4"
      ],
      "metadata": {
        "colab": {
          "base_uri": "https://localhost:8080/"
        },
        "id": "A04kMkh0n_oS",
        "outputId": "4bff5513-b737-4bd2-bbf6-634f09032c30"
      },
      "execution_count": null,
      "outputs": [
        {
          "output_type": "execute_result",
          "data": {
            "text/plain": [
              "0"
            ]
          },
          "metadata": {},
          "execution_count": 37
        }
      ]
    },
    {
      "cell_type": "code",
      "source": [
        "# Сколько денег выделить каждому отделу, если каждый из них должен получить поровну в рублях\n",
        "\n",
        "budget = 100001\n",
        "number_of_departments = 5\n",
        "\n",
        "allocation_per_department = budget // number_of_departments\n",
        "print(\"Allocation per department:\", allocation_per_department)"
      ],
      "metadata": {
        "colab": {
          "base_uri": "https://localhost:8080/"
        },
        "id": "WLz6iAhhWUV4",
        "outputId": "734ac399-f0a4-4dc2-87e2-8df3d90ab92f"
      },
      "execution_count": null,
      "outputs": [
        {
          "output_type": "stream",
          "name": "stdout",
          "text": [
            "Allocation per department: 20000\n"
          ]
        }
      ]
    },
    {
      "cell_type": "markdown",
      "source": [
        "В дополнение к базовым арифметическим операциям, питон поддерживает и продвинутые операции, такие как возведение в степень и взятие квадратного корня:\n",
        "\n",
        "1. Возведение в степень: **\n",
        "2. Квадратный корень: **`math.sqrt(x)`** (где **`x`** - число от которого вы хотите взять корень, обратите внимание, используется библиотека math)"
      ],
      "metadata": {
        "id": "YFN4ZlkRWoOg"
      }
    },
    {
      "cell_type": "code",
      "source": [
        "# Возведение в степень\n",
        "\n",
        "a = 2\n",
        "b = 3\n",
        "\n",
        "c = a ** b\n",
        "print(\"Exponentiation:\", c)"
      ],
      "metadata": {
        "colab": {
          "base_uri": "https://localhost:8080/"
        },
        "id": "kOOXvOL4XOJ2",
        "outputId": "e0924b96-fe4f-43fc-f949-d31c99a75614"
      },
      "execution_count": null,
      "outputs": [
        {
          "output_type": "stream",
          "name": "stdout",
          "text": [
            "Exponentiation: 8\n"
          ]
        }
      ]
    },
    {
      "cell_type": "code",
      "source": [
        "# Квадратный корень\n",
        "import math\n",
        "# from math import pi\n",
        "pi = 3.141592653589793\n",
        "a = 16\n",
        "\n",
        "\n",
        "# print(\"Square root:\", sqrt(a))\n",
        "print(pi)"
      ],
      "metadata": {
        "colab": {
          "base_uri": "https://localhost:8080/"
        },
        "id": "AQgIrcDBXRnu",
        "outputId": "cbd6cafb-f133-44c3-cc07-1a503d9b1072"
      },
      "execution_count": null,
      "outputs": [
        {
          "output_type": "stream",
          "name": "stdout",
          "text": [
            "3.141592653589793\n"
          ]
        }
      ]
    },
    {
      "cell_type": "code",
      "source": [
        "math.pow(2, 3)"
      ],
      "metadata": {
        "colab": {
          "base_uri": "https://localhost:8080/"
        },
        "id": "pX0NKQcLnofk",
        "outputId": "690d854f-1f48-4da6-a034-abf116a445d9"
      },
      "execution_count": null,
      "outputs": [
        {
          "output_type": "execute_result",
          "data": {
            "text/plain": [
              "8.0"
            ]
          },
          "metadata": {},
          "execution_count": 54
        }
      ]
    },
    {
      "cell_type": "markdown",
      "source": [
        "# Ввод данных с клавиатуры"
      ],
      "metadata": {
        "id": "i5vrwPPRD7DX"
      }
    },
    {
      "cell_type": "code",
      "source": [
        "inp = input()"
      ],
      "metadata": {
        "colab": {
          "base_uri": "https://localhost:8080/"
        },
        "id": "6jyxMP8GzOpj",
        "outputId": "b1cebd90-0059-4a84-c59d-a39ba1da601d"
      },
      "execution_count": null,
      "outputs": [
        {
          "name": "stdout",
          "output_type": "stream",
          "text": [
            "4.2\n"
          ]
        }
      ]
    },
    {
      "cell_type": "code",
      "source": [
        "print(inp)\n",
        "print(type(inp))"
      ],
      "metadata": {
        "colab": {
          "base_uri": "https://localhost:8080/"
        },
        "id": "BdQmFJ3OzZ0b",
        "outputId": "1533a856-528c-4740-ccff-2b5e1c452ec2"
      },
      "execution_count": null,
      "outputs": [
        {
          "output_type": "stream",
          "name": "stdout",
          "text": [
            "4.2\n",
            "<class 'str'>\n"
          ]
        }
      ]
    },
    {
      "cell_type": "code",
      "source": [
        "a = int(input())\n",
        "type(a)"
      ],
      "metadata": {
        "colab": {
          "base_uri": "https://localhost:8080/"
        },
        "id": "GkyvlTaFD_67",
        "outputId": "83493ddb-7676-4d4e-9e5b-7f89cffe932c"
      },
      "execution_count": null,
      "outputs": [
        {
          "name": "stdout",
          "output_type": "stream",
          "text": [
            "5\n"
          ]
        },
        {
          "output_type": "execute_result",
          "data": {
            "text/plain": [
              "int"
            ]
          },
          "metadata": {},
          "execution_count": 47
        }
      ]
    },
    {
      "cell_type": "code",
      "source": [
        "a = input()\n",
        "type(a)"
      ],
      "metadata": {
        "colab": {
          "base_uri": "https://localhost:8080/"
        },
        "id": "TboFAT_9Ep7U",
        "outputId": "66e6afdb-020f-4c10-f07e-ea397fabe7bf"
      },
      "execution_count": null,
      "outputs": [
        {
          "name": "stdout",
          "output_type": "stream",
          "text": [
            "True\n"
          ]
        },
        {
          "output_type": "execute_result",
          "data": {
            "text/plain": [
              "str"
            ]
          },
          "metadata": {},
          "execution_count": 22
        }
      ]
    },
    {
      "cell_type": "code",
      "source": [
        "a = input()\n",
        "type(a)"
      ],
      "metadata": {
        "colab": {
          "base_uri": "https://localhost:8080/"
        },
        "id": "0dbINwLJEsgi",
        "outputId": "bbde0b65-2320-41c4-b6ce-58f6c763fba4"
      },
      "execution_count": null,
      "outputs": [
        {
          "name": "stdout",
          "output_type": "stream",
          "text": [
            "Hello\n"
          ]
        },
        {
          "output_type": "execute_result",
          "data": {
            "text/plain": [
              "str"
            ]
          },
          "metadata": {},
          "execution_count": 23
        }
      ]
    },
    {
      "cell_type": "code",
      "source": [
        "a = int(input())\n",
        "type(a)"
      ],
      "metadata": {
        "colab": {
          "base_uri": "https://localhost:8080/"
        },
        "id": "PVMwK6NoEGYj",
        "outputId": "87bebd94-f352-4009-8748-7a32497620ed"
      },
      "execution_count": null,
      "outputs": [
        {
          "name": "stdout",
          "output_type": "stream",
          "text": [
            "1\n"
          ]
        },
        {
          "output_type": "execute_result",
          "data": {
            "text/plain": [
              "int"
            ]
          },
          "metadata": {},
          "execution_count": 20
        }
      ]
    },
    {
      "cell_type": "code",
      "source": [
        "a = float(input())\n",
        "type(a)"
      ],
      "metadata": {
        "colab": {
          "base_uri": "https://localhost:8080/"
        },
        "id": "qEeTJQveFhfr",
        "outputId": "c101b2da-efec-45bb-d72d-d2bee9438293"
      },
      "execution_count": null,
      "outputs": [
        {
          "name": "stdout",
          "output_type": "stream",
          "text": [
            "3.2\n"
          ]
        },
        {
          "output_type": "execute_result",
          "data": {
            "text/plain": [
              "float"
            ]
          },
          "metadata": {},
          "execution_count": 24
        }
      ]
    },
    {
      "cell_type": "code",
      "source": [
        "a = int(input())\n",
        "type(a)"
      ],
      "metadata": {
        "colab": {
          "base_uri": "https://localhost:8080/",
          "height": 210
        },
        "id": "AdOFTfC6EK8b",
        "outputId": "2520a7dd-3c2c-4851-e36a-c6b9dd5b9d91"
      },
      "execution_count": null,
      "outputs": [
        {
          "name": "stdout",
          "output_type": "stream",
          "text": [
            "oasd\n"
          ]
        },
        {
          "output_type": "error",
          "ename": "ValueError",
          "evalue": "invalid literal for int() with base 10: 'oasd'",
          "traceback": [
            "\u001b[0;31m---------------------------------------------------------------------------\u001b[0m",
            "\u001b[0;31mValueError\u001b[0m                                Traceback (most recent call last)",
            "\u001b[0;32m<ipython-input-48-9270a273a61b>\u001b[0m in \u001b[0;36m<cell line: 1>\u001b[0;34m()\u001b[0m\n\u001b[0;32m----> 1\u001b[0;31m \u001b[0ma\u001b[0m \u001b[0;34m=\u001b[0m \u001b[0mint\u001b[0m\u001b[0;34m(\u001b[0m\u001b[0minput\u001b[0m\u001b[0;34m(\u001b[0m\u001b[0;34m)\u001b[0m\u001b[0;34m)\u001b[0m\u001b[0;34m\u001b[0m\u001b[0;34m\u001b[0m\u001b[0m\n\u001b[0m\u001b[1;32m      2\u001b[0m \u001b[0mtype\u001b[0m\u001b[0;34m(\u001b[0m\u001b[0ma\u001b[0m\u001b[0;34m)\u001b[0m\u001b[0;34m\u001b[0m\u001b[0;34m\u001b[0m\u001b[0m\n",
            "\u001b[0;31mValueError\u001b[0m: invalid literal for int() with base 10: 'oasd'"
          ]
        }
      ]
    },
    {
      "cell_type": "code",
      "source": [
        "a = input('Введите переменную: ')\n",
        "print(a)"
      ],
      "metadata": {
        "colab": {
          "base_uri": "https://localhost:8080/"
        },
        "id": "Y19ubJ4iYpTu",
        "outputId": "0746ac85-45e9-4a28-db14-ff624f6824ce"
      },
      "execution_count": null,
      "outputs": [
        {
          "output_type": "stream",
          "name": "stdout",
          "text": [
            "Введите переменную: 4\n",
            "4\n"
          ]
        }
      ]
    }
  ]
}