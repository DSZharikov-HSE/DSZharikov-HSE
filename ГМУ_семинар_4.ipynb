{
  "nbformat": 4,
  "nbformat_minor": 0,
  "metadata": {
    "colab": {
      "provenance": []
    },
    "kernelspec": {
      "name": "python3",
      "display_name": "Python 3"
    },
    "language_info": {
      "name": "python"
    }
  },
  "cells": [
    {
      "cell_type": "markdown",
      "source": [
        "# Повторение предыдущего занятия"
      ],
      "metadata": {
        "id": "zKHaMevR9Ozs"
      }
    },
    {
      "cell_type": "code",
      "source": [
        "# ?\n",
        "print(range(4))"
      ],
      "metadata": {
        "id": "8_X_QwHo9TFD",
        "colab": {
          "base_uri": "https://localhost:8080/"
        },
        "outputId": "9ba76777-bc8b-4e00-a5c3-710cb6605d1d"
      },
      "execution_count": null,
      "outputs": [
        {
          "output_type": "stream",
          "name": "stdout",
          "text": [
            "range(0, 4)\n"
          ]
        }
      ]
    },
    {
      "cell_type": "code",
      "source": [
        "# ?\n",
        "print(range(7)[3])"
      ],
      "metadata": {
        "id": "ahexeK-A9fYE",
        "colab": {
          "base_uri": "https://localhost:8080/"
        },
        "outputId": "b402488d-cd23-4fcb-a2f1-de9b86734194"
      },
      "execution_count": null,
      "outputs": [
        {
          "output_type": "stream",
          "name": "stdout",
          "text": [
            "3\n"
          ]
        }
      ]
    },
    {
      "cell_type": "code",
      "source": [
        "# ?\n",
        "print(list(range(2, 5)))"
      ],
      "metadata": {
        "id": "6DswhRgm9kdE",
        "colab": {
          "base_uri": "https://localhost:8080/"
        },
        "outputId": "2bbf991f-aacd-428d-cb08-b881ee026e58"
      },
      "execution_count": null,
      "outputs": [
        {
          "output_type": "stream",
          "name": "stdout",
          "text": [
            "[2, 3, 4]\n"
          ]
        }
      ]
    },
    {
      "cell_type": "code",
      "source": [],
      "metadata": {
        "id": "XWrmZH-oh0vp"
      },
      "execution_count": null,
      "outputs": []
    },
    {
      "cell_type": "code",
      "source": [
        "# ?\n",
        "print(list(range(3, 12, 2))[2])"
      ],
      "metadata": {
        "id": "UVsU64Yn9oUU"
      },
      "execution_count": null,
      "outputs": []
    },
    {
      "cell_type": "code",
      "source": [
        "# ?\n",
        "temp = [1,2,3,4,5,7]\n",
        "temp[5] = 2\n",
        "print(temp)"
      ],
      "metadata": {
        "id": "mZgaAwL0-Xjd",
        "colab": {
          "base_uri": "https://localhost:8080/"
        },
        "outputId": "2c6492aa-aae2-49e5-9b6e-5663b6954608"
      },
      "execution_count": null,
      "outputs": [
        {
          "output_type": "stream",
          "name": "stdout",
          "text": [
            "[1, 2, 3, 4, 5, 2]\n"
          ]
        }
      ]
    },
    {
      "cell_type": "code",
      "source": [
        "# ?\n",
        "temp = (1,2,3,4,5,7)\n",
        "temp[2] = 2\n",
        "print(temp)"
      ],
      "metadata": {
        "id": "UUW8xIRi-l6M",
        "colab": {
          "base_uri": "https://localhost:8080/",
          "height": 199
        },
        "outputId": "a4465ec8-70c5-476c-ee84-6007a5a9bd05"
      },
      "execution_count": null,
      "outputs": [
        {
          "output_type": "error",
          "ename": "TypeError",
          "evalue": "'tuple' object does not support item assignment",
          "traceback": [
            "\u001b[0;31m---------------------------------------------------------------------------\u001b[0m",
            "\u001b[0;31mTypeError\u001b[0m                                 Traceback (most recent call last)",
            "\u001b[0;32m<ipython-input-6-eca9192c1d85>\u001b[0m in \u001b[0;36m<cell line: 3>\u001b[0;34m()\u001b[0m\n\u001b[1;32m      1\u001b[0m \u001b[0;31m# ?\u001b[0m\u001b[0;34m\u001b[0m\u001b[0;34m\u001b[0m\u001b[0m\n\u001b[1;32m      2\u001b[0m \u001b[0mtemp\u001b[0m \u001b[0;34m=\u001b[0m \u001b[0;34m(\u001b[0m\u001b[0;36m1\u001b[0m\u001b[0;34m,\u001b[0m\u001b[0;36m2\u001b[0m\u001b[0;34m,\u001b[0m\u001b[0;36m3\u001b[0m\u001b[0;34m,\u001b[0m\u001b[0;36m4\u001b[0m\u001b[0;34m,\u001b[0m\u001b[0;36m5\u001b[0m\u001b[0;34m,\u001b[0m\u001b[0;36m7\u001b[0m\u001b[0;34m)\u001b[0m\u001b[0;34m\u001b[0m\u001b[0;34m\u001b[0m\u001b[0m\n\u001b[0;32m----> 3\u001b[0;31m \u001b[0mtemp\u001b[0m\u001b[0;34m[\u001b[0m\u001b[0;36m2\u001b[0m\u001b[0;34m]\u001b[0m \u001b[0;34m=\u001b[0m \u001b[0;36m2\u001b[0m\u001b[0;34m\u001b[0m\u001b[0;34m\u001b[0m\u001b[0m\n\u001b[0m\u001b[1;32m      4\u001b[0m \u001b[0mprint\u001b[0m\u001b[0;34m(\u001b[0m\u001b[0mtemp\u001b[0m\u001b[0;34m)\u001b[0m\u001b[0;34m\u001b[0m\u001b[0;34m\u001b[0m\u001b[0m\n",
            "\u001b[0;31mTypeError\u001b[0m: 'tuple' object does not support item assignment"
          ]
        }
      ]
    },
    {
      "cell_type": "code",
      "source": [
        "# ?\n",
        "str_ = 'a, b, c, d'\n",
        "splitted = str_.split()\n",
        "print(splitted)"
      ],
      "metadata": {
        "id": "EwLcG_Ki-550",
        "colab": {
          "base_uri": "https://localhost:8080/"
        },
        "outputId": "8374875b-c41b-4c33-834d-33cc157127c1"
      },
      "execution_count": null,
      "outputs": [
        {
          "output_type": "stream",
          "name": "stdout",
          "text": [
            "['a,', 'b,', 'c,', 'd']\n"
          ]
        }
      ]
    },
    {
      "cell_type": "code",
      "source": [
        "# ?\n",
        "str_ = 'a, b, c, d'\n",
        "splitted = str_.split(',')\n",
        "print(splitted)"
      ],
      "metadata": {
        "id": "eVHBWqpa_BsU",
        "colab": {
          "base_uri": "https://localhost:8080/"
        },
        "outputId": "30cf6e77-22aa-4f49-db9c-28c623772c80"
      },
      "execution_count": null,
      "outputs": [
        {
          "output_type": "stream",
          "name": "stdout",
          "text": [
            "['a', ' b', ' c', ' d']\n"
          ]
        }
      ]
    },
    {
      "cell_type": "code",
      "source": [
        "# ?\n",
        "str_ = 'a, b, c, d'\n",
        "splitted = str_.split('Кто вообще ставит пары по субботам?!')\n",
        "print(splitted)"
      ],
      "metadata": {
        "id": "5i9SKo2R_DkZ",
        "colab": {
          "base_uri": "https://localhost:8080/"
        },
        "outputId": "47e7ea2f-9904-45b5-ad34-2599758894ea"
      },
      "execution_count": null,
      "outputs": [
        {
          "output_type": "stream",
          "name": "stdout",
          "text": [
            "['a, b, c, d']\n"
          ]
        }
      ]
    },
    {
      "cell_type": "markdown",
      "source": [
        "# Методы"
      ],
      "metadata": {
        "id": "CFkpAGEfM55F"
      }
    },
    {
      "cell_type": "markdown",
      "source": [
        "## Введение в методы"
      ],
      "metadata": {
        "id": "3IlNKgW0M_GZ"
      }
    },
    {
      "cell_type": "markdown",
      "source": [
        "### Определение и объяснение методов\n",
        "\n",
        "В Python метод — это функция, принадлежащая определенному объекту. Методы можно использовать для выполнения определенных действий над объектом или для изменения его свойств. Они вызываются путем добавления имени метода к имени объекта, разделенного точкой (`.`):\n",
        "\n",
        "```python\n",
        "object.method(arguments)\n",
        "```"
      ],
      "metadata": {
        "id": "jCGcY1UDNDyq"
      }
    },
    {
      "cell_type": "markdown",
      "source": [
        "### Почему методы важны в программировании\n",
        "\n",
        "Методы важны в программировании, потому что они позволяют нам выполнять определенные действия над объектами и изменять их свойства контролируемым образом. Это делает наш код более модульным, пригодным для повторного использования, более простым для понимания и сопровождения. Методы также помогают уменьшить дублирование кода и улучшить его читаемость за счет инкапсуляции сложной логики в простые автономные функции."
      ],
      "metadata": {
        "id": "qhNyPx_vNdhj"
      }
    },
    {
      "cell_type": "markdown",
      "source": [
        "## Строковые методы"
      ],
      "metadata": {
        "id": "PZqWxDXpNl3J"
      }
    },
    {
      "cell_type": "markdown",
      "source": [
        "### Обзор строковых методов\n",
        "\n",
        "Строки в Python — это объекты, которые имеют множество встроенных методов, позволяющих выполнять над ними различные операции. Некоторые распространенные строковые методы включают в себя:\n",
        "\n",
        "`upper()`: Преобразует все символы строки в верхний регистр.\n",
        "\n",
        "`lower()`: Преобразует все символы строки в нижний регистр.\n",
        "\n",
        "`capitalize()`: Преобразует первый символ строки в верхний регистр, а остальные — в нижний.\n",
        "\n",
        "`title()`: Преобразует первый символ каждого слова в строке в верхний регистр, а остальные — в нижний.\n",
        "\n",
        "`replace(old, new)`: Заменяет все вхождения старой подстроки новой подстрокой.\n",
        "\n",
        "`strip()`: Удаляет начальные и конечные пробелы из строки.\n",
        "\n",
        "`split()`: Разбивает строку на список подстрок на основе разделителя."
      ],
      "metadata": {
        "id": "Ygl6bRV8No0-"
      }
    },
    {
      "cell_type": "markdown",
      "source": [
        "### Как использовать строковые методы\n",
        "\n",
        "Чтобы использовать строковый метод, вы просто добавляете к строке имя метода, разделенное точкой и передаете все необходимые аргументы в круглых скобках.\n",
        "\n",
        "Например:"
      ],
      "metadata": {
        "id": "R96tJtm6N3Yz"
      }
    },
    {
      "cell_type": "code",
      "source": [
        "message = \"Hello, world!\"\n",
        "print(message.upper())  # Prints \"HELLO, WORLD!\""
      ],
      "metadata": {
        "id": "Xfepj9S8Nm3m",
        "colab": {
          "base_uri": "https://localhost:8080/"
        },
        "outputId": "8255b8d6-3456-41cc-e676-52cd697f3bed"
      },
      "execution_count": null,
      "outputs": [
        {
          "output_type": "stream",
          "name": "stdout",
          "text": [
            "HELLO, WORLD!\n"
          ]
        }
      ]
    },
    {
      "cell_type": "code",
      "source": [
        "message = \"  Hello, World!  \"\n",
        "print(message.strip())"
      ],
      "metadata": {
        "colab": {
          "base_uri": "https://localhost:8080/"
        },
        "id": "zC3qAh-ejuPa",
        "outputId": "9bf87801-9342-48d8-eb80-5461c05db39f"
      },
      "execution_count": null,
      "outputs": [
        {
          "output_type": "stream",
          "name": "stdout",
          "text": [
            "Hello, World!\n"
          ]
        }
      ]
    },
    {
      "cell_type": "code",
      "source": [
        "message = \"  Hello, World!  \"\n",
        "print(message.upper())         # Prints \"  HELLO, WORLD!  \"\n",
        "print(message.lower())         # Prints \"  hello, world!  \"\n",
        "print(message.capitalize())    # Prints \"  hello, world!  \"\n",
        "print(message.title())         # Prints \"  Hello, World!  \"\n",
        "print(message.replace(\"l\", \"x\"))  # Prints \"  Hexxo, Worxd!  \"\n",
        "print(message.strip())         # Prints \"Hello, World!\"\n",
        "print(message.split(sep=\",\"))      # Prints [\"  Hello\", \" World!  \"]"
      ],
      "metadata": {
        "id": "So_Ra93yN-gi",
        "colab": {
          "base_uri": "https://localhost:8080/"
        },
        "outputId": "38063dd6-9ffc-48f7-d973-142ac021ad2f"
      },
      "execution_count": null,
      "outputs": [
        {
          "output_type": "stream",
          "name": "stdout",
          "text": [
            "  HELLO, WORLD!  \n",
            "  hello, world!  \n",
            "  hello, world!  \n",
            "  Hello, World!  \n",
            "  Hexxo, Worxd!  \n",
            "Hello, World!\n",
            "['  Hello', ' World!  ']\n"
          ]
        }
      ]
    },
    {
      "cell_type": "markdown",
      "source": [
        "## Редактирование строки с помощью цикла For"
      ],
      "metadata": {
        "id": "IorDZlsVOBcP"
      }
    },
    {
      "cell_type": "markdown",
      "source": [
        "### Как использовать цикл for для редактирования строки текста\n",
        "\n",
        "Иногда нам нужно изменить строку текста, заменив определенные символы или подстроки другими. Мы можем сделать это, используя цикл `for` и некоторые строковые методы. Основная идея состоит в том, чтобы разбить строку на список слов, перебрать список и применить нужные изменения к каждому слову, используя строковые методы. Затем мы можем соединить измененные слова обратно в одну строку."
      ],
      "metadata": {
        "id": "MS2j1p13OExR"
      }
    },
    {
      "cell_type": "markdown",
      "source": [
        "### Пример кода, демонстрирующий использование цикла for для редактирования строки текста"
      ],
      "metadata": {
        "id": "is-V8B-YOIMV"
      }
    },
    {
      "cell_type": "code",
      "source": [
        "line = \"The quick brown fox jumps over the lazy dog.\"\n",
        "words = line.split()  # Split the line into a list of words\n",
        "\n",
        "for i in range(len(words)):\n",
        "    word = words[i]\n",
        "    word = word.capitalize()  # Capitalize the first letter of the word\n",
        "    words[i] = word\n",
        "\n",
        "print(words)\n",
        "print(\" \".join(words))"
      ],
      "metadata": {
        "id": "9K_fwZbTOCO1",
        "colab": {
          "base_uri": "https://localhost:8080/"
        },
        "outputId": "6e08e4ce-cc13-4856-938a-04adf11bbd24"
      },
      "execution_count": null,
      "outputs": [
        {
          "output_type": "stream",
          "name": "stdout",
          "text": [
            "['The', 'Quick', 'Brown', 'Fox', 'Jumps', 'Over', 'The', 'Lazy', 'Dog.']\n",
            "The Quick Brown Fox Jumps Over The Lazy Dog.\n"
          ]
        }
      ]
    },
    {
      "cell_type": "code",
      "source": [
        "' '.join(words)"
      ],
      "metadata": {
        "colab": {
          "base_uri": "https://localhost:8080/",
          "height": 36
        },
        "id": "toZ0OedDk3Mh",
        "outputId": "9bf82047-6ddf-4622-8f6c-4ccccfb0a309"
      },
      "execution_count": null,
      "outputs": [
        {
          "output_type": "execute_result",
          "data": {
            "text/plain": [
              "'The Quick Brown Fox Jumps Over The Lazy Dog.'"
            ],
            "application/vnd.google.colaboratory.intrinsic+json": {
              "type": "string"
            }
          },
          "metadata": {},
          "execution_count": 17
        }
      ]
    },
    {
      "cell_type": "code",
      "source": [
        "line = \"The quick brown fox jumps over the lazy dog.\"\n",
        "\n",
        "' '.join([word.capitalize() for word in line.split() if len(word) > 3])"
      ],
      "metadata": {
        "colab": {
          "base_uri": "https://localhost:8080/",
          "height": 35
        },
        "id": "7Rt1HylK5AqX",
        "outputId": "b92dcfce-809a-4e87-d3b1-4860e9830ce4"
      },
      "execution_count": null,
      "outputs": [
        {
          "output_type": "execute_result",
          "data": {
            "text/plain": [
              "'Quick Brown Jumps Over Lazy Dog.'"
            ],
            "application/vnd.google.colaboratory.intrinsic+json": {
              "type": "string"
            }
          },
          "metadata": {},
          "execution_count": 20
        }
      ]
    },
    {
      "cell_type": "code",
      "source": [
        "line = \"The quick brown fox jumps over the lazy dog.\"\n",
        "\n",
        "temp = []\n",
        "for word in line.split():\n",
        "    if len(word)>3:\n",
        "        temp.append(word.capitalize())\n",
        "' '.join(temp)"
      ],
      "metadata": {
        "colab": {
          "base_uri": "https://localhost:8080/",
          "height": 36
        },
        "id": "nUBdqC19lhFo",
        "outputId": "c9cb16c9-8ef3-433f-9b10-309852472c78"
      },
      "execution_count": null,
      "outputs": [
        {
          "output_type": "execute_result",
          "data": {
            "text/plain": [
              "'Quick Brown Jumps Over Lazy Dog.'"
            ],
            "application/vnd.google.colaboratory.intrinsic+json": {
              "type": "string"
            }
          },
          "metadata": {},
          "execution_count": 19
        }
      ]
    },
    {
      "cell_type": "markdown",
      "source": [
        "## Методы списков"
      ],
      "metadata": {
        "id": "m7KhK5ooO3UK"
      }
    },
    {
      "cell_type": "markdown",
      "source": [
        "### Обзор методов списка\n",
        "\n",
        "Списки в Python — это объекты, которые имеют множество встроенных методов, позволяющих выполнять над ними различные операции. Некоторые распространенные методы списка включают в себя:\n",
        "\n",
        "`append(item)`: Добавляет элемент в конец списка.\n",
        "\n",
        "`extend(iterable)`: Добавляет все элементы итерируемого объекта в конец списка.\n",
        "\n",
        "`insert(index, item)`: Вставляет элемент в определенную позицию в списке.\n",
        "\n",
        "`remove(item)`: Удаляет первое вхождение элемента из списка.\n",
        "\n",
        "`pop(index)`: Удаляет и возвращает элемент в определенной позиции в списке.\n",
        "\n",
        "`index(item)`: Возвращает индекс первого вхождения элемента в список.\n",
        "\n",
        "`count(item)`: Возвращает количество раз, когда элемент появляется в списке.\n",
        "\n",
        "`sort()`: Сортирует элементы в списке в порядке возрастания.\n",
        "\n",
        "`reverse()`: Меняет порядок элементов в списке на обратный."
      ],
      "metadata": {
        "id": "UkZtTtufO6rh"
      }
    },
    {
      "cell_type": "markdown",
      "source": [
        "### Как использовать методы списка\n",
        "\n",
        "Чтобы использовать метод списка, вы просто добавляете имя метода к списку, разделенное точкой, и передаете все необходимые аргументы в круглых скобках.\n",
        "\n",
        "Например:"
      ],
      "metadata": {
        "id": "oNW9JUUuPQFl"
      }
    },
    {
      "cell_type": "code",
      "source": [
        "numbers = [1, 2, 3, 4, 5]\n",
        "numbers.append([100,200,200])\n",
        "print(numbers)  # Prints [1, 2, 3, 4, 5, 6]"
      ],
      "metadata": {
        "id": "w0amsQTTO4rd",
        "colab": {
          "base_uri": "https://localhost:8080/"
        },
        "outputId": "726ed604-1b02-4f2a-9c07-b291de76db7d"
      },
      "execution_count": null,
      "outputs": [
        {
          "output_type": "stream",
          "name": "stdout",
          "text": [
            "[1, 2, 3, 4, 5, [100, 200, 200]]\n"
          ]
        }
      ]
    },
    {
      "cell_type": "code",
      "source": [
        "fruits = [\"apple\", \"banana\", \"cherry\"]\n",
        "fruits.append(\"orange\")\n",
        "print(fruits)  # Prints [\"apple\", \"banana\", \"cherry\", \"orange\"]\n",
        "\n",
        "fruits.insert(1, \"grape\")\n",
        "print(fruits)  # Prints [\"apple\", \"grape\", \"banana\", \"cherry\", \"orange\"]\n",
        "\n",
        "fruits.remove(\"banana\")\n",
        "print(fruits)  # Prints [\"apple\", \"grape\", \"cherry\", \"orange\"]\n",
        "\n",
        "popped_fruit = fruits.pop()\n",
        "print(popped_fruit)  # Prints \"orange\"\n",
        "print(fruits)        # Prints [\"apple\", \"grape\", \"cherry\"]\n",
        "\n",
        "index = fruits.index(\"grape\")\n",
        "print(index)  # Prints 1\n",
        "\n",
        "count = fruits.count(\"apple\")\n",
        "print(count)  # Prints 1\n",
        "\n",
        "fruits.sort()\n",
        "print(fruits)  # Prints [\"apple\", \"cherry\", \"grape\"]\n",
        "\n",
        "fruits.reverse()\n",
        "print(fruits)  # Prints [\"grape\", \"cherry\", \"apple\"]"
      ],
      "metadata": {
        "id": "GtZFOozsPbJb",
        "colab": {
          "base_uri": "https://localhost:8080/"
        },
        "outputId": "7fcaab45-c6ee-4769-d582-fa6c7b1001c8"
      },
      "execution_count": null,
      "outputs": [
        {
          "output_type": "stream",
          "name": "stdout",
          "text": [
            "['apple', 'banana', 'cherry', 'orange']\n",
            "['apple', 'grape', 'banana', 'cherry', 'orange']\n",
            "['apple', 'grape', 'cherry', 'orange']\n",
            "orange\n",
            "['apple', 'grape', 'cherry']\n",
            "1\n",
            "1\n",
            "['apple', 'cherry', 'grape']\n",
            "['grape', 'cherry', 'apple']\n"
          ]
        }
      ]
    },
    {
      "cell_type": "markdown",
      "source": [
        "## Превращение строки в список"
      ],
      "metadata": {
        "id": "5099FD-bPjzm"
      }
    },
    {
      "cell_type": "markdown",
      "source": [
        "### Использование метода `split()` для преобразования строки в список\n",
        "\n",
        "В Python вы можете использовать метод `split()` для преобразования строки в список подстрок. По умолчанию метод `split()` разбивает строку по пробельным символам (пробелам, табуляциям и символам новой строки), но при желании вы можете указать другой символ-разделитель.\n",
        "\n",
        "Пример:\n"
      ],
      "metadata": {
        "id": "07rCUuINPl0A"
      }
    },
    {
      "cell_type": "code",
      "source": [
        "sentence = \"The quick brown fox jumps over the lazy dog\"\n",
        "words = sentence.split()\n",
        "print(words)  # Prints [\"The\", \"quick\", \"brown\", \"fox\", \"jumps\", \"over\", \"the\", \"lazy\", \"dog\"]"
      ],
      "metadata": {
        "id": "z-i10NqDPwb0",
        "colab": {
          "base_uri": "https://localhost:8080/"
        },
        "outputId": "057ef2ac-32fc-48ee-fc54-41d07bc44394"
      },
      "execution_count": null,
      "outputs": [
        {
          "output_type": "stream",
          "name": "stdout",
          "text": [
            "['The', 'quick', 'brown', 'fox', 'jumps', 'over', 'the', 'lazy', 'dog']\n"
          ]
        }
      ]
    },
    {
      "cell_type": "markdown",
      "source": [
        "Вы также можете разделить строку, используя определенный символ-разделитель. Например, следующий код разбивает строку, разделенную запятыми, на список подстрок:"
      ],
      "metadata": {
        "id": "1Yrwe_WnP0cY"
      }
    },
    {
      "cell_type": "code",
      "source": [
        "csv = \"apple,banana,orange\"\n",
        "fruits = csv.split(\",\")\n",
        "print(fruits)  # Prints [\"apple\", \"banana\", \"orange\"]"
      ],
      "metadata": {
        "id": "Z5eYDmnFPz9s",
        "colab": {
          "base_uri": "https://localhost:8080/"
        },
        "outputId": "9174983d-3856-4f9c-e1f5-f43177b17db1"
      },
      "execution_count": null,
      "outputs": [
        {
          "output_type": "stream",
          "name": "stdout",
          "text": [
            "['apple', 'banana', 'orange']\n"
          ]
        }
      ]
    },
    {
      "cell_type": "markdown",
      "source": [
        "### Использование генераторов списков (list comprehension) для разделения строки на список\n",
        "\n",
        "Другой способ превратить строку в список — использовать генераторы списков. List comprehension — это краткий способ создания нового списка путем применения выражения к каждому элементу итерируемого объекта.\n",
        "\n",
        "Пример:"
      ],
      "metadata": {
        "id": "I9rATBXpP4uq"
      }
    },
    {
      "cell_type": "code",
      "source": [
        "[word for word in sentence.split() if len(word) > 3]"
      ],
      "metadata": {
        "colab": {
          "base_uri": "https://localhost:8080/"
        },
        "id": "CuaVIzwlusUt",
        "outputId": "35ab3395-be70-4644-81a0-43d1f831525f"
      },
      "execution_count": null,
      "outputs": [
        {
          "output_type": "execute_result",
          "data": {
            "text/plain": [
              "['quick', 'brown', 'jumps', 'over', 'lazy']"
            ]
          },
          "metadata": {},
          "execution_count": 33
        }
      ]
    },
    {
      "cell_type": "code",
      "source": [
        "sentence = \"The quick brown fox jumps over the lazy dog\"\n",
        "words = [word for word in sentence.split()]\n",
        "print(words)  # Prints [\"The\", \"quick\", \"brown\", \"fox\", \"jumps\", \"over\", \"the\", \"lazy\", \"dog\"]"
      ],
      "metadata": {
        "id": "geWibvnUP7-d",
        "colab": {
          "base_uri": "https://localhost:8080/"
        },
        "outputId": "e5f69330-8c6c-4cd7-d478-361483179533"
      },
      "execution_count": null,
      "outputs": [
        {
          "output_type": "stream",
          "name": "stdout",
          "text": [
            "['The', 'quick', 'brown', 'fox', 'jumps', 'over', 'the', 'lazy', 'dog']\n"
          ]
        }
      ]
    },
    {
      "cell_type": "code",
      "source": [
        "sentence = \"The quick brown fox jumps over the lazy dog\"\n",
        "\n",
        "# Split the string into a list of words using the split() method\n",
        "words1 = sentence.split()\n",
        "print(words1)  # Prints [\"The\", \"quick\", \"brown\", \"fox\", \"jumps\", \"over\", \"the\", \"lazy\", \"dog\"]\n",
        "\n",
        "# Split the string into a list of words using list comprehension\n",
        "words2 = [word for word in sentence.split()]\n",
        "print(words2)  # Prints [\"The\", \"quick\", \"brown\", \"fox\", \"jumps\", \"over\", \"the\", \"lazy\", \"dog\"]"
      ],
      "metadata": {
        "id": "Xo5SiihdQD0i",
        "colab": {
          "base_uri": "https://localhost:8080/"
        },
        "outputId": "eba7d45b-8c6e-42ef-eb87-d3c1f4bcc1d7"
      },
      "execution_count": null,
      "outputs": [
        {
          "output_type": "stream",
          "name": "stdout",
          "text": [
            "['The', 'quick', 'brown', 'fox', 'jumps', 'over', 'the', 'lazy', 'dog']\n",
            "['The', 'quick', 'brown', 'fox', 'jumps', 'over', 'the', 'lazy', 'dog']\n"
          ]
        }
      ]
    },
    {
      "cell_type": "markdown",
      "source": [
        "## Срезы с параметрами"
      ],
      "metadata": {
        "id": "IlEO0mhHQF1N"
      }
    },
    {
      "cell_type": "markdown",
      "source": [
        "### Обзор срезов с параметрами\n",
        "\n",
        "В Python вы можете использовать срезы для извлечения части списка или строки. Срез создается путем указания начального индекса, конечного индекса (исключительно) и необязательного размера шага.\n",
        "\n",
        "Пример:\n"
      ],
      "metadata": {
        "id": "qbtJFBZIQL0P"
      }
    },
    {
      "cell_type": "code",
      "source": [
        "numbers = [0, 1, 2, 3, 4, 5, 6, 7, 8, 9]\n",
        "every_other = numbers[::2]\n",
        "print(every_other)"
      ],
      "metadata": {
        "colab": {
          "base_uri": "https://localhost:8080/"
        },
        "id": "bAOMVVzUm0OO",
        "outputId": "3a9d5a61-c2bb-4ca8-982c-9cc76391cd6d"
      },
      "execution_count": null,
      "outputs": [
        {
          "output_type": "stream",
          "name": "stdout",
          "text": [
            "[0, 1, 2, 3, 4, 5, 6, 7, 8, 9]\n"
          ]
        }
      ]
    },
    {
      "cell_type": "code",
      "source": [
        "numbers = [0, 1, 2, 3, 4, 5, 6, 7, 8, 9]\n",
        "\n",
        "# Get the first three numbers\n",
        "first_three = numbers[:3]\n",
        "print(first_three)  # Prints [0, 1, 2]\n",
        "\n",
        "# Get the last three numbers\n",
        "last_three = numbers[-3:]\n",
        "print(last_three)   # Prints [7, 8, 9]\n",
        "\n",
        "# Get every other number\n",
        "every_other = numbers[::2]\n",
        "print(every_other)  # Prints [0, 2, 4, 6, 8]"
      ],
      "metadata": {
        "id": "PGWVEsZ8QIvX",
        "colab": {
          "base_uri": "https://localhost:8080/"
        },
        "outputId": "8b1c999e-bd22-4a43-bd5e-78da5d5358bd"
      },
      "execution_count": null,
      "outputs": [
        {
          "output_type": "stream",
          "name": "stdout",
          "text": [
            "[0, 1, 2]\n",
            "[7, 8, 9]\n",
            "[0, 2, 4, 6, 8]\n"
          ]
        }
      ]
    },
    {
      "cell_type": "markdown",
      "source": [
        "### Указание параметров запуска, остановки и шага\n",
        "\n",
        "Чтобы создать срез, вы указываете начальный индекс, конечный индекс (исключающий) и необязательный размер шага, разделенные двоеточиями.\n",
        "\n",
        "Примеры:"
      ],
      "metadata": {
        "id": "gpS8lk3XQl9d"
      }
    },
    {
      "cell_type": "code",
      "source": [
        "my_list = [1, 2, 3, 4, 5, 6, 7, 8, 9, 10]\n",
        "\n",
        "# Get elements 2, 3, and 4\n",
        "print(my_list[1:4])  # Prints [2, 3, 4]\n",
        "\n",
        "# Get the first 5 elements\n",
        "print(my_list[:5])   # Prints [1, 2, 3, 4, 5]\n",
        "\n",
        "# Get the last 3 elements\n",
        "print(my_list[-3:])  # Prints [8, 9, 10]\n",
        "\n",
        "# Get every other element\n",
        "print(my_list[::2])  # Prints [1, 3, 5, 7, 9]\n",
        "\n",
        "# Get every third element, starting from the second element\n",
        "print(my_list[1::3]) # Prints [2, 5, 8]"
      ],
      "metadata": {
        "id": "aRTATXDFQpQG",
        "colab": {
          "base_uri": "https://localhost:8080/"
        },
        "outputId": "11181551-ecdb-422b-84ed-b4a36dfe329f"
      },
      "execution_count": null,
      "outputs": [
        {
          "output_type": "stream",
          "name": "stdout",
          "text": [
            "[2, 3, 4]\n",
            "[1, 2, 3, 4, 5]\n",
            "[8, 9, 10]\n",
            "[1, 3, 5, 7, 9]\n",
            "[2, 5, 8]\n"
          ]
        }
      ]
    },
    {
      "cell_type": "code",
      "source": [
        "a = [1, 2, 3]\n",
        "b = [4, 5, 6]\n",
        "\n",
        "list(zip(a, b))"
      ],
      "metadata": {
        "colab": {
          "base_uri": "https://localhost:8080/"
        },
        "id": "gxsooP0Uzec8",
        "outputId": "a2a926bd-aa7f-4920-899c-99eee7504088"
      },
      "execution_count": null,
      "outputs": [
        {
          "output_type": "execute_result",
          "data": {
            "text/plain": [
              "[(1, 4), (2, 5), (3, 6)]"
            ]
          },
          "metadata": {},
          "execution_count": 51
        }
      ]
    },
    {
      "cell_type": "markdown",
      "source": [
        "### Изменение списка с помощью фрагментов\n",
        "\n",
        "Вы также можете использовать фрагменты для изменения списка. Вот пример:"
      ],
      "metadata": {
        "id": "9xejx3FOQrT_"
      }
    },
    {
      "cell_type": "code",
      "source": [
        "my_list = [1, 2, 3, 4, 5, 6, 7, 8, 9, 10]\n",
        "\n",
        "# Replace elements 2, 3, and 4 with the numbers 20, 30, and 40\n",
        "my_list[1:4] = [20, 30, 40]\n",
        "print(my_list)  # Prints [1, 20, 30, 40, 5, 6, 7, 8, 9, 10]"
      ],
      "metadata": {
        "id": "itMGAN0aQuUm",
        "colab": {
          "base_uri": "https://localhost:8080/"
        },
        "outputId": "4c926fa8-c7ee-4def-e4af-ecac3df9856b"
      },
      "execution_count": null,
      "outputs": [
        {
          "output_type": "stream",
          "name": "stdout",
          "text": [
            "[1, 20, 30, 40, 5, 6, 7, 8, 9, 10]\n"
          ]
        }
      ]
    },
    {
      "cell_type": "markdown",
      "source": [
        "## Задания"
      ],
      "metadata": {
        "id": "MGTp6fxTSPGD"
      }
    },
    {
      "cell_type": "markdown",
      "source": [
        "1. Напишите программу, которая принимает введенную пользователем строку и выводит ее длину с помощью функции len()."
      ],
      "metadata": {
        "id": "b_-Njw5yRrTq"
      }
    },
    {
      "cell_type": "code",
      "source": [
        "len(input())"
      ],
      "metadata": {
        "id": "OXzWcaCzV0Jw",
        "colab": {
          "base_uri": "https://localhost:8080/"
        },
        "outputId": "2eff920e-73e2-48b1-d4d3-d3587b89a811"
      },
      "execution_count": null,
      "outputs": [
        {
          "name": "stdout",
          "output_type": "stream",
          "text": [
            "khgfdkjshfkdjs\n"
          ]
        },
        {
          "output_type": "execute_result",
          "data": {
            "text/plain": [
              "14"
            ]
          },
          "metadata": {},
          "execution_count": 98
        }
      ]
    },
    {
      "cell_type": "markdown",
      "source": [
        "2. Напишите программу, которая принимает список чисел через пробел в качестве входных данных и использует метод sort() для сортировки списка в порядке убывания. Вывести отсортированный список на консоль."
      ],
      "metadata": {
        "id": "FouY_QkFRo-s"
      }
    },
    {
      "cell_type": "code",
      "source": [
        "n = input().split(' ')\n",
        "for i in range(len(n)):\n",
        "    n[i] = int(n[i])\n",
        "n.sort(reverse=True)\n",
        "# n = ' '.join(n)\n",
        "print(n)"
      ],
      "metadata": {
        "id": "OSRB3G93V0bt"
      },
      "execution_count": null,
      "outputs": []
    },
    {
      "cell_type": "markdown",
      "source": [
        "3. Напишите программу, которая принимает введенную пользователем строку и использует метод split() для разделения строки на список слов. Вывести список слов в консоль."
      ],
      "metadata": {
        "id": "ok--fQobRnaN"
      }
    },
    {
      "cell_type": "code",
      "source": [],
      "metadata": {
        "id": "a5nTMLqKV04Z"
      },
      "execution_count": null,
      "outputs": []
    },
    {
      "cell_type": "markdown",
      "source": [
        "4. Напишите программу, которая принимает введенную пользователем строку и использует метод replace() для замены всех вхождений определенного символа в строке другим символом. Выведите измененную строку на консоль."
      ],
      "metadata": {
        "id": "2JbUEjRYRk-v"
      }
    },
    {
      "cell_type": "code",
      "source": [],
      "metadata": {
        "id": "-bNzbxicV1R4"
      },
      "execution_count": null,
      "outputs": []
    },
    {
      "cell_type": "markdown",
      "source": [
        "5. Напишите программу, которая принимает список строк в качестве входных данных и использует метод join() для объединения строк в одну строку с указанным разделителем между строками. Выведите объединенную строку на консоль."
      ],
      "metadata": {
        "id": "g9Z7QxvYRjOe"
      }
    },
    {
      "cell_type": "code",
      "source": [],
      "metadata": {
        "id": "Mr1uCzf2V1tx"
      },
      "execution_count": null,
      "outputs": []
    },
    {
      "cell_type": "markdown",
      "source": [
        "6. Напишите программу, которая принимает введенную пользователем строку и использует регулярные выражения и метод re.findall() для поиска и вывода всех экземпляров указанного шаблона в строке."
      ],
      "metadata": {
        "id": "XjnSqkHVRehN"
      }
    },
    {
      "cell_type": "code",
      "source": [
        "import re"
      ],
      "metadata": {
        "id": "MHUzj7C1_13Y"
      },
      "execution_count": null,
      "outputs": []
    },
    {
      "cell_type": "code",
      "source": [
        "re.findall('o', 'hellooo')"
      ],
      "metadata": {
        "id": "4F1MGEdtV2WZ",
        "colab": {
          "base_uri": "https://localhost:8080/"
        },
        "outputId": "41aca7b2-86fd-41b7-e44d-eea775c71309"
      },
      "execution_count": null,
      "outputs": [
        {
          "output_type": "execute_result",
          "data": {
            "text/plain": [
              "['o', 'o', 'o']"
            ]
          },
          "metadata": {},
          "execution_count": 118
        }
      ]
    },
    {
      "cell_type": "code",
      "source": [
        "list([])"
      ],
      "metadata": {
        "id": "gydbroaBV2xe",
        "colab": {
          "base_uri": "https://localhost:8080/"
        },
        "outputId": "6a608222-83e0-4e4b-8e4e-2ddae42015f9"
      },
      "execution_count": null,
      "outputs": [
        {
          "output_type": "execute_result",
          "data": {
            "text/plain": [
              "[]"
            ]
          },
          "metadata": {},
          "execution_count": 123
        }
      ]
    },
    {
      "cell_type": "code",
      "source": [
        "str(21)"
      ],
      "metadata": {
        "colab": {
          "base_uri": "https://localhost:8080/",
          "height": 35
        },
        "id": "WfGDUrfWEi1E",
        "outputId": "afe5a089-09ed-4edd-f813-3dab414cfdab"
      },
      "execution_count": null,
      "outputs": [
        {
          "output_type": "execute_result",
          "data": {
            "text/plain": [
              "'21'"
            ],
            "application/vnd.google.colaboratory.intrinsic+json": {
              "type": "string"
            }
          },
          "metadata": {},
          "execution_count": 124
        }
      ]
    },
    {
      "cell_type": "code",
      "source": [
        "int('32')"
      ],
      "metadata": {
        "colab": {
          "base_uri": "https://localhost:8080/"
        },
        "id": "RhhT7r9pEozA",
        "outputId": "83e12759-5ece-45a8-ada3-5b6ff3e0166d"
      },
      "execution_count": null,
      "outputs": [
        {
          "output_type": "execute_result",
          "data": {
            "text/plain": [
              "32"
            ]
          },
          "metadata": {},
          "execution_count": 125
        }
      ]
    },
    {
      "cell_type": "code",
      "source": [
        "list('fdsfds')"
      ],
      "metadata": {
        "colab": {
          "base_uri": "https://localhost:8080/"
        },
        "id": "S1BQ6iBhEp7k",
        "outputId": "3d221b91-9ef5-4031-d8a8-633a90e8d95b"
      },
      "execution_count": null,
      "outputs": [
        {
          "output_type": "execute_result",
          "data": {
            "text/plain": [
              "['f', 'd', 's', 'f', 'd', 's']"
            ]
          },
          "metadata": {},
          "execution_count": 126
        }
      ]
    },
    {
      "cell_type": "code",
      "source": [
        "for i in \"Hello\":\n",
        "  print(i)"
      ],
      "metadata": {
        "colab": {
          "base_uri": "https://localhost:8080/"
        },
        "id": "nzVKdzSpErjs",
        "outputId": "3681a9d5-8e91-4497-bc22-bb60c9d0050f"
      },
      "execution_count": null,
      "outputs": [
        {
          "output_type": "stream",
          "name": "stdout",
          "text": [
            "H\n",
            "e\n",
            "l\n",
            "l\n",
            "o\n"
          ]
        }
      ]
    },
    {
      "cell_type": "code",
      "source": [],
      "metadata": {
        "id": "CWdhEYs9FM_c"
      },
      "execution_count": null,
      "outputs": []
    }
  ]
}