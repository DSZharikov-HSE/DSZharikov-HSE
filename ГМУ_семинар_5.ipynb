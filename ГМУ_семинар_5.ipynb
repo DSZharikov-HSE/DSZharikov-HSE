{
  "cells": [
    {
      "cell_type": "markdown",
      "metadata": {
        "id": "gFMfFkDEVVdU"
      },
      "source": [
        "# Введение в неупорядоченные типы данных\n",
        "\n",
        "Неупорядоченные типы данных — это структуры данных, которые не поддерживают какой-либо определенный порядок элементов. Два распространенных неупорядоченных типа данных в Python — это множества (`set`) и словари (`dict`, dictionary).\n",
        "\n"
      ]
    },
    {
      "cell_type": "code",
      "execution_count": 11,
      "metadata": {},
      "outputs": [
        {
          "name": "stdout",
          "output_type": "stream",
          "text": [
            " Его осудили по статье\n"
          ]
        }
      ],
      "source": [
        "sentence = 'Его осудили по 156 статье'.split() # input().split()\n",
        "result_str = ''\n",
        "for word in sentence:\n",
        "    if not word.isdigit():\n",
        "        result_str += ' '+  word\n",
        "print(result_str)"
      ]
    },
    {
      "cell_type": "code",
      "execution_count": 13,
      "metadata": {},
      "outputs": [
        {
          "data": {
            "text/plain": [
              "[4, 5]"
            ]
          },
          "execution_count": 13,
          "metadata": {},
          "output_type": "execute_result"
        }
      ],
      "source": [
        "loses = '100000 50000 40000 140000 120000'.split()\n",
        "list_indxs = []\n",
        "for i, lose in enumerate(loses):\n",
        "    if int(lose)>100000:\n",
        "        list_indxs.append(i+1)\n",
        "list_indxs"
      ]
    },
    {
      "cell_type": "markdown",
      "metadata": {
        "id": "lynVpmt8VZjS"
      },
      "source": [
        "## Множества\n",
        "\n",
        "Множества — это неупорядоченные наборы **уникальных** элементов. Они обычно используются для таких операций, как проверка принадлежности, удаление дубликатов из последовательности и вычисление математических операций, таких как пересечение, объединение и разность."
      ]
    },
    {
      "cell_type": "markdown",
      "metadata": {
        "id": "GD6eYPTIVkK_"
      },
      "source": [
        "### Создание множества\n",
        "\n",
        "Мы можем создать множество, заключив последовательность элементов, разделенных запятыми, внутри фигурных скобок {}. Создадим множество фруктов:"
      ]
    },
    {
      "cell_type": "code",
      "execution_count": null,
      "metadata": {
        "id": "76bK-fGGdbPm"
      },
      "outputs": [],
      "source": [
        "d = {}"
      ]
    },
    {
      "cell_type": "code",
      "execution_count": null,
      "metadata": {
        "colab": {
          "base_uri": "https://localhost:8080/"
        },
        "id": "yuk3lASaVgle",
        "outputId": "200deee9-12b4-485c-8cd5-9b5723d9c6fd"
      },
      "outputs": [],
      "source": [
        "fruits = {'apple', 'banana', 'orange'}\n",
        "print(fruits)"
      ]
    },
    {
      "cell_type": "code",
      "execution_count": null,
      "metadata": {
        "colab": {
          "base_uri": "https://localhost:8080/"
        },
        "id": "XwEVJ55KOTHI",
        "outputId": "dae46eb7-ac10-4189-f225-6973e65c915c"
      },
      "outputs": [],
      "source": [
        "# ?\n",
        "l = ['banana', 'apple', 'apple', 1, 1, 2]\n",
        "print(set(l))"
      ]
    },
    {
      "cell_type": "markdown",
      "metadata": {
        "id": "fX7oJ6DmVqG6"
      },
      "source": [
        "Обратите внимание, что порядок элементов во множестве не обязательно будет таким же, как порядок, в котором мы их добавили."
      ]
    },
    {
      "cell_type": "markdown",
      "metadata": {
        "id": "7OGrR6VeYgpB"
      },
      "source": [
        "### Пустое множество\n",
        "\n",
        "Пустое множество создается при помощи функции `set()`. Попытка использовать пустые фигурные скобки приведет к созданию словаря (далее в этом семинаре)"
      ]
    },
    {
      "cell_type": "code",
      "execution_count": null,
      "metadata": {
        "colab": {
          "base_uri": "https://localhost:8080/"
        },
        "id": "NWXcxboIYpcC",
        "outputId": "03a75494-97c9-483c-cbb7-4f1048d0183f"
      },
      "outputs": [
        {
          "name": "stdout",
          "output_type": "stream",
          "text": [
            "set()\n",
            "<class 'set'>\n"
          ]
        }
      ],
      "source": [
        "s = set()\n",
        "print(s)\n",
        "print(type(s))"
      ]
    },
    {
      "cell_type": "code",
      "execution_count": null,
      "metadata": {
        "colab": {
          "base_uri": "https://localhost:8080/"
        },
        "id": "Li30UPoGN-Y-",
        "outputId": "b41137cb-beb0-4018-e5ee-accea506cebe"
      },
      "outputs": [
        {
          "data": {
            "text/plain": [
              "dict"
            ]
          },
          "execution_count": 5,
          "metadata": {},
          "output_type": "execute_result"
        }
      ],
      "source": [
        "a = {}\n",
        "type(a)"
      ]
    },
    {
      "cell_type": "markdown",
      "metadata": {
        "id": "I12IKjXxVsli"
      },
      "source": [
        "### Добавление элементов во множество\n",
        "\n",
        "Мы можем добавить элемент во множество, используя метод `add()`. Добавим в наше множество новый фрукт:"
      ]
    },
    {
      "cell_type": "code",
      "execution_count": null,
      "metadata": {
        "colab": {
          "base_uri": "https://localhost:8080/"
        },
        "id": "f_tF7SwNVoN4",
        "outputId": "82deca5e-92de-4372-9640-caf92f6cd9ae"
      },
      "outputs": [
        {
          "name": "stdout",
          "output_type": "stream",
          "text": [
            "{'orange', 'banana', 'pear', 'apple'}\n"
          ]
        }
      ],
      "source": [
        "fruits = {'apple', 'banana', 'orange'}\n",
        "fruits.add('pear')\n",
        "print(fruits)"
      ]
    },
    {
      "cell_type": "code",
      "execution_count": null,
      "metadata": {
        "id": "aoEBjY-8O9r-"
      },
      "outputs": [],
      "source": [
        "#?\n",
        "# аналог в list"
      ]
    },
    {
      "cell_type": "code",
      "execution_count": null,
      "metadata": {
        "colab": {
          "base_uri": "https://localhost:8080/"
        },
        "id": "4cssPswnPAgA",
        "outputId": "864109f9-d3f1-42a6-b929-7cae99876984"
      },
      "outputs": [
        {
          "name": "stdout",
          "output_type": "stream",
          "text": [
            "{'orange', 'banana', 'apple'}\n"
          ]
        }
      ],
      "source": [
        "#?\n",
        "fruits = {'apple', 'banana', 'orange'}\n",
        "fruits.add('banana')\n",
        "print(fruits)"
      ]
    },
    {
      "cell_type": "markdown",
      "metadata": {
        "id": "u2WvtqY_VzKV"
      },
      "source": [
        "### Удаление элементов из множество\n",
        "\n",
        "Мы можем удалить элемент из множества, используя метод remove(). Удалим банан из нашего множества:"
      ]
    },
    {
      "cell_type": "code",
      "execution_count": null,
      "metadata": {
        "colab": {
          "base_uri": "https://localhost:8080/"
        },
        "id": "nL1Ykz3uVz3U",
        "outputId": "07ee9640-88c1-4a7e-b46b-c86fc998f9ec"
      },
      "outputs": [
        {
          "name": "stdout",
          "output_type": "stream",
          "text": [
            "{'pear', 'orange', 'apple'}\n"
          ]
        }
      ],
      "source": [
        "fruits.remove('banana')\n",
        "print(fruits)"
      ]
    },
    {
      "cell_type": "markdown",
      "metadata": {
        "id": "f_yuTXgbV68v"
      },
      "source": [
        "Если мы попытаемся удалить элемент, которого нет во множестве, будет выдано сообщение об ошибке `KeyError`.\n"
      ]
    },
    {
      "cell_type": "code",
      "execution_count": null,
      "metadata": {
        "colab": {
          "base_uri": "https://localhost:8080/",
          "height": 183
        },
        "id": "9Vjj3ZqBWTNg",
        "outputId": "422e07c8-ca5e-4438-e25e-aa123b8fb421"
      },
      "outputs": [
        {
          "ename": "KeyError",
          "evalue": "ignored",
          "output_type": "error",
          "traceback": [
            "\u001b[0;31m---------------------------------------------------------------------------\u001b[0m",
            "\u001b[0;31mKeyError\u001b[0m                                  Traceback (most recent call last)",
            "\u001b[0;32m<ipython-input-6-b5056dabb17b>\u001b[0m in \u001b[0;36m<cell line: 1>\u001b[0;34m()\u001b[0m\n\u001b[0;32m----> 1\u001b[0;31m \u001b[0mfruits\u001b[0m\u001b[0;34m.\u001b[0m\u001b[0mremove\u001b[0m\u001b[0;34m(\u001b[0m\u001b[0;34m'ertewt'\u001b[0m\u001b[0;34m)\u001b[0m\u001b[0;34m\u001b[0m\u001b[0;34m\u001b[0m\u001b[0m\n\u001b[0m\u001b[1;32m      2\u001b[0m \u001b[0mprint\u001b[0m\u001b[0;34m(\u001b[0m\u001b[0mfruits\u001b[0m\u001b[0;34m)\u001b[0m\u001b[0;34m\u001b[0m\u001b[0;34m\u001b[0m\u001b[0m\n",
            "\u001b[0;31mKeyError\u001b[0m: 'ertewt'"
          ]
        }
      ],
      "source": [
        "fruits.remove('ertewt')\n",
        "print(fruits)"
      ]
    },
    {
      "cell_type": "code",
      "execution_count": null,
      "metadata": {
        "colab": {
          "base_uri": "https://localhost:8080/"
        },
        "id": "5Sd5X6v0QCrB",
        "outputId": "0f050b9a-d0b3-42fa-c785-8c2af092e493"
      },
      "outputs": [
        {
          "name": "stdout",
          "output_type": "stream",
          "text": [
            "o\n",
            "b\n",
            "a\n"
          ]
        }
      ],
      "source": [
        "# ?\n",
        "fruits = {'apple', 'banana', 'orange'}\n",
        "for fruit in fruits:\n",
        "    print(fruit[0])"
      ]
    },
    {
      "cell_type": "markdown",
      "metadata": {
        "id": "JP8JkmmpV-CM"
      },
      "source": [
        "### Операции над множествами\n",
        "\n",
        "Мы можем выполнять математические операции над множествами, такими как пересечение, объединение и разность."
      ]
    },
    {
      "cell_type": "markdown",
      "metadata": {
        "id": "A89UOp1sQnqI"
      },
      "source": [
        "![image.png](data:image/png;base64,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)"
      ]
    },
    {
      "cell_type": "code",
      "execution_count": null,
      "metadata": {
        "id": "YhsQy9mgV8Z1"
      },
      "outputs": [],
      "source": [
        "set1 = {1, 2, 3}\n",
        "set2 = {2, 3, 4}"
      ]
    },
    {
      "cell_type": "markdown",
      "metadata": {
        "id": "nIIhbd0_WFwq"
      },
      "source": [
        "Чтобы найти пересечение двух множеств, мы можем использовать метод `intersection()` или оператор `&`:"
      ]
    },
    {
      "cell_type": "code",
      "execution_count": null,
      "metadata": {
        "colab": {
          "base_uri": "https://localhost:8080/"
        },
        "id": "fe2bsMw6WHYB",
        "outputId": "77283135-f697-4ea7-9e50-9a10be1e1e8e"
      },
      "outputs": [
        {
          "name": "stdout",
          "output_type": "stream",
          "text": [
            "{2, 3}\n",
            "{2, 3}\n"
          ]
        }
      ],
      "source": [
        "print(set1.intersection(set2))\n",
        "print(set1 & set2)"
      ]
    },
    {
      "cell_type": "markdown",
      "metadata": {
        "id": "sygz-cDtWKUL"
      },
      "source": [
        "Чтобы найти объединение двух множеств, мы можем использовать метод `union()` или оператор `|`:"
      ]
    },
    {
      "cell_type": "code",
      "execution_count": null,
      "metadata": {
        "colab": {
          "base_uri": "https://localhost:8080/"
        },
        "id": "JdEZZIUbWMGf",
        "outputId": "7d3b1967-3c2a-4f41-8d0f-29a8c45ea278"
      },
      "outputs": [
        {
          "name": "stdout",
          "output_type": "stream",
          "text": [
            "{1, 2, 3, 4}\n",
            "{1, 2, 3, 4}\n"
          ]
        }
      ],
      "source": [
        "print(set1.union(set2))\n",
        "print(set1 | set2)"
      ]
    },
    {
      "cell_type": "markdown",
      "metadata": {
        "id": "GvZyDE4SWPBj"
      },
      "source": [
        "Чтобы найти разницу между двумя множествами, мы можем использовать метод `difference()` или оператор `-`:"
      ]
    },
    {
      "cell_type": "code",
      "execution_count": null,
      "metadata": {
        "id": "urigndG9e7Hw"
      },
      "outputs": [],
      "source": [
        "s"
      ]
    },
    {
      "cell_type": "code",
      "execution_count": null,
      "metadata": {
        "colab": {
          "base_uri": "https://localhost:8080/"
        },
        "id": "4hUBNdaSWQpS",
        "outputId": "bcae5a85-38e9-4ffe-d8f8-179bbc9ac55b"
      },
      "outputs": [
        {
          "name": "stdout",
          "output_type": "stream",
          "text": [
            "{1}\n",
            "{1}\n"
          ]
        }
      ],
      "source": [
        "print(set1.difference(set2))\n",
        "print(set1 - set2)"
      ]
    },
    {
      "cell_type": "markdown",
      "metadata": {
        "id": "KWzHbmHrWwVX"
      },
      "source": [
        "### Симметричная разница\n",
        "\n",
        "Мы можем создать новое множество, содержащее только те элементы, которые присутствуют в одном из множеств, но не в обоих, используя метод `symmetric_difference()` или оператор `^`. Создадим два множества и найдем их симметричную разность:"
      ]
    },
    {
      "cell_type": "code",
      "execution_count": null,
      "metadata": {
        "colab": {
          "base_uri": "https://localhost:8080/"
        },
        "id": "CwzKUqt5WwxQ",
        "outputId": "f713a255-db40-4d06-b012-94c947445955"
      },
      "outputs": [
        {
          "name": "stdout",
          "output_type": "stream",
          "text": [
            "{1, 4}\n",
            "{1, 4}\n"
          ]
        }
      ],
      "source": [
        "set1 = {1, 2, 3}\n",
        "set2 = {2, 3, 4}\n",
        "\n",
        "print(set1.symmetric_difference(set2))\n",
        "print(set1 ^ set2)"
      ]
    },
    {
      "cell_type": "markdown",
      "metadata": {
        "id": "ibPTaBwVWm8S"
      },
      "source": [
        "### Подмножество и надмножество\n",
        "\n",
        "Мы можем проверить, является ли множество подмножеством или надмножеством другого множества, используя методы issubset() и issuperset() соответственно. Давайте создадим два множества и проверим, является ли одно подмножеством другого:"
      ]
    },
    {
      "cell_type": "code",
      "execution_count": null,
      "metadata": {
        "colab": {
          "base_uri": "https://localhost:8080/"
        },
        "id": "K0VKsBNXWnk5",
        "outputId": "7664b70a-3126-4aeb-a737-f10933a9e290"
      },
      "outputs": [
        {
          "name": "stdout",
          "output_type": "stream",
          "text": [
            "True\n",
            "True\n"
          ]
        }
      ],
      "source": [
        "set1 = {1, 2, 3, 4, 5}\n",
        "set2 = {1, 3, 5}\n",
        "\n",
        "print(set2.issubset(set1))\n",
        "print(set1.issuperset(set2))"
      ]
    },
    {
      "cell_type": "markdown",
      "metadata": {
        "id": "vZoRR3stXFkc"
      },
      "source": [
        "## Словари\n",
        "\n",
        "Словари — это неупорядоченные наборы пар ключ-значение. Они обычно используются для поиска значений на основе ключа."
      ]
    },
    {
      "cell_type": "markdown",
      "metadata": {
        "id": "RL10cmXrgy8m"
      },
      "source": [
        "Значения ключей — уникальны, двух одинаковых ключей в словаре быть не может."
      ]
    },
    {
      "cell_type": "markdown",
      "metadata": {
        "id": "EqS9nnaPXI3Y"
      },
      "source": [
        "### Создание словаря\n",
        "\n",
        "Мы можем создать словарь, заключив разделенную запятыми последовательность пар ключ-значение внутри фигурных скобок `{}`. Создадим словарь фруктов и их цветов:"
      ]
    },
    {
      "cell_type": "code",
      "execution_count": null,
      "metadata": {
        "colab": {
          "base_uri": "https://localhost:8080/"
        },
        "id": "3pbJJ73qXF4b",
        "outputId": "10bf4afd-8fa8-4a12-cf7c-c44abb2a4ac2"
      },
      "outputs": [
        {
          "name": "stdout",
          "output_type": "stream",
          "text": [
            "{'apple': 'red', 'banana': 'yellow', 'orange': 'orange'}\n"
          ]
        }
      ],
      "source": [
        "fruit_colors = {\n",
        "    'apple': 'red',\n",
        "    'banana': 'yellow',\n",
        "    'orange': 'orange'}\n",
        "print(fruit_colors)"
      ]
    },
    {
      "cell_type": "code",
      "execution_count": null,
      "metadata": {
        "colab": {
          "base_uri": "https://localhost:8080/"
        },
        "id": "VsLjlS2thQOo",
        "outputId": "9ff89549-76f2-4673-a623-6adc6e5e7bf9"
      },
      "outputs": [
        {
          "name": "stdout",
          "output_type": "stream",
          "text": [
            "type: <class 'dict'>\n",
            "{'fname': 'Joe', 'lname': 'Fonebone', 'age': 51, 'spouse': 'Edna', 'children': ['Ralph', 'Betty', 'Joey'], 'pets': {'dog': 'Fido', 'cat': 'Sox'}}\n"
          ]
        }
      ],
      "source": [
        "person = {}\n",
        "print(f'type: {type(person)}')\n",
        "\n",
        "person['fname'] = 'Joe'\n",
        "person['lname'] = 'Fonebone'\n",
        "person['age'] = 51\n",
        "person['spouse'] = 'Edna'\n",
        "person['children'] = ['Ralph', 'Betty', 'Joey']\n",
        "person['pets'] = {'dog': 'Fido', 'cat': 'Sox'}\n",
        "\n",
        "print(person)"
      ]
    },
    {
      "cell_type": "markdown",
      "metadata": {
        "id": "pRXY7xmlXNxc"
      },
      "source": [
        "### Добавление элементов в словарь\n",
        "\n",
        "Мы можем добавить новую пару ключ-значение в словарь, присвоив значение новому ключу. Добавим в наш словарь новый фрукт и его цвет:"
      ]
    },
    {
      "cell_type": "code",
      "execution_count": null,
      "metadata": {
        "colab": {
          "base_uri": "https://localhost:8080/"
        },
        "id": "9jUCVGBxXRGM",
        "outputId": "3ed1b69a-594a-4334-ec5a-ea8db37fdbff"
      },
      "outputs": [
        {
          "name": "stdout",
          "output_type": "stream",
          "text": [
            "{'apple': 'red', 'banana': 'yellow', 'orange': 'orange', 'pear': 'green'}\n"
          ]
        }
      ],
      "source": [
        "fruit_colors['pear'] = 'green'\n",
        "print(fruit_colors)"
      ]
    },
    {
      "cell_type": "markdown",
      "metadata": {
        "id": "Jahp5aRQXS-Q"
      },
      "source": [
        "Если ключ уже существует в словаре, его значение будет перезаписано."
      ]
    },
    {
      "cell_type": "markdown",
      "metadata": {
        "id": "soIyjJaZXUuw"
      },
      "source": [
        "### Поиск по словарю\n",
        "\n",
        "Мы можем получить значение, связанное с ключом, в словаре, используя запись с квадратными скобками. Давайте найдем цвет яблока в нашем словаре:"
      ]
    },
    {
      "cell_type": "code",
      "execution_count": null,
      "metadata": {
        "colab": {
          "base_uri": "https://localhost:8080/"
        },
        "id": "jPzSomUuXWsg",
        "outputId": "f0ba0916-93a6-47cc-c896-4fc6eadc2895"
      },
      "outputs": [
        {
          "name": "stdout",
          "output_type": "stream",
          "text": [
            "red\n"
          ]
        }
      ],
      "source": [
        "print(fruit_colors['apple'])"
      ]
    },
    {
      "cell_type": "code",
      "execution_count": null,
      "metadata": {
        "colab": {
          "base_uri": "https://localhost:8080/",
          "height": 166
        },
        "id": "uh3do7CUZBgI",
        "outputId": "d9720aa1-372e-4bdf-bdca-591b88e1723a"
      },
      "outputs": [
        {
          "ename": "KeyError",
          "evalue": "ignored",
          "output_type": "error",
          "traceback": [
            "\u001b[0;31m---------------------------------------------------------------------------\u001b[0m",
            "\u001b[0;31mKeyError\u001b[0m                                  Traceback (most recent call last)",
            "\u001b[0;32m<ipython-input-17-eec92d172c93>\u001b[0m in \u001b[0;36m<cell line: 1>\u001b[0;34m()\u001b[0m\n\u001b[0;32m----> 1\u001b[0;31m \u001b[0mprint\u001b[0m\u001b[0;34m(\u001b[0m\u001b[0mfruit_colors\u001b[0m\u001b[0;34m[\u001b[0m\u001b[0;34m'аыв'\u001b[0m\u001b[0;34m]\u001b[0m\u001b[0;34m)\u001b[0m\u001b[0;34m\u001b[0m\u001b[0;34m\u001b[0m\u001b[0m\n\u001b[0m",
            "\u001b[0;31mKeyError\u001b[0m: 'аыв'"
          ]
        }
      ],
      "source": [
        "print(fruit_colors['аыв'])"
      ]
    },
    {
      "cell_type": "markdown",
      "metadata": {
        "id": "gBnCmH3nXa9s"
      },
      "source": [
        "Если ключ не существует в словаре, будет выдано сообщение об ошибке `KeyError`. Мы можем избежать этого, используя метод `get()`, который возвращает None или значение по-умолчанию, если ключ не существует:"
      ]
    },
    {
      "cell_type": "code",
      "execution_count": null,
      "metadata": {
        "id": "EKMfAPOAggqX"
      },
      "outputs": [],
      "source": [
        "fruit_colors = {'apple': 'red', 'banana': 'yellow', 'orange': 'orange', 'pear': 'green'}"
      ]
    },
    {
      "cell_type": "code",
      "execution_count": null,
      "metadata": {
        "colab": {
          "base_uri": "https://localhost:8080/"
        },
        "id": "inIgYFI1XcUK",
        "outputId": "1ad2afe3-2be5-4b0d-a25c-a1a015ca0104"
      },
      "outputs": [
        {
          "name": "stdout",
          "output_type": "stream",
          "text": [
            "None\n"
          ]
        }
      ],
      "source": [
        "print(fruit_colors.get('grape'))"
      ]
    },
    {
      "cell_type": "code",
      "execution_count": null,
      "metadata": {
        "colab": {
          "base_uri": "https://localhost:8080/"
        },
        "id": "L8aJScsJaZIb",
        "outputId": "41e2ebf3-4fbf-4cfd-9ebd-59e836ac56eb"
      },
      "outputs": [
        {
          "name": "stdout",
          "output_type": "stream",
          "text": [
            "default banana\n"
          ]
        }
      ],
      "source": [
        "print(fruit_colors.get('grape', 'default banana'))"
      ]
    },
    {
      "cell_type": "markdown",
      "metadata": {
        "id": "aqasecFZXeVF"
      },
      "source": [
        "### Удаление элементов из словаря\n",
        "\n",
        "Мы можем удалить пару ключ-значение из словаря, используя ключевое слово `del`. Удалим из нашего словаря банан:"
      ]
    },
    {
      "cell_type": "code",
      "execution_count": null,
      "metadata": {
        "colab": {
          "base_uri": "https://localhost:8080/"
        },
        "id": "2ndbn4gNXe4Y",
        "outputId": "74a06563-2153-4441-80e3-b0a98fe65db8"
      },
      "outputs": [
        {
          "name": "stdout",
          "output_type": "stream",
          "text": [
            "{'apple': 'red', 'orange': 'orange', 'pear': 'green'}\n"
          ]
        }
      ],
      "source": [
        "del fruit_colors['banana']\n",
        "print(fruit_colors)"
      ]
    },
    {
      "cell_type": "markdown",
      "metadata": {
        "id": "YOQC4MldeBNG"
      },
      "source": [
        "### Метод `.items()`"
      ]
    },
    {
      "cell_type": "markdown",
      "metadata": {
        "id": "R0UkOhtIfJ3u"
      },
      "source": [
        "Метод `dict.items()` возвращает новый список-представление `dict_items` пар элементов словаря dict, такой как `(key, value)` Другими словами возвращает список кортежей вида `(key, value)`, состоящий из элементов словаря."
      ]
    },
    {
      "cell_type": "code",
      "execution_count": null,
      "metadata": {
        "colab": {
          "base_uri": "https://localhost:8080/"
        },
        "id": "jHf1dViSeEBH",
        "outputId": "c48bd507-aa8b-49ab-bf01-aac8cc995c62"
      },
      "outputs": [
        {
          "name": "stdout",
          "output_type": "stream",
          "text": [
            "dict_items([('apple', 'red'), ('banana', 'yellow'), ('orange', 'orange')])\n"
          ]
        }
      ],
      "source": [
        "fruit_colors = {'apple': 'red', 'banana': 'yellow', 'orange': 'orange'}\n",
        "print(fruit_colors.items())"
      ]
    },
    {
      "cell_type": "code",
      "execution_count": null,
      "metadata": {
        "colab": {
          "base_uri": "https://localhost:8080/"
        },
        "id": "yYu8ZrU2fdlN",
        "outputId": "ec025a72-b597-46ea-874b-f5cd307ffdf1"
      },
      "outputs": [
        {
          "name": "stdout",
          "output_type": "stream",
          "text": [
            "('apple', 'red')\n",
            "('banana', 'yellow')\n",
            "('orange', 'orange')\n"
          ]
        }
      ],
      "source": [
        "for couple in fruit_colors.items():\n",
        "    print(couple)"
      ]
    },
    {
      "cell_type": "code",
      "execution_count": null,
      "metadata": {
        "colab": {
          "base_uri": "https://localhost:8080/"
        },
        "id": "oKqflR_wfkft",
        "outputId": "64ca8d44-57d9-4f7e-9d64-1d74eb9720da"
      },
      "outputs": [
        {
          "name": "stdout",
          "output_type": "stream",
          "text": [
            "Ключ: apple\t|\tЗначение: red\n",
            "\n",
            "Ключ: banana\t|\tЗначение: yellow\n",
            "\n",
            "Ключ: orange\t|\tЗначение: orange\n",
            "\n"
          ]
        }
      ],
      "source": [
        "for key, value in fruit_colors.items():\n",
        "    print(f'Ключ: {key}\\t|\\tЗначение: {value}\\n')"
      ]
    },
    {
      "cell_type": "code",
      "execution_count": null,
      "metadata": {
        "id": "W-yXI_D3g8GQ"
      },
      "outputs": [],
      "source": [
        "{'apple': 'red', 'banana': 'yellow', 'orange': 'orange', 'pear': 'green'}"
      ]
    },
    {
      "cell_type": "code",
      "execution_count": null,
      "metadata": {
        "colab": {
          "base_uri": "https://localhost:8080/"
        },
        "id": "I--1K_Xrf7xn",
        "outputId": "d38fa9c4-c139-4783-b18a-8ea6aa3d4714"
      },
      "outputs": [
        {
          "name": "stdout",
          "output_type": "stream",
          "text": [
            "applebananaorangepear\n"
          ]
        }
      ],
      "source": [
        "# ?\n",
        "result_str = ''\n",
        "for key, value in fruit_colors.items():\n",
        "    result_str += key\n",
        "print(result_str)"
      ]
    },
    {
      "cell_type": "code",
      "execution_count": null,
      "metadata": {
        "colab": {
          "base_uri": "https://localhost:8080/"
        },
        "id": "hTIKkZQghV3r",
        "outputId": "4bea9dff-2519-4ce0-d774-718342bd9168"
      },
      "outputs": [
        {
          "name": "stdout",
          "output_type": "stream",
          "text": [
            "red\n",
            "yellow\n",
            "orange\n",
            "green\n"
          ]
        }
      ],
      "source": [
        "for value in fruit_colors.values():\n",
        "    print(value)"
      ]
    },
    {
      "cell_type": "code",
      "execution_count": null,
      "metadata": {
        "colab": {
          "base_uri": "https://localhost:8080/"
        },
        "id": "h5qPZ3FVgJX-",
        "outputId": "b80087e0-91d1-45f8-9c5b-abf32ce05263"
      },
      "outputs": [
        {
          "name": "stdout",
          "output_type": "stream",
          "text": [
            "Монеточка: 12300\n",
            "Дорожный: 12800\n",
            "Букварь вкусов: 24000\n",
            "СладкоВилл: 18000\n"
          ]
        }
      ],
      "source": [
        "#?\n",
        "shops = {'Монеточка': [6000, 4000, 2300],\n",
        "         'Дорожный': [6700, 4000, 2100],\n",
        "         'Букварь вкусов' : [10000, 8000, 6000],\n",
        "         'СладкоВилл' : [5000, 9000, 4000]}\n",
        "\n",
        "for key, value in shops.items():\n",
        "    cur_sum = 0\n",
        "    for val in value:\n",
        "        cur_sum += val\n",
        "    print(f'{key}: {cur_sum}')"
      ]
    },
    {
      "cell_type": "code",
      "execution_count": null,
      "metadata": {
        "colab": {
          "base_uri": "https://localhost:8080/"
        },
        "id": "Wj-L-8GnjBIw",
        "outputId": "d8207533-527b-4460-c6a8-91fdcdf17790"
      },
      "outputs": [
        {
          "name": "stdout",
          "output_type": "stream",
          "text": [
            "3\n"
          ]
        }
      ],
      "source": [
        "#?\n",
        "print(len({'apple', 'banana', 'apple', 'orange', 'orange'}))"
      ]
    },
    {
      "cell_type": "markdown",
      "metadata": {
        "id": "ZQ8lxP3bXt20"
      },
      "source": [
        "## Задания"
      ]
    },
    {
      "cell_type": "markdown",
      "metadata": {
        "id": "GUFxZYUWXvHB"
      },
      "source": [
        "1. Найдите общие элементы между двумя наборами чисел, принимаемых на вход от пользователя"
      ]
    },
    {
      "cell_type": "code",
      "execution_count": null,
      "metadata": {
        "colab": {
          "base_uri": "https://localhost:8080/"
        },
        "id": "TdaUYav3imS_",
        "outputId": "89974636-1157-4317-cd1e-241d01914fd5"
      },
      "outputs": [
        {
          "name": "stdout",
          "output_type": "stream",
          "text": [
            "{2}\n"
          ]
        }
      ],
      "source": [
        "set1 = {1,2,3}\n",
        "set2 = {5,2,9}\n",
        "print(set1 & set2)"
      ]
    },
    {
      "cell_type": "code",
      "execution_count": null,
      "metadata": {
        "colab": {
          "base_uri": "https://localhost:8080/"
        },
        "id": "r6DGJafCitMK",
        "outputId": "47667c6f-4032-4b92-bc7d-c5ad7104580d"
      },
      "outputs": [
        {
          "name": "stdout",
          "output_type": "stream",
          "text": [
            "2\n"
          ]
        }
      ],
      "source": [
        "set1 = {1,2,3}\n",
        "set2 = {5,2,9}\n",
        "print(*set1.intersection(set2))"
      ]
    },
    {
      "cell_type": "code",
      "execution_count": null,
      "metadata": {
        "colab": {
          "base_uri": "https://localhost:8080/"
        },
        "id": "GsKJpjArepZW",
        "outputId": "9e9c3ae9-4a1b-44cb-d0b2-3ed010fec3c1"
      },
      "outputs": [
        {
          "name": "stdout",
          "output_type": "stream",
          "text": [
            "10 20 30\n",
            "40 20 98\n",
            "20\n"
          ]
        }
      ],
      "source": [
        "number1 = set(input().split())\n",
        "number2 = set(input().split())\n",
        "n = number1.intersection(number2)\n",
        "print(*n)"
      ]
    },
    {
      "cell_type": "markdown",
      "metadata": {
        "id": "TFpjoXFPasZ3"
      },
      "source": [
        "Реализуйте следующую программу:\n",
        "\n",
        "* На первой строке через пробел вводятся названия стран — территории, которые хочет завоевать император А.\n",
        "* На второй строке через пробел вводятся названия стран — территории, которые хочет завоевать император В.\n",
        "* Гарантируется, что названия стран в каждой строке уникальные и что в каждой строке есть как минимум одно название страны.\n",
        "\n",
        "Выведите количество стран, территории которых хотят завоевать сразу оба императора."
      ]
    },
    {
      "cell_type": "markdown",
      "metadata": {
        "id": "g3Wl0xyVa3fV"
      },
      "source": [
        "![image.png](data:image/png;base64,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)"
      ]
    },
    {
      "cell_type": "code",
      "execution_count": null,
      "metadata": {
        "colab": {
          "base_uri": "https://localhost:8080/"
        },
        "id": "frZnjL5Jazut",
        "outputId": "df3c2289-e267-4bdb-8397-0c5b9b149361"
      },
      "outputs": [
        {
          "name": "stdout",
          "output_type": "stream",
          "text": [
            "a b n c\n",
            "p o b a\n",
            "2\n"
          ]
        }
      ],
      "source": [
        "a = set(input().split())\n",
        "b = set(input().split())\n",
        "n = len(a & b)\n",
        "print(n)"
      ]
    },
    {
      "cell_type": "markdown",
      "metadata": {
        "id": "RF5utboIbPxl"
      },
      "source": [
        "Реализуйте программу, которая поможет студентам выбрать наилучший учебник для подготовки к экзаменам.\n",
        "\n",
        "* На первой строке через запятую вводятся названия книг — рекомендованная литература от лектора.\n",
        "* На второй строке через запятую вводятся названия книг — рекомендованная литература от старшекурсников.\n",
        "* На третьей строке через запятую вводятся названия книг — литература по теме, которая есть в библиотеке.\n",
        "\n",
        "Гарантируется, что названия книг в каждой строке уникальные и что в каждой строке есть как минимум одно название книги.\n",
        "\n",
        "Выведите количество книг, которые рекомендовал лектор или старшекурсники (или рекомендовали все), и при этом эти книги есть в библиотеке."
      ]
    },
    {
      "cell_type": "code",
      "execution_count": null,
      "metadata": {
        "id": "PmUb7mSfbc3e"
      },
      "outputs": [],
      "source": [
        "a = set(input().split(','))\n",
        "b = set(input().split(','))\n",
        "c = set(input().split(','))\n",
        "n = (a | b) & c\n",
        "print(len(n))"
      ]
    },
    {
      "cell_type": "markdown",
      "metadata": {
        "id": "vDVRnodGbu0u"
      },
      "source": [
        "Реализуйте программу, которая печатает имена всех правителей определенной страны:\n",
        "\n",
        "* Дан словарь rulers, в котором ключи — имена правителей (строки), а значения — названия государств, где они правили (строки).\n",
        "\n",
        "* Вводится название интересующей нас страны.\n",
        "\n",
        "* Напечатайте имена всех правителей из словаря rulers, которые руководили интересующей нас страной, каждое с новой строки. Имена выводятся в том же порядке, в котором они хранятся в словаре.\n",
        "\n",
        "* Если таких правителей нет, то программа ничего не печатает."
      ]
    },
    {
      "cell_type": "code",
      "execution_count": null,
      "metadata": {
        "colab": {
          "base_uri": "https://localhost:8080/"
        },
        "id": "g4vHXwNXbxbd",
        "outputId": "b53415e7-bcbe-46a7-e63a-46ea562b59a8"
      },
      "outputs": [
        {
          "name": "stdout",
          "output_type": "stream",
          "text": [
            "Сёва\n",
            "Хэйсэй\n",
            "Мэйдзи\n",
            "\n",
            "Сёва\n",
            "Хэйсэй\n",
            "Мэйдзи\n"
          ]
        }
      ],
      "source": [
        "rulers = {'Ленин' : 'СССР', 'Брежнев' : 'СССР',\n",
        "          'Сёва' : 'Япония', 'Хэйсэй' : 'Япония',\n",
        "          'Мэйдзи': 'Япония', 'Пу И' : 'Китай',\n",
        "          'Гуансюй' : 'Китай', 'Умберто II' : 'Италия'}\n",
        "country = 'Япония' # input()\n",
        "for ruler, ruled_country in rulers.items():\n",
        "    if ruled_country==country:\n",
        "        print(ruler)\n",
        "\n",
        "for ruler in rulers.keys():\n",
        "    if rulers[ruler]==country:\n",
        "        print(ruler)"
      ]
    },
    {
      "cell_type": "markdown",
      "metadata": {
        "id": "aOhWz2WJcRqW"
      },
      "source": [
        "Реализуйте программу, находящую филиалы сети магазинов с высоким уровнем прибыли:\n",
        "\n",
        "* Дан словарь shops, в котором ключами являются названия магазинов (строки), а значениями — списки с суммами прибыли за последние 3 месяца (целые числа). Гарантируется, что названия магазинов не повторяются.\n",
        "* Вводится сумма прибыли, ниже которой содержание магазина становится нерентабельным.\n",
        "* Программа проверяет, была ли у магазина хотя бы в одном месяце слишком низкая прибыль (меньше  введенного значения), и выводит названия таких магазинов, каждое на новой строке. Если таких магазинов нет — программа ничего не выводит."
      ]
    },
    {
      "cell_type": "code",
      "execution_count": null,
      "metadata": {
        "id": "U5ys-DudcWAu"
      },
      "outputs": [],
      "source": [
        "shops = {'Монеточка': [6000, 4000, 2300],\n",
        "         'Дорожный': [6700, 4000, 2100],\n",
        "         'Букварь вкусов' : [10000, 8000, 6000],\n",
        "         'СладкоВилл' : [5000, 9000, 4000]}\n",
        "threshold = int(input())\n",
        "for shop, incomes in shops.items():\n",
        "    for income in incomes:\n",
        "        if income < threshold:\n",
        "            print(shop)\n",
        "            break"
      ]
    },
    {
      "cell_type": "markdown",
      "metadata": {
        "id": "_TjN4InQXzxM"
      },
      "source": [
        "2. Напишите программу на Python, которая считывает список чисел от пользователя и создает словарь, в котором ключи — это числа, а значения — количество раз, которое каждое число появляется в списке"
      ]
    },
    {
      "cell_type": "code",
      "execution_count": null,
      "metadata": {
        "colab": {
          "base_uri": "https://localhost:8080/"
        },
        "id": "1Ef2Evhdph1G",
        "outputId": "e2c1c73d-81e2-4e58-e272-26c6b8fd5c30"
      },
      "outputs": [
        {
          "name": "stdout",
          "output_type": "stream",
          "text": [
            "{200: 3, 300: 4, 500: 3}\n"
          ]
        }
      ],
      "source": [
        "number = list(map(int, '200 300 500 200 200 300 500 500 300 300'.split()))\n",
        "d = {}\n",
        "for i in range(len(number)):\n",
        "    if d.get(number[i])==None:\n",
        "        d[number[i]] = 1\n",
        "    else:\n",
        "        d[number[i]] += 1\n",
        "print(d)"
      ]
    },
    {
      "cell_type": "markdown",
      "metadata": {
        "id": "x9htPEWKr9kq"
      },
      "source": [
        "Дан список императоров, дан список дат правления дата-дата' '. вывести список императоров и их конец правления"
      ]
    },
    {
      "cell_type": "code",
      "execution_count": null,
      "metadata": {
        "colab": {
          "base_uri": "https://localhost:8080/"
        },
        "id": "6RMimX8wphO1",
        "outputId": "19286450-dc3b-4a86-9009-3791f2657101"
      },
      "outputs": [
        {
          "name": "stdout",
          "output_type": "stream",
          "text": [
            "A: 2000\n",
            "B: 3000\n",
            "C: 6000\n"
          ]
        }
      ],
      "source": [
        "emperors = 'A B C'\n",
        "dates = '1000-2000 1500-3000 4000-6000'\n",
        "splitted_emperors = emperors.split()\n",
        "splitted_dates = dates.split()\n",
        "for i in range(len(splitted_emperors)):\n",
        "    date = splitted_dates[i].split('-')[-1]\n",
        "    name = splitted_emperors[i]\n",
        "    print(f'{name}: {date}')"
      ]
    },
    {
      "cell_type": "code",
      "execution_count": null,
      "metadata": {
        "colab": {
          "base_uri": "https://localhost:8080/"
        },
        "id": "cIHcfR-MuuSW",
        "outputId": "ded4f065-1610-4a88-9569-5c37a6bc6fa2"
      },
      "outputs": [
        {
          "data": {
            "text/plain": [
              "['1000-2000', '1500-3000', '4000-6000']"
            ]
          },
          "execution_count": 49,
          "metadata": {},
          "output_type": "execute_result"
        }
      ],
      "source": [
        "splitted_dates"
      ]
    },
    {
      "cell_type": "code",
      "execution_count": null,
      "metadata": {
        "colab": {
          "base_uri": "https://localhost:8080/"
        },
        "id": "uZkPvxREX57_",
        "outputId": "9020860a-9709-49c8-a31a-3f15e9108cf2"
      },
      "outputs": [
        {
          "name": "stdout",
          "output_type": "stream",
          "text": [
            "1 2 3 4 5 6 6 4 2\n"
          ]
        }
      ],
      "source": [
        "a = input().split()\n",
        "for i in range(len(a)):\n",
        "  a[i] = int(a[i])\n",
        "counter = {}\n",
        "for n in a:\n",
        "  counter[n] = counter.get(n, 0) + 1"
      ]
    },
    {
      "cell_type": "markdown",
      "metadata": {
        "id": "HjttP5krX1P-"
      },
      "source": [
        "3. Найдите список всех ключей в словаре, имеющих заданное значение"
      ]
    },
    {
      "cell_type": "code",
      "execution_count": null,
      "metadata": {
        "colab": {
          "base_uri": "https://localhost:8080/"
        },
        "id": "Xrj-k2A0X6WB",
        "outputId": "0261fb0e-800b-4f96-814d-11d68c32f966"
      },
      "outputs": [
        {
          "name": "stdout",
          "output_type": "stream",
          "text": [
            "4\n",
            "5\n"
          ]
        }
      ],
      "source": [
        "x = {1: 2, 2: 3, 4: 4, 5: 4}\n",
        "v = 4\n",
        "\n",
        "for key, value in x.items():\n",
        "  if value == v:\n",
        "    print(key)"
      ]
    },
    {
      "cell_type": "markdown",
      "metadata": {
        "id": "sJt67womX1XA"
      },
      "source": [
        "4. Напишите программу на Python, которая считывает строку от пользователя и выводит количество вхождений каждого символа в строку, используя словарь."
      ]
    },
    {
      "cell_type": "code",
      "execution_count": null,
      "metadata": {
        "colab": {
          "base_uri": "https://localhost:8080/"
        },
        "id": "R2QjdL0pX6qo",
        "outputId": "f10882e8-cdee-45e7-9c71-bb612d37eee3"
      },
      "outputs": [
        {
          "name": "stdout",
          "output_type": "stream",
          "text": [
            "hello\n"
          ]
        },
        {
          "data": {
            "text/plain": [
              "{'h': 1, 'e': 1, 'l': 2, 'o': 1}"
            ]
          },
          "execution_count": 49,
          "metadata": {},
          "output_type": "execute_result"
        }
      ],
      "source": [
        "a = input()\n",
        "counter = {}\n",
        "for n in a:\n",
        "  counter[n] = counter.get(n, 0) + 1\n",
        "counter"
      ]
    },
    {
      "cell_type": "markdown",
      "metadata": {
        "id": "NwIVisAuX38K"
      },
      "source": [
        "5. Напишите программу на Python, которая считывает список слов от пользователя и создает набор, содержащий только уникальные слова из списка, отсортированные в алфавитном порядке."
      ]
    },
    {
      "cell_type": "code",
      "execution_count": null,
      "metadata": {
        "id": "S0wIKb0JXuYv"
      },
      "outputs": [],
      "source": []
    },
    {
      "cell_type": "markdown",
      "metadata": {
        "id": "Q498q4Y8v8CM"
      },
      "source": [
        "Реализуйте программу, которая печатает только года, которые больше определенного значения:\n",
        "* На первой строке через пробел вводятся года.\n",
        "* На второй строке вводится интересующее нас значение (целое число).\n",
        "* Программа печатает только те года, которые больше заданного значения.\n",
        "* Если таких годов нет, то программа ничего не печатает."
      ]
    },
    {
      "cell_type": "code",
      "execution_count": null,
      "metadata": {
        "id": "steeG8GOwBOG"
      },
      "outputs": [],
      "source": [
        "years = input().split()\n",
        "num = int(input())\n",
        "for year in years:\n",
        "    if int(year)>num:\n",
        "        print(year)"
      ]
    }
  ],
  "metadata": {
    "colab": {
      "provenance": []
    },
    "kernelspec": {
      "display_name": "Python 3",
      "name": "python3"
    },
    "language_info": {
      "codemirror_mode": {
        "name": "ipython",
        "version": 3
      },
      "file_extension": ".py",
      "mimetype": "text/x-python",
      "name": "python",
      "nbconvert_exporter": "python",
      "pygments_lexer": "ipython3",
      "version": "3.10.11"
    }
  },
  "nbformat": 4,
  "nbformat_minor": 0
}
